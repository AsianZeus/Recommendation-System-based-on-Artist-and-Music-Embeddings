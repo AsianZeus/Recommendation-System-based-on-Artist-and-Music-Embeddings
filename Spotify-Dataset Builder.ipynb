{
 "cells": [
  {
   "cell_type": "markdown",
   "metadata": {},
   "source": [
    "## Authentication"
   ]
  },
  {
   "cell_type": "code",
   "execution_count": 1,
   "metadata": {},
   "outputs": [],
   "source": [
    "import spotipy\n",
    "from spotipy.oauth2 import SpotifyClientCredentials\n",
    "import spotipy.util as util\n",
    "import tqdm"
   ]
  },
  {
   "cell_type": "code",
   "execution_count": 2,
   "metadata": {},
   "outputs": [],
   "source": [
    "cid = \"XXXXXXXXXXXXXXXXXXXXXXXXXXXXXXXX\"\n",
    "secret = \"XXXXXXXXXXXXXXXXXXXXXXXXXXXXXXXX\"\n",
    "redirect_uri = \"https://www.xxxxxxxx.com\"\n",
    "username = \"xxxxxxxxxxx\""
   ]
  },
  {
   "cell_type": "code",
   "execution_count": 3,
   "metadata": {},
   "outputs": [],
   "source": [
    "client_credentials_manager = SpotifyClientCredentials(client_id=cid, client_secret=secret) \n",
    "sp = spotipy.Spotify(client_credentials_manager=client_credentials_manager)\n",
    "scope = 'user-library-read playlist-read-private'\n",
    "\n",
    "token = util.prompt_for_user_token(username=username,scope=scope,client_id=cid,client_secret=secret,redirect_uri=redirect_uri)\n",
    "spotify = spotipy.Spotify(auth=token)"
   ]
  },
  {
   "cell_type": "markdown",
   "metadata": {},
   "source": [
    "## Spotify Playlist Extraction"
   ]
  },
  {
   "cell_type": "code",
   "execution_count": null,
   "metadata": {},
   "outputs": [],
   "source": [
    "playlists = sp.user_playlists(username)\n",
    "while playlists:\n",
    "    for i, playlist in enumerate(playlists['items']):\n",
    "        print(\"%4d %s %s\" % (i + 1 + playlists['offset'], playlist['uri'],  playlist['name']))\n",
    "    if playlists['next']:\n",
    "        playlists = sp.next(playlists)\n",
    "    else:\n",
    "        playlists = None"
   ]
  },
  {
   "cell_type": "code",
   "execution_count": null,
   "metadata": {},
   "outputs": [],
   "source": [
    "spotify.artist_related_artists('57VgMJ0yUybcQIppZESbw2')"
   ]
  },
  {
   "cell_type": "code",
   "execution_count": null,
   "metadata": {},
   "outputs": [],
   "source": [
    "results = spotify.current_user_saved_tracks(offset=1699, limit=20)"
   ]
  },
  {
   "cell_type": "code",
   "execution_count": null,
   "metadata": {},
   "outputs": [],
   "source": [
    "results = spotify.current_user_saved_tracks(offset=1360, limit=20)"
   ]
  },
  {
   "cell_type": "code",
   "execution_count": null,
   "metadata": {},
   "outputs": [],
   "source": [
    "import time\n",
    "all_tracks = []\n",
    "total_songs = 1367\n",
    "for offset in range(0, total_songs, 20):\n",
    "    results = spotify.current_user_saved_tracks(offset=offset, limit=20)\n",
    "    for idx, item in enumerate(results['items']):\n",
    "        track = item['track']\n",
    "        all_tracks.append( ([ar['id'] for ar in track['artists']], track['id']) )\n",
    "    time.sleep(10)"
   ]
  },
  {
   "cell_type": "code",
   "execution_count": null,
   "metadata": {},
   "outputs": [],
   "source": [
    "len(all_tracks)"
   ]
  },
  {
   "cell_type": "code",
   "execution_count": null,
   "metadata": {},
   "outputs": [],
   "source": [
    "import pickle\n",
    "with open('all_tracks.pkl', 'wb') as f:\n",
    "    pickle.dump(all_tracks, f)"
   ]
  },
  {
   "cell_type": "code",
   "execution_count": null,
   "metadata": {},
   "outputs": [],
   "source": [
    "artists = set()\n",
    "for track in tqdm.tqdm(all_tracks):\n",
    "    for artist in track[0]:\n",
    "        artists.add(artist)"
   ]
  },
  {
   "cell_type": "code",
   "execution_count": null,
   "metadata": {},
   "outputs": [],
   "source": [
    "len(artists)"
   ]
  },
  {
   "cell_type": "code",
   "execution_count": null,
   "metadata": {},
   "outputs": [],
   "source": [
    "playlist_arr = [\"xxxxxxxxxxxxxx\",\"xxxxxxxxxxxxxx\",\"xxxxxxxxxxxxxx\",\"xxxxxxxxxxxxxx\",\"xxxxxxxxxxxxxx\",\"xxxxxxxxxxxxxx\",\"xxxxxxxxxxxxxx\",\"xxxxxxxxxxxxxx\",\"xxxxxxxxxxxxxx\",\"xxxxxxxxxxxxxx\",]"
   ]
  },
  {
   "cell_type": "markdown",
   "metadata": {},
   "source": [
    "## Playlist Track Extraction"
   ]
  },
  {
   "cell_type": "code",
   "execution_count": null,
   "metadata": {},
   "outputs": [],
   "source": [
    "import time\n",
    "limit = 80\n",
    "other_tracks = []\n",
    "for playlist in playlist_arr:\n",
    "    for offset in range(0, 1200, limit):\n",
    "        sourcePlaylist = sp.playlist_items(playlist_id=playlist, limit=limit, offset=offset)\n",
    "        for track in sourcePlaylist['items']:\n",
    "            track = track['track']\n",
    "            try:\n",
    "                other_tracks.append(([artist['id'] for artist in track['artists']], track['id']))\n",
    "            except:\n",
    "                pass\n",
    "    time.sleep(5)"
   ]
  },
  {
   "cell_type": "code",
   "execution_count": null,
   "metadata": {},
   "outputs": [],
   "source": [
    "len(other_tracks)"
   ]
  },
  {
   "cell_type": "code",
   "execution_count": null,
   "metadata": {},
   "outputs": [],
   "source": [
    "import pickle\n",
    "with open('other_tracks.pkl', 'wb') as f:\n",
    "    pickle.dump(other_tracks, f)"
   ]
  },
  {
   "cell_type": "code",
   "execution_count": null,
   "metadata": {},
   "outputs": [],
   "source": [
    "bollywood = pickle.load(open('bollywood.pkl', 'rb'))\n",
    "global_aesthetic_vibes = pickle.load(open('global_aesthetic_vibes.pkl', 'rb'))\n",
    "dancinvibe = pickle.load(open('dancinvibe.pkl', 'rb'))\n",
    "hiphoptimefreeze = pickle.load(open('hiphoptimefreeze.pkl', 'rb'))\n",
    "lofivibe = pickle.load(open('lofivibe.pkl', 'rb'))\n",
    "pop_vibecheck = pickle.load(open('pop_vibecheck.pkl', 'rb'))\n",
    "all_liked_tracks = pickle.load(open('all_liked_tracks.pkl', 'rb'))\n",
    "other_tracks = pickle.load(open('other_tracks.pkl', 'rb'))"
   ]
  },
  {
   "cell_type": "code",
   "execution_count": null,
   "metadata": {},
   "outputs": [],
   "source": [
    "all_tracks = []\n",
    "all_tracks.extend(bollywood)\n",
    "all_tracks.extend(global_aesthetic_vibes)\n",
    "all_tracks.extend(dancinvibe)\n",
    "all_tracks.extend(hiphoptimefreeze)\n",
    "all_tracks.extend(lofivibe)\n",
    "all_tracks.extend(pop_vibecheck)\n",
    "all_tracks.extend(all_liked_tracks)\n",
    "all_tracks.extend(other_tracks)\n",
    "len(all_tracks)"
   ]
  },
  {
   "cell_type": "markdown",
   "metadata": {},
   "source": [
    "## Similar Artist Search"
   ]
  },
  {
   "cell_type": "code",
   "execution_count": null,
   "metadata": {},
   "outputs": [],
   "source": [
    "artists = set()\n",
    "for track in tqdm.tqdm(all_tracks):\n",
    "    for artist in track[0]:\n",
    "        artists.add(artist)"
   ]
  },
  {
   "cell_type": "code",
   "execution_count": null,
   "metadata": {},
   "outputs": [],
   "source": [
    "len(artists)"
   ]
  },
  {
   "cell_type": "code",
   "execution_count": null,
   "metadata": {},
   "outputs": [],
   "source": [
    "similar_artists = {}\n",
    "for artist in tqdm.tqdm(artists):\n",
    "    try:\n",
    "        tx = sp.artist_related_artists(artist)\n",
    "    except:\n",
    "        continue\n",
    "    temp =[]\n",
    "    for i in range(len(tx['artists'])):\n",
    "        try:\n",
    "            temp.append(tx['artists'][i]['id'])\n",
    "        except:\n",
    "            print(artist, i, tx)\n",
    "            break\n",
    "    similar_artists[artist] = temp"
   ]
  },
  {
   "cell_type": "code",
   "execution_count": null,
   "metadata": {},
   "outputs": [],
   "source": [
    "for i in similar_artists.items():\n",
    "    if not i[1]:\n",
    "        print(i[0])"
   ]
  },
  {
   "cell_type": "code",
   "execution_count": null,
   "metadata": {},
   "outputs": [],
   "source": [
    "pickle.dump(similar_artists, open('similar_artists.pkl', 'wb'))"
   ]
  },
  {
   "cell_type": "code",
   "execution_count": null,
   "metadata": {},
   "outputs": [],
   "source": [
    "all_artists = set()\n",
    "for i in similar_artists.items():\n",
    "    all_artists.add(i[0])\n",
    "    for artist in i[1]:\n",
    "        all_artists.add(artist)"
   ]
  },
  {
   "cell_type": "code",
   "execution_count": null,
   "metadata": {},
   "outputs": [],
   "source": [
    "len(all_artists)"
   ]
  },
  {
   "cell_type": "code",
   "execution_count": null,
   "metadata": {},
   "outputs": [],
   "source": [
    "similar_all_artists = {}\n",
    "for artist in tqdm.tqdm(all_artists):\n",
    "    try:\n",
    "        tx = sp.artist_related_artists(artist)\n",
    "    except:\n",
    "        continue\n",
    "    temp =[]\n",
    "    for i in range(len(tx['artists'])):\n",
    "        try:\n",
    "            temp.append(tx['artists'][i]['id'])\n",
    "        except:\n",
    "            print(artist, i, tx)\n",
    "            break\n",
    "    similar_all_artists[artist] = temp"
   ]
  },
  {
   "cell_type": "code",
   "execution_count": null,
   "metadata": {},
   "outputs": [],
   "source": [
    "pickle.dump(similar_all_artists, open('similar_all_artists.pkl', 'wb'))"
   ]
  },
  {
   "cell_type": "code",
   "execution_count": null,
   "metadata": {},
   "outputs": [],
   "source": [
    "final_all_artists = set()\n",
    "for i in similar_all_artists.items():\n",
    "    final_all_artists.add(i[0])\n",
    "    for artist in i[1]:\n",
    "        final_all_artists.add(artist)"
   ]
  },
  {
   "cell_type": "code",
   "execution_count": null,
   "metadata": {},
   "outputs": [],
   "source": [
    "len(final_all_artists)"
   ]
  },
  {
   "cell_type": "code",
   "execution_count": null,
   "metadata": {},
   "outputs": [],
   "source": [
    "pickle.dump(final_all_artists, open('final_all_artists.pkl', 'wb'))"
   ]
  },
  {
   "cell_type": "markdown",
   "metadata": {},
   "source": [
    "## Artist's Top Tracks"
   ]
  },
  {
   "cell_type": "code",
   "execution_count": null,
   "metadata": {},
   "outputs": [],
   "source": [
    "x  = sp.artist_top_tracks(artist)"
   ]
  },
  {
   "cell_type": "code",
   "execution_count": null,
   "metadata": {},
   "outputs": [],
   "source": [
    "[i['name'] for i in x['tracks'] ] "
   ]
  },
  {
   "cell_type": "code",
   "execution_count": null,
   "metadata": {},
   "outputs": [],
   "source": [
    "import pickle\n",
    "final_all_artists = pickle.load(open('final_all_artists.pkl', 'rb'))"
   ]
  },
  {
   "cell_type": "code",
   "execution_count": null,
   "metadata": {},
   "outputs": [],
   "source": [
    "def get_artist_top_tracks(artist):\n",
    "    while True:\n",
    "        try:\n",
    "            top_tracks = sp.artist_top_tracks(artist)\n",
    "            for track in top_tracks['tracks']:\n",
    "                artist_top_tracks[artist] = track['id']\n",
    "            return artist_top_tracks\n",
    "        except:\n",
    "            time.sleep(3)"
   ]
  },
  {
   "cell_type": "code",
   "execution_count": null,
   "metadata": {},
   "outputs": [],
   "source": [
    "artist = list(final_all_artists)[0]\n",
    "sp.artist_top_tracks(artist)\n",
    "# [track['id'] for track in tt['tracks']]"
   ]
  },
  {
   "cell_type": "code",
   "execution_count": null,
   "metadata": {},
   "outputs": [],
   "source": [
    "import time\n",
    "artist_top_tracks = {}\n",
    "for count,artist in enumerate(final_all_artists):\n",
    "    try:\n",
    "        top_tracks  = sp.artist_top_tracks(artist)\n",
    "        for track in top_tracks['tracks']:\n",
    "            artist_top_tracks[artist] = track['id']\n",
    "        print(\"out of try\")\n",
    "    except:\n",
    "        print('Time Out Error')\n",
    "        time.sleep(3)\n",
    "        print('Trying Again...')\n",
    "    print(count)\n",
    "    # if count%50==0:\n",
    "    #     print(f\"{count} Artists Processed\")"
   ]
  },
  {
   "cell_type": "code",
   "execution_count": null,
   "metadata": {},
   "outputs": [],
   "source": [
    "import pickle\n",
    "similar_all_artists = pickle.load(open('similar_all_artists.pkl', 'rb'))"
   ]
  },
  {
   "cell_type": "code",
   "execution_count": null,
   "metadata": {},
   "outputs": [],
   "source": [
    "final_all_artists = list(final_all_artists)\n",
    "import pandas as pd\n",
    "df = pd.DataFrame({\"id\":list(range(1, len(final_all_artists)+1)),\"artist_id\":final_all_artists})\n",
    "df.to_csv('artists2id.dat', index=False)\n"
   ]
  },
  {
   "cell_type": "code",
   "execution_count": null,
   "metadata": {},
   "outputs": [],
   "source": [
    "import pickle\n",
    "one = pickle.load(open(\"top_tracks/artist_top_tracks-1.pkl\", \"rb\"))\n",
    "two = pickle.load(open(\"top_tracks/artist_top_tracks-2.pkl\", \"rb\"))\n",
    "three = pickle.load(open(\"top_tracks/artist_top_tracks-3.pkl\", \"rb\"))"
   ]
  },
  {
   "cell_type": "code",
   "execution_count": null,
   "metadata": {},
   "outputs": [],
   "source": [
    "bollywood = pickle.load(open('bollywood.pkl', 'rb'))\n",
    "global_aesthetic_vibes = pickle.load(open('global_aesthetic_vibes.pkl', 'rb'))\n",
    "dancinvibe = pickle.load(open('dancinvibe.pkl', 'rb'))\n",
    "hiphoptimefreeze = pickle.load(open('hiphoptimefreeze.pkl', 'rb'))\n",
    "lofivibe = pickle.load(open('lofivibe.pkl', 'rb'))\n",
    "pop_vibecheck = pickle.load(open('pop_vibecheck.pkl', 'rb'))\n",
    "all_liked_tracks = pickle.load(open('all_liked_tracks.pkl', 'rb'))\n",
    "other_tracks = pickle.load(open('other_tracks.pkl', 'rb'))"
   ]
  },
  {
   "cell_type": "code",
   "execution_count": null,
   "metadata": {},
   "outputs": [],
   "source": [
    "artist_track = []\n",
    "for j in [bollywood, global_aesthetic_vibes, dancinvibe, hiphoptimefreeze, lofivibe, pop_vibecheck, all_liked_tracks, other_tracks]:\n",
    "    for data in j:\n",
    "        track = data[1]\n",
    "        for artist in data[0]:\n",
    "            artist_track.append((artist,track))"
   ]
  },
  {
   "cell_type": "code",
   "execution_count": null,
   "metadata": {},
   "outputs": [],
   "source": [
    "for j in [one,two,three]:\n",
    "    for data in j.items():\n",
    "        artist = data[0]\n",
    "        for track in data[1]:\n",
    "            artist_track.append((artist,track))"
   ]
  },
  {
   "cell_type": "code",
   "execution_count": null,
   "metadata": {},
   "outputs": [],
   "source": [
    "len(set(artist_track))\n",
    "pickle.dump(artist_track, open('artist_track.pkl', 'wb'))"
   ]
  },
  {
   "cell_type": "markdown",
   "metadata": {},
   "source": [
    "## Spotify Artist's Album Extraction"
   ]
  },
  {
   "cell_type": "code",
   "execution_count": null,
   "metadata": {},
   "outputs": [],
   "source": [
    "import pickle\n",
    "final_all_artists = pickle.load(open('final_all_artists.pkl', 'rb'))"
   ]
  },
  {
   "cell_type": "code",
   "execution_count": null,
   "metadata": {},
   "outputs": [],
   "source": [
    "artist_albums = pickle.load(open('artist_albums.pkl', 'rb'))"
   ]
  },
  {
   "cell_type": "code",
   "execution_count": null,
   "metadata": {},
   "outputs": [],
   "source": [
    "remaining_artist_list =  list( final_all_artists.difference(set(artist_albums.keys())) ) "
   ]
  },
  {
   "cell_type": "code",
   "execution_count": null,
   "metadata": {},
   "outputs": [],
   "source": [
    "pickle.dump(remaining_artist_list, open('artists_list.pkl', 'wb'))"
   ]
  },
  {
   "cell_type": "code",
   "execution_count": null,
   "metadata": {},
   "outputs": [],
   "source": [
    "len(final_all_artists)"
   ]
  },
  {
   "cell_type": "code",
   "execution_count": null,
   "metadata": {},
   "outputs": [],
   "source": [
    "import math\n",
    "def get_total(x):\n",
    "    return math.ceil(x/10)*10"
   ]
  },
  {
   "cell_type": "code",
   "execution_count": null,
   "metadata": {},
   "outputs": [],
   "source": [
    "import pickle\n",
    "final_all_artists = pickle.load(open('artists_list.pkl', 'rb'))\n",
    "artist_albums = pickle.load(open('artist_albums__.pkl', 'rb'))"
   ]
  },
  {
   "cell_type": "code",
   "execution_count": null,
   "metadata": {},
   "outputs": [],
   "source": [
    "album_limit = 20\n",
    "tracks_limit = 50\n",
    "\n",
    "# artist_albums = {}\n",
    "\n",
    "for artist_id in tqdm.tqdm(final_all_artists[27747:30001]):\n",
    "    total_albums = spotify.artist_albums(artist_id=artist_id, limit=1)['total']\n",
    "    albums = []\n",
    "    for i in range(0, total_albums, album_limit):\n",
    "        artistAlbums = spotify.artist_albums(artist_id=artist_id, limit=album_limit, offset=i)\n",
    "        for i in range(get_total(total_albums)):\n",
    "            try:\n",
    "                albums.append(artistAlbums['items'][i]['id'])\n",
    "            except IndexError:\n",
    "                break\n",
    "    artist_albums[artist_id] = {\"total_albums\": total_albums, \"albums\": albums}"
   ]
  },
  {
   "cell_type": "code",
   "execution_count": null,
   "metadata": {},
   "outputs": [],
   "source": [
    "import pickle\n",
    "artist_albums = {}\n",
    "for i in range(1,14):\n",
    "    path = f'artist_album/ArtistAlbums_{i}.pkl'\n",
    "    artist_albums.update(pickle.load(open(path, 'rb')))"
   ]
  },
  {
   "cell_type": "code",
   "execution_count": null,
   "metadata": {},
   "outputs": [],
   "source": [
    "len(artist_albums)"
   ]
  },
  {
   "cell_type": "code",
   "execution_count": null,
   "metadata": {},
   "outputs": [],
   "source": [
    "pickle.dump(artist_albums, open('all_artist_albums.pkl', 'wb'))"
   ]
  },
  {
   "cell_type": "markdown",
   "metadata": {},
   "source": [
    "## Spotify Album's Track Extraction"
   ]
  },
  {
   "cell_type": "code",
   "execution_count": null,
   "metadata": {},
   "outputs": [],
   "source": [
    "import pickle\n",
    "artist_albums = pickle.load(open('all_artist_albums.pkl', 'rb'))"
   ]
  },
  {
   "cell_type": "code",
   "execution_count": null,
   "metadata": {},
   "outputs": [],
   "source": [
    "tracks_limit = 50\n",
    "artist_album_tracks = {}\n",
    "\n",
    "for artist, albums_data in tqdm.tqdm(artist_albums.items()):\n",
    "    total_albums = albums_data['total_albums']\n",
    "    album_track = {}\n",
    "    for album_id in albums_data['albums']:\n",
    "        temp_album_tracks = []\n",
    "        tracks = []\n",
    "        offset = 0\n",
    "        current_limit = tracks_limit\n",
    "        while True:\n",
    "            temp_album_tracks.append(spotify.album_tracks(album_id, limit=tracks_limit, offset=offset))\n",
    "            for tracxs in temp_album_tracks[-1]['items']:\n",
    "                tracks.append(tracxs['id'])\n",
    "            total_tracks = temp_album_tracks[-1]['total']\n",
    "            if total_tracks > current_limit:\n",
    "                offset += tracks_limit\n",
    "                current_limit += tracks_limit\n",
    "            else:\n",
    "                break\n",
    "        album_track[album_id] = tracks\n",
    "    artist_album_tracks[artist] = album_track"
   ]
  },
  {
   "cell_type": "code",
   "execution_count": null,
   "metadata": {},
   "outputs": [],
   "source": [
    "pickle.dump(artist_album_tracks, open('artist_album_tracks/107.pkl', 'wb'))"
   ]
  },
  {
   "cell_type": "code",
   "execution_count": null,
   "metadata": {},
   "outputs": [],
   "source": [
    "artist_album_tracks"
   ]
  },
  {
   "cell_type": "markdown",
   "metadata": {},
   "source": [
    "## Segment Albums for parallel extraction"
   ]
  },
  {
   "cell_type": "code",
   "execution_count": null,
   "metadata": {},
   "outputs": [],
   "source": [
    "import pickle\n",
    "artist_album_tracks = pickle.load(open('artist_album_tracks_added.pkl', 'rb'))\n",
    "artist_albums = pickle.load(open('all_artist_albums.pkl', 'rb'))"
   ]
  },
  {
   "cell_type": "code",
   "execution_count": null,
   "metadata": {},
   "outputs": [],
   "source": [
    "len(artist_album_tracks), len(artist_albums)"
   ]
  },
  {
   "cell_type": "code",
   "execution_count": null,
   "metadata": {},
   "outputs": [],
   "source": [
    "new_artist_albums = {}\n",
    "for artist, albums_data in artist_albums.items():\n",
    "    if artist not in list(artist_album_tracks.keys()):\n",
    "        new_artist_albums[artist] = albums_data"
   ]
  },
  {
   "cell_type": "code",
   "execution_count": null,
   "metadata": {},
   "outputs": [],
   "source": [
    "len(new_artist_albums)"
   ]
  },
  {
   "cell_type": "code",
   "execution_count": null,
   "metadata": {},
   "outputs": [],
   "source": [
    "def split_dict(d, n):\n",
    "    keys = list(d.keys())\n",
    "    for i in range(0, len(keys), n):\n",
    "        yield {k: d[k] for k in keys[i: i + n]}\n",
    "\n",
    "\n",
    "for item in split_dict(new_artist_albums, 350):\n",
    "    print(item.keys())"
   ]
  },
  {
   "cell_type": "markdown",
   "metadata": {},
   "source": [
    "## spotify Tracks normalization"
   ]
  },
  {
   "cell_type": "code",
   "execution_count": 169,
   "metadata": {},
   "outputs": [],
   "source": [
    "import pickle\n",
    "artist_album_tracks = pickle.load(open('artist_album_tracks_added.pkl', 'rb'))"
   ]
  },
  {
   "cell_type": "code",
   "execution_count": 170,
   "metadata": {},
   "outputs": [],
   "source": [
    "tracks_artist = {}\n",
    "for artist, albums_data in artist_album_tracks.items():\n",
    "    for album_id, tracks in albums_data.items():\n",
    "        for track in tracks:\n",
    "            tracks_artist[track] = artist"
   ]
  },
  {
   "cell_type": "markdown",
   "metadata": {},
   "source": [
    "## Spotify Track Features Extraction"
   ]
  },
  {
   "cell_type": "code",
   "execution_count": 171,
   "metadata": {},
   "outputs": [],
   "source": [
    "all_tracks = list(tracks_artist.keys())"
   ]
  },
  {
   "cell_type": "code",
   "execution_count": 172,
   "metadata": {},
   "outputs": [
    {
     "data": {
      "text/plain": [
       "1560552"
      ]
     },
     "execution_count": 172,
     "metadata": {},
     "output_type": "execute_result"
    }
   ],
   "source": [
    "len(all_tracks)"
   ]
  },
  {
   "cell_type": "code",
   "execution_count": 177,
   "metadata": {},
   "outputs": [],
   "source": [
    "y = sp.audio_features(all_tracks[0])\n",
    "\n",
    "x =sp.track(all_tracks[0])"
   ]
  },
  {
   "cell_type": "code",
   "execution_count": 194,
   "metadata": {},
   "outputs": [],
   "source": [
    "genres= ['acoustic','afrobeat','alt-rock','alternative','ambient','anime','black-metal','bluegrass','blues','bossanova','brazil','breakbeat','british','cantopop','chicago-house','children','chill','classical','club','comedy','country','dance','dancehall','death-metal','deep-house','detroit-techno','disco','disney','drum-and-bass','dub','dubstep','edm','electro','electronic','emo','folk','forro','french','funk','garage','german','gospel','goth','grindcore','groove','grunge','guitar','happy','hard-rock','hardcore','hardstyle','heavy-metal','hip-hop','holidays','honky-tonk','house','idm','indian','indie','indie-pop','industrial','iranian','j-dance','j-idol','j-pop','j-rock','jazz','k-pop','kids','latin','latino','malay','mandopop','metal','metal-misc','metalcore','minimal-techno','movies','mpb','new-age','new-release','opera','pagode','party','philippines-opm','piano','pop','pop-film','post-dubstep','power-pop','progressive-house','psych-rock','punk','punk-rock','r-n-b','rainy-day','reggae','reggaeton','road-trip','rock','rock-n-roll','rockabilly','romance','sad','salsa','samba','sertanejo','show-tunes','singer-songwriter','ska','sleep','songwriter','soul','soundtracks','spanish','study','summer','swedish','synth-pop','tango','techno','trance','trip-hop','turkish','work-out','world-music']"
   ]
  },
  {
   "cell_type": "code",
   "execution_count": 198,
   "metadata": {},
   "outputs": [],
   "source": [
    "z = sp.audio_analysis(all_tracks[0])"
   ]
  },
  {
   "cell_type": "code",
   "execution_count": 215,
   "metadata": {},
   "outputs": [],
   "source": [
    "cat = sp.categories()['categories']"
   ]
  },
  {
   "cell_type": "code",
   "execution_count": 220,
   "metadata": {},
   "outputs": [
    {
     "data": {
      "text/plain": [
       "'toplists'"
      ]
     },
     "execution_count": 220,
     "metadata": {},
     "output_type": "execute_result"
    }
   ],
   "source": [
    "cat['items'][0]['id']"
   ]
  },
  {
   "cell_type": "code",
   "execution_count": 189,
   "metadata": {},
   "outputs": [
    {
     "data": {
      "text/plain": [
       "dict_keys(['album', 'artists', 'available_markets', 'disc_number', 'duration_ms', 'explicit', 'external_ids', 'external_urls', 'href', 'id', 'is_local', 'name', 'popularity', 'preview_url', 'track_number', 'type', 'uri'])"
      ]
     },
     "execution_count": 189,
     "metadata": {},
     "output_type": "execute_result"
    }
   ],
   "source": [
    "z['tracks'][0].keys()"
   ]
  },
  {
   "cell_type": "code",
   "execution_count": 179,
   "metadata": {},
   "outputs": [
    {
     "data": {
      "text/plain": [
       "dict_keys(['danceability', 'energy', 'key', 'loudness', 'mode', 'speechiness', 'acousticness', 'instrumentalness', 'liveness', 'valence', 'tempo', 'type', 'id', 'uri', 'track_href', 'analysis_url', 'duration_ms', 'time_signature'])"
      ]
     },
     "execution_count": 179,
     "metadata": {},
     "output_type": "execute_result"
    }
   ],
   "source": [
    "# x.keys()\n",
    "\n",
    "y[0].keys()"
   ]
  },
  {
   "cell_type": "code",
   "execution_count": 8,
   "metadata": {},
   "outputs": [
    {
     "name": "stderr",
     "output_type": "stream",
     "text": [
      "100%|██████████| 15606/15606 [1:27:45<00:00,  2.96it/s]\n"
     ]
    }
   ],
   "source": [
    "limit = 100\n",
    "features = []\n",
    "for offset in tqdm.tqdm(range(0,len(all_tracks),limit )):\n",
    "    tracks = all_tracks[offset:offset+limit]\n",
    "    try:\n",
    "        features.append(sp.audio_features(tracks))\n",
    "    except:\n",
    "        continue"
   ]
  },
  {
   "cell_type": "code",
   "execution_count": 16,
   "metadata": {},
   "outputs": [],
   "source": [
    "f_ = ['danceability','energy','key','loudness','speechiness','acousticness','instrumentalness','liveness','valence','tempo']\n",
    "track_features = {}\n",
    "for fs in features:\n",
    "    for feature in fs:\n",
    "        try:\n",
    "            track_features[feature['id']] = {f:feature[f] for f in f_}\n",
    "        except:\n",
    "            pass"
   ]
  },
  {
   "cell_type": "code",
   "execution_count": 28,
   "metadata": {},
   "outputs": [],
   "source": [
    "pickle.dump(track_features, open('track_features_new.pkl', 'wb'))"
   ]
  },
  {
   "cell_type": "code",
   "execution_count": 24,
   "metadata": {},
   "outputs": [],
   "source": [
    "for artist, albums_data in artist_album_tracks.items():\n",
    "    for album_id, tracks in albums_data.items():\n",
    "        for track_index in range(len(tracks)):\n",
    "            try:\n",
    "                artist_album_tracks[artist][album_id][track_index] = track_features[tracks[track_index]]\n",
    "            except:\n",
    "                pass"
   ]
  },
  {
   "cell_type": "code",
   "execution_count": 26,
   "metadata": {},
   "outputs": [],
   "source": [
    "pickle.dump(artist_album_tracks, open('artist_album_tracks_TRAIN.pkl', 'wb'))"
   ]
  },
  {
   "cell_type": "markdown",
   "metadata": {},
   "source": [
    "## Dataset Preprocessing"
   ]
  },
  {
   "cell_type": "code",
   "execution_count": 1,
   "metadata": {},
   "outputs": [],
   "source": [
    "import pickle\n",
    "artist_album_tracks = pickle.load(open('artist_album_tracks_TRAIN.pkl', 'rb'))"
   ]
  },
  {
   "cell_type": "code",
   "execution_count": 2,
   "metadata": {},
   "outputs": [],
   "source": [
    "artists = []\n",
    "track_fs = []\n",
    "for artist, albumdata in artist_album_tracks.items():\n",
    "    for album_id, tracks in albumdata.items():\n",
    "        for track in tracks:\n",
    "            artists.append(artist)\n",
    "            track_fs.append(track)"
   ]
  },
  {
   "cell_type": "code",
   "execution_count": 4,
   "metadata": {},
   "outputs": [
    {
     "data": {
      "text/html": [
       "<div>\n",
       "<style scoped>\n",
       "    .dataframe tbody tr th:only-of-type {\n",
       "        vertical-align: middle;\n",
       "    }\n",
       "\n",
       "    .dataframe tbody tr th {\n",
       "        vertical-align: top;\n",
       "    }\n",
       "\n",
       "    .dataframe thead th {\n",
       "        text-align: right;\n",
       "    }\n",
       "</style>\n",
       "<table border=\"1\" class=\"dataframe\">\n",
       "  <thead>\n",
       "    <tr style=\"text-align: right;\">\n",
       "      <th></th>\n",
       "      <th>track</th>\n",
       "      <th>artist_id</th>\n",
       "    </tr>\n",
       "  </thead>\n",
       "  <tbody>\n",
       "    <tr>\n",
       "      <th>0</th>\n",
       "      <td>{'danceability': 0.75, 'energy': 0.482, 'key':...</td>\n",
       "      <td>6sSuXem86IOpEGNsDqJSSg</td>\n",
       "    </tr>\n",
       "    <tr>\n",
       "      <th>1</th>\n",
       "      <td>{'danceability': 0.899, 'energy': 0.862, 'key'...</td>\n",
       "      <td>6sSuXem86IOpEGNsDqJSSg</td>\n",
       "    </tr>\n",
       "    <tr>\n",
       "      <th>2</th>\n",
       "      <td>{'danceability': 0.856, 'energy': 0.704, 'key'...</td>\n",
       "      <td>6sSuXem86IOpEGNsDqJSSg</td>\n",
       "    </tr>\n",
       "    <tr>\n",
       "      <th>3</th>\n",
       "      <td>{'danceability': 0.88, 'energy': 0.695, 'key':...</td>\n",
       "      <td>6sSuXem86IOpEGNsDqJSSg</td>\n",
       "    </tr>\n",
       "    <tr>\n",
       "      <th>4</th>\n",
       "      <td>{'danceability': 0.879, 'energy': 0.604, 'key'...</td>\n",
       "      <td>6sSuXem86IOpEGNsDqJSSg</td>\n",
       "    </tr>\n",
       "  </tbody>\n",
       "</table>\n",
       "</div>"
      ],
      "text/plain": [
       "                                               track               artist_id\n",
       "0  {'danceability': 0.75, 'energy': 0.482, 'key':...  6sSuXem86IOpEGNsDqJSSg\n",
       "1  {'danceability': 0.899, 'energy': 0.862, 'key'...  6sSuXem86IOpEGNsDqJSSg\n",
       "2  {'danceability': 0.856, 'energy': 0.704, 'key'...  6sSuXem86IOpEGNsDqJSSg\n",
       "3  {'danceability': 0.88, 'energy': 0.695, 'key':...  6sSuXem86IOpEGNsDqJSSg\n",
       "4  {'danceability': 0.879, 'energy': 0.604, 'key'...  6sSuXem86IOpEGNsDqJSSg"
      ]
     },
     "execution_count": 4,
     "metadata": {},
     "output_type": "execute_result"
    }
   ],
   "source": [
    "import pandas as pd\n",
    "df = pd.DataFrame({\"track\":track_fs, \"artist_id\":artists})\n",
    "df.head()"
   ]
  },
  {
   "cell_type": "code",
   "execution_count": 5,
   "metadata": {},
   "outputs": [
    {
     "data": {
      "text/html": [
       "<div>\n",
       "<style scoped>\n",
       "    .dataframe tbody tr th:only-of-type {\n",
       "        vertical-align: middle;\n",
       "    }\n",
       "\n",
       "    .dataframe tbody tr th {\n",
       "        vertical-align: top;\n",
       "    }\n",
       "\n",
       "    .dataframe thead th {\n",
       "        text-align: right;\n",
       "    }\n",
       "</style>\n",
       "<table border=\"1\" class=\"dataframe\">\n",
       "  <thead>\n",
       "    <tr style=\"text-align: right;\">\n",
       "      <th></th>\n",
       "      <th>artist_id</th>\n",
       "      <th>danceability</th>\n",
       "      <th>energy</th>\n",
       "      <th>key</th>\n",
       "      <th>loudness</th>\n",
       "      <th>speechiness</th>\n",
       "      <th>acousticness</th>\n",
       "      <th>instrumentalness</th>\n",
       "      <th>liveness</th>\n",
       "      <th>valence</th>\n",
       "      <th>tempo</th>\n",
       "    </tr>\n",
       "  </thead>\n",
       "  <tbody>\n",
       "    <tr>\n",
       "      <th>0</th>\n",
       "      <td>6sSuXem86IOpEGNsDqJSSg</td>\n",
       "      <td>0.750</td>\n",
       "      <td>0.482</td>\n",
       "      <td>5.0</td>\n",
       "      <td>-15.403</td>\n",
       "      <td>0.9310</td>\n",
       "      <td>0.6260</td>\n",
       "      <td>0.0</td>\n",
       "      <td>0.5510</td>\n",
       "      <td>0.795</td>\n",
       "      <td>98.948</td>\n",
       "    </tr>\n",
       "    <tr>\n",
       "      <th>1</th>\n",
       "      <td>6sSuXem86IOpEGNsDqJSSg</td>\n",
       "      <td>0.899</td>\n",
       "      <td>0.862</td>\n",
       "      <td>1.0</td>\n",
       "      <td>-7.934</td>\n",
       "      <td>0.3120</td>\n",
       "      <td>0.0966</td>\n",
       "      <td>0.0</td>\n",
       "      <td>0.0701</td>\n",
       "      <td>0.654</td>\n",
       "      <td>105.010</td>\n",
       "    </tr>\n",
       "    <tr>\n",
       "      <th>2</th>\n",
       "      <td>6sSuXem86IOpEGNsDqJSSg</td>\n",
       "      <td>0.856</td>\n",
       "      <td>0.704</td>\n",
       "      <td>10.0</td>\n",
       "      <td>-8.557</td>\n",
       "      <td>0.0943</td>\n",
       "      <td>0.0496</td>\n",
       "      <td>0.0</td>\n",
       "      <td>0.1560</td>\n",
       "      <td>0.697</td>\n",
       "      <td>142.022</td>\n",
       "    </tr>\n",
       "    <tr>\n",
       "      <th>3</th>\n",
       "      <td>6sSuXem86IOpEGNsDqJSSg</td>\n",
       "      <td>0.880</td>\n",
       "      <td>0.695</td>\n",
       "      <td>0.0</td>\n",
       "      <td>-4.354</td>\n",
       "      <td>0.3030</td>\n",
       "      <td>0.0913</td>\n",
       "      <td>0.0</td>\n",
       "      <td>0.1570</td>\n",
       "      <td>0.896</td>\n",
       "      <td>144.011</td>\n",
       "    </tr>\n",
       "    <tr>\n",
       "      <th>4</th>\n",
       "      <td>6sSuXem86IOpEGNsDqJSSg</td>\n",
       "      <td>0.879</td>\n",
       "      <td>0.604</td>\n",
       "      <td>5.0</td>\n",
       "      <td>-7.533</td>\n",
       "      <td>0.2510</td>\n",
       "      <td>0.0400</td>\n",
       "      <td>0.0</td>\n",
       "      <td>0.0546</td>\n",
       "      <td>0.794</td>\n",
       "      <td>135.039</td>\n",
       "    </tr>\n",
       "  </tbody>\n",
       "</table>\n",
       "</div>"
      ],
      "text/plain": [
       "                artist_id  danceability  energy   key  loudness  speechiness  \\\n",
       "0  6sSuXem86IOpEGNsDqJSSg         0.750   0.482   5.0   -15.403       0.9310   \n",
       "1  6sSuXem86IOpEGNsDqJSSg         0.899   0.862   1.0    -7.934       0.3120   \n",
       "2  6sSuXem86IOpEGNsDqJSSg         0.856   0.704  10.0    -8.557       0.0943   \n",
       "3  6sSuXem86IOpEGNsDqJSSg         0.880   0.695   0.0    -4.354       0.3030   \n",
       "4  6sSuXem86IOpEGNsDqJSSg         0.879   0.604   5.0    -7.533       0.2510   \n",
       "\n",
       "   acousticness  instrumentalness  liveness  valence    tempo  \n",
       "0        0.6260               0.0    0.5510    0.795   98.948  \n",
       "1        0.0966               0.0    0.0701    0.654  105.010  \n",
       "2        0.0496               0.0    0.1560    0.697  142.022  \n",
       "3        0.0913               0.0    0.1570    0.896  144.011  \n",
       "4        0.0400               0.0    0.0546    0.794  135.039  "
      ]
     },
     "execution_count": 5,
     "metadata": {},
     "output_type": "execute_result"
    }
   ],
   "source": [
    "df = pd.concat([df, df[\"track\"].apply(pd.Series)], axis=1)\n",
    "df.drop(columns=['track',0], inplace=True)\n",
    "df.head()"
   ]
  },
  {
   "cell_type": "code",
   "execution_count": 14,
   "metadata": {},
   "outputs": [
    {
     "data": {
      "text/html": [
       "<div>\n",
       "<style scoped>\n",
       "    .dataframe tbody tr th:only-of-type {\n",
       "        vertical-align: middle;\n",
       "    }\n",
       "\n",
       "    .dataframe tbody tr th {\n",
       "        vertical-align: top;\n",
       "    }\n",
       "\n",
       "    .dataframe thead th {\n",
       "        text-align: right;\n",
       "    }\n",
       "</style>\n",
       "<table border=\"1\" class=\"dataframe\">\n",
       "  <thead>\n",
       "    <tr style=\"text-align: right;\">\n",
       "      <th></th>\n",
       "      <th>artist_id</th>\n",
       "      <th>danceability</th>\n",
       "      <th>energy</th>\n",
       "      <th>key</th>\n",
       "      <th>loudness</th>\n",
       "      <th>speechiness</th>\n",
       "      <th>acousticness</th>\n",
       "      <th>instrumentalness</th>\n",
       "      <th>liveness</th>\n",
       "      <th>valence</th>\n",
       "      <th>tempo</th>\n",
       "    </tr>\n",
       "  </thead>\n",
       "  <tbody>\n",
       "    <tr>\n",
       "      <th>0</th>\n",
       "      <td>6sSuXem86IOpEGNsDqJSSg</td>\n",
       "      <td>0.750</td>\n",
       "      <td>0.482</td>\n",
       "      <td>5.0</td>\n",
       "      <td>-15.403</td>\n",
       "      <td>0.9310</td>\n",
       "      <td>0.6260</td>\n",
       "      <td>0.0</td>\n",
       "      <td>0.5510</td>\n",
       "      <td>0.795</td>\n",
       "      <td>98.948</td>\n",
       "    </tr>\n",
       "    <tr>\n",
       "      <th>1</th>\n",
       "      <td>6sSuXem86IOpEGNsDqJSSg</td>\n",
       "      <td>0.899</td>\n",
       "      <td>0.862</td>\n",
       "      <td>1.0</td>\n",
       "      <td>-7.934</td>\n",
       "      <td>0.3120</td>\n",
       "      <td>0.0966</td>\n",
       "      <td>0.0</td>\n",
       "      <td>0.0701</td>\n",
       "      <td>0.654</td>\n",
       "      <td>105.010</td>\n",
       "    </tr>\n",
       "    <tr>\n",
       "      <th>2</th>\n",
       "      <td>6sSuXem86IOpEGNsDqJSSg</td>\n",
       "      <td>0.856</td>\n",
       "      <td>0.704</td>\n",
       "      <td>10.0</td>\n",
       "      <td>-8.557</td>\n",
       "      <td>0.0943</td>\n",
       "      <td>0.0496</td>\n",
       "      <td>0.0</td>\n",
       "      <td>0.1560</td>\n",
       "      <td>0.697</td>\n",
       "      <td>142.022</td>\n",
       "    </tr>\n",
       "    <tr>\n",
       "      <th>3</th>\n",
       "      <td>6sSuXem86IOpEGNsDqJSSg</td>\n",
       "      <td>0.880</td>\n",
       "      <td>0.695</td>\n",
       "      <td>0.0</td>\n",
       "      <td>-4.354</td>\n",
       "      <td>0.3030</td>\n",
       "      <td>0.0913</td>\n",
       "      <td>0.0</td>\n",
       "      <td>0.1570</td>\n",
       "      <td>0.896</td>\n",
       "      <td>144.011</td>\n",
       "    </tr>\n",
       "    <tr>\n",
       "      <th>4</th>\n",
       "      <td>6sSuXem86IOpEGNsDqJSSg</td>\n",
       "      <td>0.879</td>\n",
       "      <td>0.604</td>\n",
       "      <td>5.0</td>\n",
       "      <td>-7.533</td>\n",
       "      <td>0.2510</td>\n",
       "      <td>0.0400</td>\n",
       "      <td>0.0</td>\n",
       "      <td>0.0546</td>\n",
       "      <td>0.794</td>\n",
       "      <td>135.039</td>\n",
       "    </tr>\n",
       "  </tbody>\n",
       "</table>\n",
       "</div>"
      ],
      "text/plain": [
       "                artist_id  danceability  energy   key  loudness  speechiness  \\\n",
       "0  6sSuXem86IOpEGNsDqJSSg         0.750   0.482   5.0   -15.403       0.9310   \n",
       "1  6sSuXem86IOpEGNsDqJSSg         0.899   0.862   1.0    -7.934       0.3120   \n",
       "2  6sSuXem86IOpEGNsDqJSSg         0.856   0.704  10.0    -8.557       0.0943   \n",
       "3  6sSuXem86IOpEGNsDqJSSg         0.880   0.695   0.0    -4.354       0.3030   \n",
       "4  6sSuXem86IOpEGNsDqJSSg         0.879   0.604   5.0    -7.533       0.2510   \n",
       "\n",
       "   acousticness  instrumentalness  liveness  valence    tempo  \n",
       "0        0.6260               0.0    0.5510    0.795   98.948  \n",
       "1        0.0966               0.0    0.0701    0.654  105.010  \n",
       "2        0.0496               0.0    0.1560    0.697  142.022  \n",
       "3        0.0913               0.0    0.1570    0.896  144.011  \n",
       "4        0.0400               0.0    0.0546    0.794  135.039  "
      ]
     },
     "execution_count": 14,
     "metadata": {},
     "output_type": "execute_result"
    }
   ],
   "source": [
    "df.head()"
   ]
  },
  {
   "cell_type": "code",
   "execution_count": 17,
   "metadata": {},
   "outputs": [],
   "source": [
    "df = pd.concat([ df[df.columns[1:]], df.artist_id ],  axis=1)"
   ]
  },
  {
   "cell_type": "code",
   "execution_count": 148,
   "metadata": {},
   "outputs": [],
   "source": [
    "# artists = list(df.artist.unique())\n",
    "# ids = list(range(0,len(artists)))\n",
    "# artists2id = pd.DataFrame({\"id\":ids, \"artist_id\":artists})\n",
    "# artists2id.to_csv('artists2id.csv', index=False)"
   ]
  },
  {
   "cell_type": "code",
   "execution_count": 149,
   "metadata": {},
   "outputs": [
    {
     "data": {
      "text/html": [
       "<div>\n",
       "<style scoped>\n",
       "    .dataframe tbody tr th:only-of-type {\n",
       "        vertical-align: middle;\n",
       "    }\n",
       "\n",
       "    .dataframe tbody tr th {\n",
       "        vertical-align: top;\n",
       "    }\n",
       "\n",
       "    .dataframe thead th {\n",
       "        text-align: right;\n",
       "    }\n",
       "</style>\n",
       "<table border=\"1\" class=\"dataframe\">\n",
       "  <thead>\n",
       "    <tr style=\"text-align: right;\">\n",
       "      <th></th>\n",
       "      <th>danceability</th>\n",
       "      <th>energy</th>\n",
       "      <th>key</th>\n",
       "      <th>loudness</th>\n",
       "      <th>speechiness</th>\n",
       "      <th>acousticness</th>\n",
       "      <th>instrumentalness</th>\n",
       "      <th>liveness</th>\n",
       "      <th>valence</th>\n",
       "      <th>tempo</th>\n",
       "      <th>artist_id</th>\n",
       "    </tr>\n",
       "  </thead>\n",
       "  <tbody>\n",
       "    <tr>\n",
       "      <th>0</th>\n",
       "      <td>0.750</td>\n",
       "      <td>0.482</td>\n",
       "      <td>5.0</td>\n",
       "      <td>-15.403</td>\n",
       "      <td>0.9310</td>\n",
       "      <td>0.6260</td>\n",
       "      <td>0.0</td>\n",
       "      <td>0.5510</td>\n",
       "      <td>0.795</td>\n",
       "      <td>98.948</td>\n",
       "      <td>0</td>\n",
       "    </tr>\n",
       "    <tr>\n",
       "      <th>1</th>\n",
       "      <td>0.899</td>\n",
       "      <td>0.862</td>\n",
       "      <td>1.0</td>\n",
       "      <td>-7.934</td>\n",
       "      <td>0.3120</td>\n",
       "      <td>0.0966</td>\n",
       "      <td>0.0</td>\n",
       "      <td>0.0701</td>\n",
       "      <td>0.654</td>\n",
       "      <td>105.010</td>\n",
       "      <td>0</td>\n",
       "    </tr>\n",
       "    <tr>\n",
       "      <th>2</th>\n",
       "      <td>0.856</td>\n",
       "      <td>0.704</td>\n",
       "      <td>10.0</td>\n",
       "      <td>-8.557</td>\n",
       "      <td>0.0943</td>\n",
       "      <td>0.0496</td>\n",
       "      <td>0.0</td>\n",
       "      <td>0.1560</td>\n",
       "      <td>0.697</td>\n",
       "      <td>142.022</td>\n",
       "      <td>0</td>\n",
       "    </tr>\n",
       "    <tr>\n",
       "      <th>3</th>\n",
       "      <td>0.880</td>\n",
       "      <td>0.695</td>\n",
       "      <td>0.0</td>\n",
       "      <td>-4.354</td>\n",
       "      <td>0.3030</td>\n",
       "      <td>0.0913</td>\n",
       "      <td>0.0</td>\n",
       "      <td>0.1570</td>\n",
       "      <td>0.896</td>\n",
       "      <td>144.011</td>\n",
       "      <td>0</td>\n",
       "    </tr>\n",
       "    <tr>\n",
       "      <th>4</th>\n",
       "      <td>0.879</td>\n",
       "      <td>0.604</td>\n",
       "      <td>5.0</td>\n",
       "      <td>-7.533</td>\n",
       "      <td>0.2510</td>\n",
       "      <td>0.0400</td>\n",
       "      <td>0.0</td>\n",
       "      <td>0.0546</td>\n",
       "      <td>0.794</td>\n",
       "      <td>135.039</td>\n",
       "      <td>0</td>\n",
       "    </tr>\n",
       "  </tbody>\n",
       "</table>\n",
       "</div>"
      ],
      "text/plain": [
       "   danceability  energy   key  loudness  speechiness  acousticness  \\\n",
       "0         0.750   0.482   5.0   -15.403       0.9310        0.6260   \n",
       "1         0.899   0.862   1.0    -7.934       0.3120        0.0966   \n",
       "2         0.856   0.704  10.0    -8.557       0.0943        0.0496   \n",
       "3         0.880   0.695   0.0    -4.354       0.3030        0.0913   \n",
       "4         0.879   0.604   5.0    -7.533       0.2510        0.0400   \n",
       "\n",
       "   instrumentalness  liveness  valence    tempo  artist_id  \n",
       "0               0.0    0.5510    0.795   98.948          0  \n",
       "1               0.0    0.0701    0.654  105.010          0  \n",
       "2               0.0    0.1560    0.697  142.022          0  \n",
       "3               0.0    0.1570    0.896  144.011          0  \n",
       "4               0.0    0.0546    0.794  135.039          0  "
      ]
     },
     "execution_count": 149,
     "metadata": {},
     "output_type": "execute_result"
    }
   ],
   "source": [
    "# mapid = {i:j for i,j in zip(artists2id.artist_id.values,artists2id.id.values)}\n",
    "\n",
    "# df['artist_id'] = df['artist'].map(mapid)\n",
    "# df.drop(['artist'], axis=1, inplace=True)\n",
    "# df.head()"
   ]
  },
  {
   "cell_type": "code",
   "execution_count": 18,
   "metadata": {},
   "outputs": [],
   "source": [
    "df.to_csv('unnormalized_track_features_training_data.csv', index=False)"
   ]
  },
  {
   "cell_type": "markdown",
   "metadata": {},
   "source": [
    "## Data Normalizing"
   ]
  },
  {
   "cell_type": "code",
   "execution_count": 19,
   "metadata": {},
   "outputs": [
    {
     "data": {
      "text/html": [
       "<div>\n",
       "<style scoped>\n",
       "    .dataframe tbody tr th:only-of-type {\n",
       "        vertical-align: middle;\n",
       "    }\n",
       "\n",
       "    .dataframe tbody tr th {\n",
       "        vertical-align: top;\n",
       "    }\n",
       "\n",
       "    .dataframe thead th {\n",
       "        text-align: right;\n",
       "    }\n",
       "</style>\n",
       "<table border=\"1\" class=\"dataframe\">\n",
       "  <thead>\n",
       "    <tr style=\"text-align: right;\">\n",
       "      <th></th>\n",
       "      <th>danceability</th>\n",
       "      <th>energy</th>\n",
       "      <th>key</th>\n",
       "      <th>loudness</th>\n",
       "      <th>speechiness</th>\n",
       "      <th>acousticness</th>\n",
       "      <th>instrumentalness</th>\n",
       "      <th>liveness</th>\n",
       "      <th>valence</th>\n",
       "      <th>tempo</th>\n",
       "      <th>artist_id</th>\n",
       "    </tr>\n",
       "  </thead>\n",
       "  <tbody>\n",
       "    <tr>\n",
       "      <th>0</th>\n",
       "      <td>0.750</td>\n",
       "      <td>0.482</td>\n",
       "      <td>5.0</td>\n",
       "      <td>-15.403</td>\n",
       "      <td>0.9310</td>\n",
       "      <td>0.6260</td>\n",
       "      <td>0.0</td>\n",
       "      <td>0.5510</td>\n",
       "      <td>0.795</td>\n",
       "      <td>98.948</td>\n",
       "      <td>6sSuXem86IOpEGNsDqJSSg</td>\n",
       "    </tr>\n",
       "    <tr>\n",
       "      <th>1</th>\n",
       "      <td>0.899</td>\n",
       "      <td>0.862</td>\n",
       "      <td>1.0</td>\n",
       "      <td>-7.934</td>\n",
       "      <td>0.3120</td>\n",
       "      <td>0.0966</td>\n",
       "      <td>0.0</td>\n",
       "      <td>0.0701</td>\n",
       "      <td>0.654</td>\n",
       "      <td>105.010</td>\n",
       "      <td>6sSuXem86IOpEGNsDqJSSg</td>\n",
       "    </tr>\n",
       "    <tr>\n",
       "      <th>2</th>\n",
       "      <td>0.856</td>\n",
       "      <td>0.704</td>\n",
       "      <td>10.0</td>\n",
       "      <td>-8.557</td>\n",
       "      <td>0.0943</td>\n",
       "      <td>0.0496</td>\n",
       "      <td>0.0</td>\n",
       "      <td>0.1560</td>\n",
       "      <td>0.697</td>\n",
       "      <td>142.022</td>\n",
       "      <td>6sSuXem86IOpEGNsDqJSSg</td>\n",
       "    </tr>\n",
       "    <tr>\n",
       "      <th>3</th>\n",
       "      <td>0.880</td>\n",
       "      <td>0.695</td>\n",
       "      <td>0.0</td>\n",
       "      <td>-4.354</td>\n",
       "      <td>0.3030</td>\n",
       "      <td>0.0913</td>\n",
       "      <td>0.0</td>\n",
       "      <td>0.1570</td>\n",
       "      <td>0.896</td>\n",
       "      <td>144.011</td>\n",
       "      <td>6sSuXem86IOpEGNsDqJSSg</td>\n",
       "    </tr>\n",
       "    <tr>\n",
       "      <th>4</th>\n",
       "      <td>0.879</td>\n",
       "      <td>0.604</td>\n",
       "      <td>5.0</td>\n",
       "      <td>-7.533</td>\n",
       "      <td>0.2510</td>\n",
       "      <td>0.0400</td>\n",
       "      <td>0.0</td>\n",
       "      <td>0.0546</td>\n",
       "      <td>0.794</td>\n",
       "      <td>135.039</td>\n",
       "      <td>6sSuXem86IOpEGNsDqJSSg</td>\n",
       "    </tr>\n",
       "  </tbody>\n",
       "</table>\n",
       "</div>"
      ],
      "text/plain": [
       "   danceability  energy   key  loudness  speechiness  acousticness  \\\n",
       "0         0.750   0.482   5.0   -15.403       0.9310        0.6260   \n",
       "1         0.899   0.862   1.0    -7.934       0.3120        0.0966   \n",
       "2         0.856   0.704  10.0    -8.557       0.0943        0.0496   \n",
       "3         0.880   0.695   0.0    -4.354       0.3030        0.0913   \n",
       "4         0.879   0.604   5.0    -7.533       0.2510        0.0400   \n",
       "\n",
       "   instrumentalness  liveness  valence    tempo               artist_id  \n",
       "0               0.0    0.5510    0.795   98.948  6sSuXem86IOpEGNsDqJSSg  \n",
       "1               0.0    0.0701    0.654  105.010  6sSuXem86IOpEGNsDqJSSg  \n",
       "2               0.0    0.1560    0.697  142.022  6sSuXem86IOpEGNsDqJSSg  \n",
       "3               0.0    0.1570    0.896  144.011  6sSuXem86IOpEGNsDqJSSg  \n",
       "4               0.0    0.0546    0.794  135.039  6sSuXem86IOpEGNsDqJSSg  "
      ]
     },
     "execution_count": 19,
     "metadata": {},
     "output_type": "execute_result"
    }
   ],
   "source": [
    "df = pd.read_csv(\"unnormalized_track_features_training_data.csv\")\n",
    "df.head()"
   ]
  },
  {
   "cell_type": "code",
   "execution_count": 20,
   "metadata": {},
   "outputs": [
    {
     "data": {
      "text/html": [
       "<div>\n",
       "<style scoped>\n",
       "    .dataframe tbody tr th:only-of-type {\n",
       "        vertical-align: middle;\n",
       "    }\n",
       "\n",
       "    .dataframe tbody tr th {\n",
       "        vertical-align: top;\n",
       "    }\n",
       "\n",
       "    .dataframe thead th {\n",
       "        text-align: right;\n",
       "    }\n",
       "</style>\n",
       "<table border=\"1\" class=\"dataframe\">\n",
       "  <thead>\n",
       "    <tr style=\"text-align: right;\">\n",
       "      <th></th>\n",
       "      <th>danceability</th>\n",
       "      <th>energy</th>\n",
       "      <th>key</th>\n",
       "      <th>loudness</th>\n",
       "      <th>speechiness</th>\n",
       "      <th>acousticness</th>\n",
       "      <th>liveness</th>\n",
       "      <th>valence</th>\n",
       "      <th>tempo</th>\n",
       "      <th>artist_id</th>\n",
       "    </tr>\n",
       "  </thead>\n",
       "  <tbody>\n",
       "    <tr>\n",
       "      <th>0</th>\n",
       "      <td>0.753012</td>\n",
       "      <td>0.482</td>\n",
       "      <td>0.454545</td>\n",
       "      <td>0.678777</td>\n",
       "      <td>0.961777</td>\n",
       "      <td>0.628514</td>\n",
       "      <td>0.5510</td>\n",
       "      <td>0.795</td>\n",
       "      <td>0.395820</td>\n",
       "      <td>6sSuXem86IOpEGNsDqJSSg</td>\n",
       "    </tr>\n",
       "    <tr>\n",
       "      <th>1</th>\n",
       "      <td>0.902610</td>\n",
       "      <td>0.862</td>\n",
       "      <td>0.090909</td>\n",
       "      <td>0.792457</td>\n",
       "      <td>0.322314</td>\n",
       "      <td>0.096988</td>\n",
       "      <td>0.0701</td>\n",
       "      <td>0.654</td>\n",
       "      <td>0.420070</td>\n",
       "      <td>6sSuXem86IOpEGNsDqJSSg</td>\n",
       "    </tr>\n",
       "    <tr>\n",
       "      <th>2</th>\n",
       "      <td>0.859438</td>\n",
       "      <td>0.704</td>\n",
       "      <td>0.909091</td>\n",
       "      <td>0.782975</td>\n",
       "      <td>0.097417</td>\n",
       "      <td>0.049799</td>\n",
       "      <td>0.1560</td>\n",
       "      <td>0.697</td>\n",
       "      <td>0.568129</td>\n",
       "      <td>6sSuXem86IOpEGNsDqJSSg</td>\n",
       "    </tr>\n",
       "    <tr>\n",
       "      <th>3</th>\n",
       "      <td>0.883534</td>\n",
       "      <td>0.695</td>\n",
       "      <td>0.000000</td>\n",
       "      <td>0.846945</td>\n",
       "      <td>0.313017</td>\n",
       "      <td>0.091667</td>\n",
       "      <td>0.1570</td>\n",
       "      <td>0.896</td>\n",
       "      <td>0.576085</td>\n",
       "      <td>6sSuXem86IOpEGNsDqJSSg</td>\n",
       "    </tr>\n",
       "    <tr>\n",
       "      <th>4</th>\n",
       "      <td>0.882530</td>\n",
       "      <td>0.604</td>\n",
       "      <td>0.454545</td>\n",
       "      <td>0.798560</td>\n",
       "      <td>0.259298</td>\n",
       "      <td>0.040161</td>\n",
       "      <td>0.0546</td>\n",
       "      <td>0.794</td>\n",
       "      <td>0.540195</td>\n",
       "      <td>6sSuXem86IOpEGNsDqJSSg</td>\n",
       "    </tr>\n",
       "  </tbody>\n",
       "</table>\n",
       "</div>"
      ],
      "text/plain": [
       "   danceability  energy       key  loudness  speechiness  acousticness  \\\n",
       "0      0.753012   0.482  0.454545  0.678777     0.961777      0.628514   \n",
       "1      0.902610   0.862  0.090909  0.792457     0.322314      0.096988   \n",
       "2      0.859438   0.704  0.909091  0.782975     0.097417      0.049799   \n",
       "3      0.883534   0.695  0.000000  0.846945     0.313017      0.091667   \n",
       "4      0.882530   0.604  0.454545  0.798560     0.259298      0.040161   \n",
       "\n",
       "   liveness  valence     tempo               artist_id  \n",
       "0    0.5510    0.795  0.395820  6sSuXem86IOpEGNsDqJSSg  \n",
       "1    0.0701    0.654  0.420070  6sSuXem86IOpEGNsDqJSSg  \n",
       "2    0.1560    0.697  0.568129  6sSuXem86IOpEGNsDqJSSg  \n",
       "3    0.1570    0.896  0.576085  6sSuXem86IOpEGNsDqJSSg  \n",
       "4    0.0546    0.794  0.540195  6sSuXem86IOpEGNsDqJSSg  "
      ]
     },
     "execution_count": 20,
     "metadata": {},
     "output_type": "execute_result"
    }
   ],
   "source": [
    "import pandas as pd\n",
    "from sklearn import preprocessing\n",
    "\n",
    "x = df.iloc[:,:-1].values #returns a numpy array\n",
    "min_max_scaler = preprocessing.MinMaxScaler()\n",
    "x_scaled = min_max_scaler.fit_transform(x)\n",
    "\n",
    "dfx = pd.DataFrame(x_scaled, columns=df.columns[:-1])\n",
    "dfx['artist_id'] = df.iloc[:,-1].values\n",
    "df = dfx\n",
    "df.drop(['instrumentalness'], axis=1, inplace=True)\n",
    "dfx.head()"
   ]
  },
  {
   "cell_type": "code",
   "execution_count": 21,
   "metadata": {},
   "outputs": [],
   "source": [
    "df.dropna(inplace=True)"
   ]
  },
  {
   "cell_type": "code",
   "execution_count": 22,
   "metadata": {},
   "outputs": [
    {
     "data": {
      "text/html": [
       "<div>\n",
       "<style scoped>\n",
       "    .dataframe tbody tr th:only-of-type {\n",
       "        vertical-align: middle;\n",
       "    }\n",
       "\n",
       "    .dataframe tbody tr th {\n",
       "        vertical-align: top;\n",
       "    }\n",
       "\n",
       "    .dataframe thead th {\n",
       "        text-align: right;\n",
       "    }\n",
       "</style>\n",
       "<table border=\"1\" class=\"dataframe\">\n",
       "  <thead>\n",
       "    <tr style=\"text-align: right;\">\n",
       "      <th></th>\n",
       "      <th>danceability</th>\n",
       "      <th>energy</th>\n",
       "      <th>key</th>\n",
       "      <th>loudness</th>\n",
       "      <th>speechiness</th>\n",
       "      <th>acousticness</th>\n",
       "      <th>liveness</th>\n",
       "      <th>valence</th>\n",
       "      <th>tempo</th>\n",
       "      <th>artist_id</th>\n",
       "    </tr>\n",
       "  </thead>\n",
       "  <tbody>\n",
       "    <tr>\n",
       "      <th>0</th>\n",
       "      <td>0.753012</td>\n",
       "      <td>0.482</td>\n",
       "      <td>0.454545</td>\n",
       "      <td>0.678777</td>\n",
       "      <td>0.961777</td>\n",
       "      <td>0.628514</td>\n",
       "      <td>0.5510</td>\n",
       "      <td>0.795</td>\n",
       "      <td>0.395820</td>\n",
       "      <td>6sSuXem86IOpEGNsDqJSSg</td>\n",
       "    </tr>\n",
       "    <tr>\n",
       "      <th>1</th>\n",
       "      <td>0.902610</td>\n",
       "      <td>0.862</td>\n",
       "      <td>0.090909</td>\n",
       "      <td>0.792457</td>\n",
       "      <td>0.322314</td>\n",
       "      <td>0.096988</td>\n",
       "      <td>0.0701</td>\n",
       "      <td>0.654</td>\n",
       "      <td>0.420070</td>\n",
       "      <td>6sSuXem86IOpEGNsDqJSSg</td>\n",
       "    </tr>\n",
       "    <tr>\n",
       "      <th>2</th>\n",
       "      <td>0.859438</td>\n",
       "      <td>0.704</td>\n",
       "      <td>0.909091</td>\n",
       "      <td>0.782975</td>\n",
       "      <td>0.097417</td>\n",
       "      <td>0.049799</td>\n",
       "      <td>0.1560</td>\n",
       "      <td>0.697</td>\n",
       "      <td>0.568129</td>\n",
       "      <td>6sSuXem86IOpEGNsDqJSSg</td>\n",
       "    </tr>\n",
       "    <tr>\n",
       "      <th>3</th>\n",
       "      <td>0.883534</td>\n",
       "      <td>0.695</td>\n",
       "      <td>0.000000</td>\n",
       "      <td>0.846945</td>\n",
       "      <td>0.313017</td>\n",
       "      <td>0.091667</td>\n",
       "      <td>0.1570</td>\n",
       "      <td>0.896</td>\n",
       "      <td>0.576085</td>\n",
       "      <td>6sSuXem86IOpEGNsDqJSSg</td>\n",
       "    </tr>\n",
       "    <tr>\n",
       "      <th>4</th>\n",
       "      <td>0.882530</td>\n",
       "      <td>0.604</td>\n",
       "      <td>0.454545</td>\n",
       "      <td>0.798560</td>\n",
       "      <td>0.259298</td>\n",
       "      <td>0.040161</td>\n",
       "      <td>0.0546</td>\n",
       "      <td>0.794</td>\n",
       "      <td>0.540195</td>\n",
       "      <td>6sSuXem86IOpEGNsDqJSSg</td>\n",
       "    </tr>\n",
       "  </tbody>\n",
       "</table>\n",
       "</div>"
      ],
      "text/plain": [
       "   danceability  energy       key  loudness  speechiness  acousticness  \\\n",
       "0      0.753012   0.482  0.454545  0.678777     0.961777      0.628514   \n",
       "1      0.902610   0.862  0.090909  0.792457     0.322314      0.096988   \n",
       "2      0.859438   0.704  0.909091  0.782975     0.097417      0.049799   \n",
       "3      0.883534   0.695  0.000000  0.846945     0.313017      0.091667   \n",
       "4      0.882530   0.604  0.454545  0.798560     0.259298      0.040161   \n",
       "\n",
       "   liveness  valence     tempo               artist_id  \n",
       "0    0.5510    0.795  0.395820  6sSuXem86IOpEGNsDqJSSg  \n",
       "1    0.0701    0.654  0.420070  6sSuXem86IOpEGNsDqJSSg  \n",
       "2    0.1560    0.697  0.568129  6sSuXem86IOpEGNsDqJSSg  \n",
       "3    0.1570    0.896  0.576085  6sSuXem86IOpEGNsDqJSSg  \n",
       "4    0.0546    0.794  0.540195  6sSuXem86IOpEGNsDqJSSg  "
      ]
     },
     "execution_count": 22,
     "metadata": {},
     "output_type": "execute_result"
    }
   ],
   "source": [
    "df.head()"
   ]
  },
  {
   "cell_type": "code",
   "execution_count": 23,
   "metadata": {},
   "outputs": [],
   "source": [
    "df.to_csv('track_features_training_data.csv', index=False)"
   ]
  }
 ],
 "metadata": {
  "interpreter": {
   "hash": "c6e4e9f98eb68ad3b7c296f83d20e6de614cb42e90992a65aa266555a3137d0d"
  },
  "kernelspec": {
   "display_name": "Python 3.8.12 ('base')",
   "language": "python",
   "name": "python3"
  },
  "language_info": {
   "codemirror_mode": {
    "name": "ipython",
    "version": 3
   },
   "file_extension": ".py",
   "mimetype": "text/x-python",
   "name": "python",
   "nbconvert_exporter": "python",
   "pygments_lexer": "ipython3",
   "version": "3.8.12"
  },
  "orig_nbformat": 4
 },
 "nbformat": 4,
 "nbformat_minor": 2
}
