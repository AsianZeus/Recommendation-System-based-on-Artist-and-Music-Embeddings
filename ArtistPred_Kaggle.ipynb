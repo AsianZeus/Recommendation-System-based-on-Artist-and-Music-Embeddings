{
 "cells": [
  {
   "cell_type": "markdown",
   "metadata": {},
   "source": [
    "## Artist Prediction"
   ]
  },
  {
   "cell_type": "code",
   "execution_count": 19,
   "metadata": {},
   "outputs": [],
   "source": [
    "import numpy as np\n",
    "import pandas as pd\n",
    "import matplotlib.pyplot as plt\n",
    "import sklearn\n",
    "from sklearn import preprocessing"
   ]
  },
  {
   "cell_type": "code",
   "execution_count": 20,
   "metadata": {},
   "outputs": [],
   "source": [
    "INPUT_DATA_PATH = 'data/spotify_features.csv'\n",
    "\n",
    "INPUT_DATA_COLUMN_NAMES = [\n",
    "  'Genre', 'Artist Name', 'Track Name', 'Track ID', 'Popularity', 'Acousticness',\n",
    "  'Danceability', 'Duration (ms)', 'Energy', 'Instrumentalness', 'Key', 'Liveness',\n",
    "  'Loudness', 'Mode', 'Speechiness', 'Tempo', 'Time Signature', 'Valence'\n",
    "]"
   ]
  },
  {
   "cell_type": "code",
   "execution_count": 21,
   "metadata": {},
   "outputs": [],
   "source": [
    "INPUT_DATA_COLUMNS_TO_USE = [\n",
    "  'Acousticness',\n",
    "  'Danceability',\n",
    "  'Energy',\n",
    "  'Instrumentalness',\n",
    "  'Liveness',\n",
    "  'Loudness',\n",
    "  'Speechiness',\n",
    "  'Tempo',\n",
    "  'Valence',\n",
    "  # categorical columns\n",
    "  'Artist Name',\n",
    "  'Key',\n",
    "  'Mode',\n",
    "  'Time Signature'\n",
    "]"
   ]
  },
  {
   "cell_type": "code",
   "execution_count": 22,
   "metadata": {},
   "outputs": [],
   "source": [
    "NUMERIC_COLUMNS_TO_SCALE = ['Loudness', 'Tempo']\n",
    "CATEGORICAL_COLUMNS_TO_ONE_HOT_ENCODE = ['Key', 'Mode', 'Time Signature']\n",
    "IDENTIFYING_COLUMNS = ['Artist Name', 'Track Name']"
   ]
  },
  {
   "cell_type": "code",
   "execution_count": 23,
   "metadata": {},
   "outputs": [],
   "source": [
    "def load_input_data(include_identifying_columns = False):\n",
    "  columns_to_use = (IDENTIFYING_COLUMNS + INPUT_DATA_COLUMNS_TO_USE) if include_identifying_columns else INPUT_DATA_COLUMNS_TO_USE\n",
    "\n",
    "  data_frame = pd.read_csv(\n",
    "    INPUT_DATA_PATH,\n",
    "    header = 0,\n",
    "    names = INPUT_DATA_COLUMN_NAMES,\n",
    "    usecols = columns_to_use\n",
    "  )\n",
    "  data_frame = data_frame[columns_to_use]\n",
    "\n",
    "  return data_frame"
   ]
  },
  {
   "cell_type": "code",
   "execution_count": 24,
   "metadata": {},
   "outputs": [],
   "source": [
    "def preprocess_input_data(data_frame):\n",
    "  z_score_scaler = sklearn.preprocessing.StandardScaler(copy = True)\n",
    "  data_frame[NUMERIC_COLUMNS_TO_SCALE] = z_score_scaler.fit_transform(data_frame[NUMERIC_COLUMNS_TO_SCALE].to_numpy())\n",
    "\n",
    "  data_frame = pd.get_dummies(\n",
    "    data_frame,\n",
    "    columns = CATEGORICAL_COLUMNS_TO_ONE_HOT_ENCODE,\n",
    "    sparse = False\n",
    "  )\n",
    "\n",
    "  return data_frame\n"
   ]
  },
  {
   "cell_type": "code",
   "execution_count": 25,
   "metadata": {},
   "outputs": [
    {
     "data": {
      "text/html": [
       "<div>\n",
       "<style scoped>\n",
       "    .dataframe tbody tr th:only-of-type {\n",
       "        vertical-align: middle;\n",
       "    }\n",
       "\n",
       "    .dataframe tbody tr th {\n",
       "        vertical-align: top;\n",
       "    }\n",
       "\n",
       "    .dataframe thead th {\n",
       "        text-align: right;\n",
       "    }\n",
       "</style>\n",
       "<table border=\"1\" class=\"dataframe\">\n",
       "  <thead>\n",
       "    <tr style=\"text-align: right;\">\n",
       "      <th></th>\n",
       "      <th>Acousticness</th>\n",
       "      <th>Danceability</th>\n",
       "      <th>Energy</th>\n",
       "      <th>Instrumentalness</th>\n",
       "      <th>Liveness</th>\n",
       "      <th>Loudness</th>\n",
       "      <th>Speechiness</th>\n",
       "      <th>Tempo</th>\n",
       "      <th>Valence</th>\n",
       "      <th>Artist Name</th>\n",
       "      <th>...</th>\n",
       "      <th>Key_F#</th>\n",
       "      <th>Key_G</th>\n",
       "      <th>Key_G#</th>\n",
       "      <th>Mode_Major</th>\n",
       "      <th>Mode_Minor</th>\n",
       "      <th>Time Signature_0/4</th>\n",
       "      <th>Time Signature_1/4</th>\n",
       "      <th>Time Signature_3/4</th>\n",
       "      <th>Time Signature_4/4</th>\n",
       "      <th>Time Signature_5/4</th>\n",
       "    </tr>\n",
       "  </thead>\n",
       "  <tbody>\n",
       "    <tr>\n",
       "      <th>0</th>\n",
       "      <td>0.611</td>\n",
       "      <td>0.389</td>\n",
       "      <td>0.910</td>\n",
       "      <td>0.000</td>\n",
       "      <td>0.3460</td>\n",
       "      <td>1.290703</td>\n",
       "      <td>0.0525</td>\n",
       "      <td>1.595607</td>\n",
       "      <td>0.814</td>\n",
       "      <td>Henri Salvador</td>\n",
       "      <td>...</td>\n",
       "      <td>0</td>\n",
       "      <td>0</td>\n",
       "      <td>0</td>\n",
       "      <td>1</td>\n",
       "      <td>0</td>\n",
       "      <td>0</td>\n",
       "      <td>0</td>\n",
       "      <td>0</td>\n",
       "      <td>1</td>\n",
       "      <td>0</td>\n",
       "    </tr>\n",
       "    <tr>\n",
       "      <th>1</th>\n",
       "      <td>0.246</td>\n",
       "      <td>0.590</td>\n",
       "      <td>0.737</td>\n",
       "      <td>0.000</td>\n",
       "      <td>0.1510</td>\n",
       "      <td>0.668683</td>\n",
       "      <td>0.0868</td>\n",
       "      <td>1.823253</td>\n",
       "      <td>0.816</td>\n",
       "      <td>Martin &amp; les fées</td>\n",
       "      <td>...</td>\n",
       "      <td>1</td>\n",
       "      <td>0</td>\n",
       "      <td>0</td>\n",
       "      <td>0</td>\n",
       "      <td>1</td>\n",
       "      <td>0</td>\n",
       "      <td>0</td>\n",
       "      <td>0</td>\n",
       "      <td>1</td>\n",
       "      <td>0</td>\n",
       "    </tr>\n",
       "    <tr>\n",
       "      <th>2</th>\n",
       "      <td>0.952</td>\n",
       "      <td>0.663</td>\n",
       "      <td>0.131</td>\n",
       "      <td>0.000</td>\n",
       "      <td>0.1030</td>\n",
       "      <td>-0.718402</td>\n",
       "      <td>0.0362</td>\n",
       "      <td>-0.588326</td>\n",
       "      <td>0.368</td>\n",
       "      <td>Joseph Williams</td>\n",
       "      <td>...</td>\n",
       "      <td>0</td>\n",
       "      <td>0</td>\n",
       "      <td>0</td>\n",
       "      <td>0</td>\n",
       "      <td>1</td>\n",
       "      <td>0</td>\n",
       "      <td>0</td>\n",
       "      <td>0</td>\n",
       "      <td>0</td>\n",
       "      <td>1</td>\n",
       "    </tr>\n",
       "    <tr>\n",
       "      <th>3</th>\n",
       "      <td>0.703</td>\n",
       "      <td>0.240</td>\n",
       "      <td>0.326</td>\n",
       "      <td>0.000</td>\n",
       "      <td>0.0985</td>\n",
       "      <td>-0.434817</td>\n",
       "      <td>0.0395</td>\n",
       "      <td>1.750597</td>\n",
       "      <td>0.227</td>\n",
       "      <td>Henri Salvador</td>\n",
       "      <td>...</td>\n",
       "      <td>0</td>\n",
       "      <td>0</td>\n",
       "      <td>0</td>\n",
       "      <td>1</td>\n",
       "      <td>0</td>\n",
       "      <td>0</td>\n",
       "      <td>0</td>\n",
       "      <td>0</td>\n",
       "      <td>1</td>\n",
       "      <td>0</td>\n",
       "    </tr>\n",
       "    <tr>\n",
       "      <th>4</th>\n",
       "      <td>0.950</td>\n",
       "      <td>0.331</td>\n",
       "      <td>0.225</td>\n",
       "      <td>0.123</td>\n",
       "      <td>0.2020</td>\n",
       "      <td>-1.930601</td>\n",
       "      <td>0.0456</td>\n",
       "      <td>0.741433</td>\n",
       "      <td>0.390</td>\n",
       "      <td>Fabien Nataf</td>\n",
       "      <td>...</td>\n",
       "      <td>0</td>\n",
       "      <td>0</td>\n",
       "      <td>0</td>\n",
       "      <td>1</td>\n",
       "      <td>0</td>\n",
       "      <td>0</td>\n",
       "      <td>0</td>\n",
       "      <td>0</td>\n",
       "      <td>1</td>\n",
       "      <td>0</td>\n",
       "    </tr>\n",
       "  </tbody>\n",
       "</table>\n",
       "<p>5 rows × 29 columns</p>\n",
       "</div>"
      ],
      "text/plain": [
       "   Acousticness  Danceability  Energy  Instrumentalness  Liveness  Loudness  \\\n",
       "0         0.611         0.389   0.910             0.000    0.3460  1.290703   \n",
       "1         0.246         0.590   0.737             0.000    0.1510  0.668683   \n",
       "2         0.952         0.663   0.131             0.000    0.1030 -0.718402   \n",
       "3         0.703         0.240   0.326             0.000    0.0985 -0.434817   \n",
       "4         0.950         0.331   0.225             0.123    0.2020 -1.930601   \n",
       "\n",
       "   Speechiness     Tempo  Valence        Artist Name  ...  Key_F#  Key_G  \\\n",
       "0       0.0525  1.595607    0.814     Henri Salvador  ...       0      0   \n",
       "1       0.0868  1.823253    0.816  Martin & les fées  ...       1      0   \n",
       "2       0.0362 -0.588326    0.368    Joseph Williams  ...       0      0   \n",
       "3       0.0395  1.750597    0.227     Henri Salvador  ...       0      0   \n",
       "4       0.0456  0.741433    0.390       Fabien Nataf  ...       0      0   \n",
       "\n",
       "   Key_G#  Mode_Major  Mode_Minor  Time Signature_0/4  Time Signature_1/4  \\\n",
       "0       0           1           0                   0                   0   \n",
       "1       0           0           1                   0                   0   \n",
       "2       0           0           1                   0                   0   \n",
       "3       0           1           0                   0                   0   \n",
       "4       0           1           0                   0                   0   \n",
       "\n",
       "   Time Signature_3/4  Time Signature_4/4  Time Signature_5/4  \n",
       "0                   0                   1                   0  \n",
       "1                   0                   1                   0  \n",
       "2                   0                   0                   1  \n",
       "3                   0                   1                   0  \n",
       "4                   0                   1                   0  \n",
       "\n",
       "[5 rows x 29 columns]"
      ]
     },
     "execution_count": 25,
     "metadata": {},
     "output_type": "execute_result"
    }
   ],
   "source": [
    "dfx = load_input_data()\n",
    "dfx = preprocess_input_data(dfx)\n",
    "dfx.head()"
   ]
  },
  {
   "cell_type": "code",
   "execution_count": 26,
   "metadata": {},
   "outputs": [],
   "source": [
    "unique = dfx['Artist Name'].unique()"
   ]
  },
  {
   "cell_type": "code",
   "execution_count": 27,
   "metadata": {},
   "outputs": [
    {
     "data": {
      "text/plain": [
       "14564"
      ]
     },
     "execution_count": 27,
     "metadata": {},
     "output_type": "execute_result"
    }
   ],
   "source": [
    "len(unique)"
   ]
  },
  {
   "cell_type": "code",
   "execution_count": 28,
   "metadata": {},
   "outputs": [],
   "source": [
    "import torch\n",
    "from keras.utils import np_utils\n",
    "torch.autograd.set_detect_anomaly(True)\n",
    "from sklearn.preprocessing import label_binarize\n",
    "from sklearn.preprocessing import LabelEncoder\n",
    "from torch.utils.data import (\n",
    "    Dataset,\n",
    "    DataLoader,\n",
    ")\n",
    "\n",
    "\n",
    "label_encoder = LabelEncoder()\n",
    "label_encoder = label_encoder.fit(unique)\n",
    "\n",
    "class CustomDataset(Dataset):\n",
    "    def __init__ (self, dfx):\n",
    "        df = dfx.copy()\n",
    "        artist = df['Artist Name']\n",
    "        del df['Artist Name']\n",
    "        X = df.values\n",
    "        artist = label_encoder.fit_transform(artist)\n",
    "        self.targets = np_utils.to_categorical(artist)\n",
    "        self.data = X.astype(np.float32)\n",
    "    \n",
    "    def __len__(self):\n",
    "        return len(self.data)\n",
    "        \n",
    "    def __getitem__(self, index):\n",
    "        return torch.tensor(self.data[index]), torch.tensor(self.targets[index])\n",
    "\n",
    "ds = CustomDataset(dfx)"
   ]
  },
  {
   "cell_type": "code",
   "execution_count": 29,
   "metadata": {},
   "outputs": [
    {
     "data": {
      "text/plain": [
       "((232725, 28), (232725, 14564))"
      ]
     },
     "execution_count": 29,
     "metadata": {},
     "output_type": "execute_result"
    }
   ],
   "source": [
    "ds.data.shape, ds.targets.shape"
   ]
  },
  {
   "cell_type": "code",
   "execution_count": 30,
   "metadata": {},
   "outputs": [],
   "source": [
    "from sklearn import model_selection\n",
    "train_data_set, test_data_set = model_selection.train_test_split(\n",
    "ds,\n",
    "test_size = 1000,\n",
    "shuffle = True\n",
    ")\n",
    "\n",
    "train_data_loader = DataLoader(\n",
    "train_data_set,\n",
    "batch_size = 128,\n",
    "shuffle = True\n",
    ")\n",
    "\n",
    "test_data_loader = DataLoader(\n",
    "test_data_set,\n",
    "batch_size = 32,\n",
    "shuffle = True\n",
    ")\n",
    "\n",
    "train_size = len(train_data_loader.dataset)\n",
    "val_size = len(test_data_loader.dataset)"
   ]
  },
  {
   "cell_type": "code",
   "execution_count": 31,
   "metadata": {},
   "outputs": [],
   "source": [
    "import torch\n",
    "\n",
    "class ClassificationModel(torch.nn.Module):\n",
    "  def __init__(self):\n",
    "    super(ClassificationModel, self).__init__()\n",
    "\n",
    "    self.linear1 = torch.nn.Linear(ds[0][0].shape[0], 512)\n",
    "    self.relu1 = torch.nn.ReLU()\n",
    "    self.linear2 = torch.nn.Linear(512, len(unique))\n",
    "\n",
    "  def forward(self, data):\n",
    "    data = data.float()\n",
    "\n",
    "    data = self.linear1(data)\n",
    "    data = self.relu1(data)\n",
    "    data = self.linear2(data)\n",
    "\n",
    "    return data"
   ]
  },
  {
   "cell_type": "code",
   "execution_count": 32,
   "metadata": {},
   "outputs": [],
   "source": [
    "import torch\n",
    "import numpy as np\n",
    "\n",
    "class EarlyStopping:\n",
    "    def __init__(self, patience=7, verbose=True, delta=0, path='model.pth', trace_func=print):\n",
    "        self.patience = patience\n",
    "        self.verbose = verbose\n",
    "        self.counter = 0\n",
    "        self.best_score = None\n",
    "        self.early_stop = False\n",
    "        self.val_loss_min = np.Inf\n",
    "        self.delta = delta\n",
    "        self.path = path\n",
    "        self.trace_func = trace_func\n",
    "    def __call__(self, val_loss, model):\n",
    "\n",
    "        score = -val_loss\n",
    "\n",
    "        if self.best_score is None:\n",
    "            self.best_score = score\n",
    "            self.save_checkpoint(val_loss, model)\n",
    "        elif score < self.best_score + self.delta:\n",
    "            self.counter += 1\n",
    "            self.trace_func(f'EarlyStopping counter: {self.counter} out of {self.patience}')\n",
    "            if self.counter >= self.patience:\n",
    "                self.early_stop = True\n",
    "        else:\n",
    "            self.best_score = score\n",
    "            self.save_checkpoint(val_loss, model)\n",
    "            self.counter = 0\n",
    "\n",
    "    def save_checkpoint(self, val_loss, model):\n",
    "        if self.verbose:\n",
    "            self.trace_func(f'Validation loss decreased ({self.val_loss_min:.6f} --> {val_loss:.6f}).  Saving model ...')\n",
    "        torch.save(model, 'artist_model.pth')\n",
    "        self.val_loss_min = val_loss"
   ]
  },
  {
   "cell_type": "code",
   "execution_count": 33,
   "metadata": {},
   "outputs": [],
   "source": [
    "import tqdm\n",
    "\n",
    "device = torch.device(\"cuda\" if torch.cuda.is_available() else \"cpu\")\n",
    "\n",
    "model = ClassificationModel()\n",
    "model.to(device)\n",
    "\n",
    "criterion = torch.nn.CrossEntropyLoss()\n",
    "\n",
    "\n",
    "def fit(num_epochs, learning_rate, model, train_loader, val_loader):\n",
    "    optimizer = torch.optim.Adam(model.parameters(), lr=learning_rate)\n",
    "\n",
    "    train_losses = []\n",
    "    valid_losses = []\n",
    "    avg_train_losses = []\n",
    "    avg_valid_losses = [] \n",
    "\n",
    "    early_stopping = EarlyStopping(patience=10, verbose=True)\n",
    "\n",
    "    for epoch in range(num_epochs):\n",
    "        losses = []\n",
    "        correct = 0\n",
    "        \n",
    "        model.train()\n",
    "        for (data, targets) in tqdm.tqdm(train_loader, desc= \"Training\"):\n",
    "            data = data.to(device)\n",
    "            targets = targets.to(device)\n",
    "            \n",
    "            optimizer.zero_grad()\n",
    "            \n",
    "            scores = model(data)\n",
    "            loss = criterion(scores, targets)\n",
    "            losses.append(loss.item())\n",
    "            \n",
    "            loss.backward()\n",
    "\n",
    "            torch.nn.utils.clip_grad_value_(model.parameters(), 0.1)\n",
    "\n",
    "            optimizer.step()\n",
    "\n",
    "            correct += (scores.argmax(dim=1) == targets.argmax(dim=1)).float().sum()\n",
    "            train_losses.append(loss.item())\n",
    "\n",
    "        optimizer.zero_grad()\n",
    "        \n",
    "        model.eval()\n",
    "        correct_ = 0\n",
    "        for data, target in tqdm.tqdm(val_loader, desc= \"Evaluation\"):\n",
    "          data = data.to(device)\n",
    "          target = target.to(device)\n",
    "          output = model(data)            \n",
    "          loss = criterion(output, target)\n",
    "          valid_losses.append(loss.item())\n",
    "          correct_ += (output.argmax(dim=1) == target.argmax(dim=1)).float().sum()\n",
    "        \n",
    "        accuracy = 100 * correct / train_size\n",
    "        val_accuracy = 100 * correct_ / val_size\n",
    "\n",
    "        train_loss = np.average(train_losses)\n",
    "        valid_loss = np.average(valid_losses)\n",
    "        avg_train_losses.append(train_loss)\n",
    "        avg_valid_losses.append(valid_loss)\n",
    "        \n",
    "        \n",
    "        print(f\"{epoch+1} || valid_loss: {valid_loss} | train_loss: {train_loss} | accuracy: {accuracy} | val_accuracy: {val_accuracy}\")\n",
    "        \n",
    "        early_stopping(valid_loss, model)\n",
    "        \n",
    "        if early_stopping.early_stop:\n",
    "            print(\"Early stopping\")\n",
    "            break\n",
    "            \n",
    "        # clear lists to track next epoch\n",
    "        train_losses = []\n",
    "        valid_losses = []\n",
    "\n",
    "def check_accuracy(loader, model):\n",
    "    print(\"Checking accuracy on test data\")\n",
    "\n",
    "    num_correct = 0\n",
    "    num_samples = 0\n",
    "    model.eval()\n",
    "\n",
    "    with torch.no_grad():\n",
    "        for x, y in tqdm.tqdm(loader):\n",
    "            x = x.to(device)\n",
    "            y = y.to(device)\n",
    "\n",
    "            scores = model(x)\n",
    "            num_correct += (scores.argmax(dim=1) == y.argmax(dim=1)).sum()\n",
    "            num_samples += 1*x.shape[0]\n",
    "\n",
    "        print(f\"Got {num_correct} / {num_samples} with accuracy {float(num_correct)/float(num_samples)*100:.2f}\")\n",
    "\n",
    "    model.train()"
   ]
  },
  {
   "cell_type": "code",
   "execution_count": 34,
   "metadata": {},
   "outputs": [
    {
     "name": "stderr",
     "output_type": "stream",
     "text": [
      "Training: 100%|██████████| 1811/1811 [02:28<00:00, 12.18it/s]\n",
      "Evaluation: 100%|██████████| 32/32 [00:00<00:00, 74.39it/s]\n"
     ]
    },
    {
     "name": "stdout",
     "output_type": "stream",
     "text": [
      "1 || valid_loss: 7.021359324455261 | train_loss: 7.598760606174901 | accuracy: 2.617326498031616 | val_accuracy: 4.400000095367432\n",
      "Validation loss decreased (inf --> 7.021359).  Saving model ...\n"
     ]
    },
    {
     "name": "stderr",
     "output_type": "stream",
     "text": [
      "Training: 100%|██████████| 1811/1811 [02:33<00:00, 11.79it/s]\n",
      "Evaluation: 100%|██████████| 32/32 [00:00<00:00, 77.72it/s]\n"
     ]
    },
    {
     "name": "stdout",
     "output_type": "stream",
     "text": [
      "2 || valid_loss: 6.657011613249779 | train_loss: 6.3480575965426365 | accuracy: 5.026648044586182 | val_accuracy: 6.300000190734863\n",
      "Validation loss decreased (7.021359 --> 6.657012).  Saving model ...\n"
     ]
    },
    {
     "name": "stderr",
     "output_type": "stream",
     "text": [
      "Training: 100%|██████████| 1811/1811 [02:33<00:00, 11.79it/s]\n",
      "Evaluation: 100%|██████████| 32/32 [00:00<00:00, 75.31it/s]\n"
     ]
    },
    {
     "name": "stdout",
     "output_type": "stream",
     "text": [
      "3 || valid_loss: 6.538477450609207 | train_loss: 5.694013950510094 | accuracy: 7.424317836761475 | val_accuracy: 7.5\n",
      "Validation loss decreased (6.657012 --> 6.538477).  Saving model ...\n"
     ]
    },
    {
     "name": "stderr",
     "output_type": "stream",
     "text": [
      "Training: 100%|██████████| 1811/1811 [02:33<00:00, 11.78it/s]\n",
      "Evaluation: 100%|██████████| 32/32 [00:00<00:00, 71.98it/s]\n"
     ]
    },
    {
     "name": "stdout",
     "output_type": "stream",
     "text": [
      "4 || valid_loss: 6.561054170131683 | train_loss: 5.256524269518965 | accuracy: 9.864278793334961 | val_accuracy: 8.600000381469727\n",
      "EarlyStopping counter: 1 out of 10\n"
     ]
    },
    {
     "name": "stderr",
     "output_type": "stream",
     "text": [
      "Training: 100%|██████████| 1811/1811 [02:33<00:00, 11.80it/s]\n",
      "Evaluation: 100%|██████████| 32/32 [00:00<00:00, 69.06it/s]\n"
     ]
    },
    {
     "name": "stdout",
     "output_type": "stream",
     "text": [
      "5 || valid_loss: 6.710918217897415 | train_loss: 4.908707504704274 | accuracy: 12.394001960754395 | val_accuracy: 9.100000381469727\n",
      "EarlyStopping counter: 2 out of 10\n"
     ]
    },
    {
     "name": "stderr",
     "output_type": "stream",
     "text": [
      "Training: 100%|██████████| 1811/1811 [02:32<00:00, 11.89it/s]\n",
      "Evaluation: 100%|██████████| 32/32 [00:00<00:00, 72.09it/s]\n"
     ]
    },
    {
     "name": "stdout",
     "output_type": "stream",
     "text": [
      "6 || valid_loss: 6.8070948868989944 | train_loss: 4.614966976780841 | accuracy: 15.040241241455078 | val_accuracy: 9.399999618530273\n",
      "EarlyStopping counter: 3 out of 10\n"
     ]
    },
    {
     "name": "stderr",
     "output_type": "stream",
     "text": [
      "Training: 100%|██████████| 1811/1811 [02:29<00:00, 12.15it/s]\n",
      "Evaluation: 100%|██████████| 32/32 [00:00<00:00, 71.00it/s]\n"
     ]
    },
    {
     "name": "stdout",
     "output_type": "stream",
     "text": [
      "7 || valid_loss: 6.968503937125206 | train_loss: 4.369335234593055 | accuracy: 17.689071655273438 | val_accuracy: 10.600000381469727\n",
      "EarlyStopping counter: 4 out of 10\n"
     ]
    },
    {
     "name": "stderr",
     "output_type": "stream",
     "text": [
      "Training: 100%|██████████| 1811/1811 [02:29<00:00, 12.09it/s]\n",
      "Evaluation: 100%|██████████| 32/32 [00:00<00:00, 74.13it/s]\n"
     ]
    },
    {
     "name": "stdout",
     "output_type": "stream",
     "text": [
      "8 || valid_loss: 7.2358773946762085 | train_loss: 4.161655911419814 | accuracy: 20.106592178344727 | val_accuracy: 13.199999809265137\n",
      "EarlyStopping counter: 5 out of 10\n"
     ]
    },
    {
     "name": "stderr",
     "output_type": "stream",
     "text": [
      "Training: 100%|██████████| 1811/1811 [02:30<00:00, 12.06it/s]\n",
      "Evaluation: 100%|██████████| 32/32 [00:00<00:00, 76.17it/s]\n"
     ]
    },
    {
     "name": "stdout",
     "output_type": "stream",
     "text": [
      "9 || valid_loss: 7.275551572442055 | train_loss: 3.9835185741338197 | accuracy: 22.4140682220459 | val_accuracy: 13.0\n",
      "EarlyStopping counter: 6 out of 10\n"
     ]
    },
    {
     "name": "stderr",
     "output_type": "stream",
     "text": [
      "Training: 100%|██████████| 1811/1811 [02:32<00:00, 11.85it/s]\n",
      "Evaluation: 100%|██████████| 32/32 [00:00<00:00, 70.08it/s]\n"
     ]
    },
    {
     "name": "stdout",
     "output_type": "stream",
     "text": [
      "10 || valid_loss: 7.391545802354813 | train_loss: 3.8270409698317818 | accuracy: 24.529937744140625 | val_accuracy: 14.300000190734863\n",
      "EarlyStopping counter: 7 out of 10\n"
     ]
    },
    {
     "name": "stderr",
     "output_type": "stream",
     "text": [
      "Training: 100%|██████████| 1811/1811 [02:33<00:00, 11.81it/s]\n",
      "Evaluation: 100%|██████████| 32/32 [00:00<00:00, 70.33it/s]\n"
     ]
    },
    {
     "name": "stdout",
     "output_type": "stream",
     "text": [
      "11 || valid_loss: 7.504869386553764 | train_loss: 3.6879726467311613 | accuracy: 26.417951583862305 | val_accuracy: 14.899999618530273\n",
      "EarlyStopping counter: 8 out of 10\n"
     ]
    },
    {
     "name": "stderr",
     "output_type": "stream",
     "text": [
      "Training: 100%|██████████| 1811/1811 [02:35<00:00, 11.65it/s]\n",
      "Evaluation: 100%|██████████| 32/32 [00:00<00:00, 75.14it/s]\n"
     ]
    },
    {
     "name": "stdout",
     "output_type": "stream",
     "text": [
      "12 || valid_loss: 7.826947197318077 | train_loss: 3.5622746656113473 | accuracy: 28.182544708251953 | val_accuracy: 15.600000381469727\n",
      "EarlyStopping counter: 9 out of 10\n"
     ]
    },
    {
     "name": "stderr",
     "output_type": "stream",
     "text": [
      "Training: 100%|██████████| 1811/1811 [02:34<00:00, 11.71it/s]\n",
      "Evaluation: 100%|██████████| 32/32 [00:00<00:00, 68.37it/s]"
     ]
    },
    {
     "name": "stdout",
     "output_type": "stream",
     "text": [
      "13 || valid_loss: 7.817012548446655 | train_loss: 3.449610567961787 | accuracy: 29.900527954101562 | val_accuracy: 16.700000762939453\n",
      "EarlyStopping counter: 10 out of 10\n",
      "Early stopping\n"
     ]
    },
    {
     "name": "stderr",
     "output_type": "stream",
     "text": [
      "\n"
     ]
    }
   ],
   "source": [
    "lr = 0.001\n",
    "epochs = 1000\n",
    "history1 = fit(epochs, lr, model, train_data_loader, test_data_loader)"
   ]
  },
  {
   "cell_type": "code",
   "execution_count": 36,
   "metadata": {},
   "outputs": [
    {
     "name": "stdout",
     "output_type": "stream",
     "text": [
      "Checking accuracy on test data\n"
     ]
    },
    {
     "name": "stderr",
     "output_type": "stream",
     "text": [
      "100%|██████████| 32/32 [00:00<00:00, 109.10it/s]"
     ]
    },
    {
     "name": "stdout",
     "output_type": "stream",
     "text": [
      "Got 75 / 1000 with accuracy 7.50\n"
     ]
    },
    {
     "name": "stderr",
     "output_type": "stream",
     "text": [
      "\n"
     ]
    }
   ],
   "source": [
    "check_accuracy(test_data_loader, torch.load('artist_model.pth'))"
   ]
  },
  {
   "cell_type": "markdown",
   "metadata": {},
   "source": [
    "## Genre Prediction"
   ]
  },
  {
   "cell_type": "code",
   "execution_count": 1,
   "metadata": {},
   "outputs": [],
   "source": [
    "import numpy as np\n",
    "import pandas as pd\n",
    "import matplotlib.pyplot as plt\n",
    "import sklearn\n",
    "from sklearn import preprocessing"
   ]
  },
  {
   "cell_type": "code",
   "execution_count": 2,
   "metadata": {},
   "outputs": [],
   "source": [
    "INPUT_DATA_PATH = 'data/spotify_features.csv'\n",
    "\n",
    "INPUT_DATA_COLUMN_NAMES = [\n",
    "  'Genre', 'Artist Name', 'Track Name', 'Track ID', 'Popularity', 'Acousticness',\n",
    "  'Danceability', 'Duration (ms)', 'Energy', 'Instrumentalness', 'Key', 'Liveness',\n",
    "  'Loudness', 'Mode', 'Speechiness', 'Tempo', 'Time Signature', 'Valence'\n",
    "]"
   ]
  },
  {
   "cell_type": "code",
   "execution_count": 3,
   "metadata": {},
   "outputs": [],
   "source": [
    "INPUT_DATA_COLUMNS_TO_USE = [\n",
    "  'Acousticness',\n",
    "  'Danceability',\n",
    "  'Energy',\n",
    "  'Instrumentalness',\n",
    "  'Liveness',\n",
    "  'Loudness',\n",
    "  'Speechiness',\n",
    "  'Tempo',\n",
    "  'Valence',\n",
    "  # Categorical features\n",
    "  'Genre',\n",
    "  'Key',\n",
    "  'Mode',\n",
    "  'Time Signature'\n",
    "]"
   ]
  },
  {
   "cell_type": "code",
   "execution_count": 4,
   "metadata": {},
   "outputs": [],
   "source": [
    "NUMERIC_COLUMNS_TO_SCALE = ['Loudness', 'Tempo']\n",
    "CATEGORICAL_COLUMNS_TO_ONE_HOT_ENCODE = ['Key', 'Mode', 'Time Signature']\n",
    "IDENTIFYING_COLUMNS = ['Artist Name', 'Track Name']"
   ]
  },
  {
   "cell_type": "code",
   "execution_count": 5,
   "metadata": {},
   "outputs": [],
   "source": [
    "def load_input_data(include_identifying_columns = False):\n",
    "  columns_to_use = (IDENTIFYING_COLUMNS + INPUT_DATA_COLUMNS_TO_USE) if include_identifying_columns else INPUT_DATA_COLUMNS_TO_USE\n",
    "\n",
    "  data_frame = pd.read_csv(\n",
    "    INPUT_DATA_PATH,\n",
    "    header = 0,\n",
    "    names = INPUT_DATA_COLUMN_NAMES,\n",
    "    usecols = columns_to_use\n",
    "  )\n",
    "  final_genres = ['R&B', 'Alternative', 'Country', 'Dance','Electronic', 'Folk', 'Blues', 'Opera', 'Hip-Hop','Rap', 'Indie','Classical', 'Pop', 'Reggae', 'Jazz', 'Rock']\n",
    "  data_frame = data_frame[data_frame['Genre'].isin(final_genres)]\n",
    "  data_frame = data_frame[columns_to_use]\n",
    "\n",
    "  return data_frame"
   ]
  },
  {
   "cell_type": "code",
   "execution_count": 6,
   "metadata": {},
   "outputs": [],
   "source": [
    "def preprocess_input_data(data_frame):\n",
    "  z_score_scaler = sklearn.preprocessing.StandardScaler(copy = True)\n",
    "  data_frame[NUMERIC_COLUMNS_TO_SCALE] = z_score_scaler.fit_transform(data_frame[NUMERIC_COLUMNS_TO_SCALE].to_numpy())\n",
    "  data_frame = pd.get_dummies(\n",
    "    data_frame,\n",
    "    columns = CATEGORICAL_COLUMNS_TO_ONE_HOT_ENCODE,\n",
    "    sparse = False\n",
    "  )\n",
    "\n",
    "  return data_frame\n"
   ]
  },
  {
   "cell_type": "code",
   "execution_count": 7,
   "metadata": {},
   "outputs": [],
   "source": [
    "data_framex = load_input_data()\n",
    "data_framex = preprocess_input_data(data_framex)"
   ]
  },
  {
   "cell_type": "code",
   "execution_count": 8,
   "metadata": {},
   "outputs": [
    {
     "data": {
      "text/html": [
       "<div>\n",
       "<style scoped>\n",
       "    .dataframe tbody tr th:only-of-type {\n",
       "        vertical-align: middle;\n",
       "    }\n",
       "\n",
       "    .dataframe tbody tr th {\n",
       "        vertical-align: top;\n",
       "    }\n",
       "\n",
       "    .dataframe thead th {\n",
       "        text-align: right;\n",
       "    }\n",
       "</style>\n",
       "<table border=\"1\" class=\"dataframe\">\n",
       "  <thead>\n",
       "    <tr style=\"text-align: right;\">\n",
       "      <th></th>\n",
       "      <th>Acousticness</th>\n",
       "      <th>Danceability</th>\n",
       "      <th>Energy</th>\n",
       "      <th>Instrumentalness</th>\n",
       "      <th>Liveness</th>\n",
       "      <th>Loudness</th>\n",
       "      <th>Speechiness</th>\n",
       "      <th>Tempo</th>\n",
       "      <th>Valence</th>\n",
       "      <th>Genre</th>\n",
       "      <th>...</th>\n",
       "      <th>Key_F#</th>\n",
       "      <th>Key_G</th>\n",
       "      <th>Key_G#</th>\n",
       "      <th>Mode_Major</th>\n",
       "      <th>Mode_Minor</th>\n",
       "      <th>Time Signature_0/4</th>\n",
       "      <th>Time Signature_1/4</th>\n",
       "      <th>Time Signature_3/4</th>\n",
       "      <th>Time Signature_4/4</th>\n",
       "      <th>Time Signature_5/4</th>\n",
       "    </tr>\n",
       "  </thead>\n",
       "  <tbody>\n",
       "    <tr>\n",
       "      <th>135</th>\n",
       "      <td>0.0830</td>\n",
       "      <td>0.724</td>\n",
       "      <td>0.689</td>\n",
       "      <td>0.000000</td>\n",
       "      <td>0.3040</td>\n",
       "      <td>0.567378</td>\n",
       "      <td>0.1350</td>\n",
       "      <td>0.943281</td>\n",
       "      <td>0.6930</td>\n",
       "      <td>R&amp;B</td>\n",
       "      <td>...</td>\n",
       "      <td>0</td>\n",
       "      <td>0</td>\n",
       "      <td>0</td>\n",
       "      <td>0</td>\n",
       "      <td>1</td>\n",
       "      <td>0</td>\n",
       "      <td>0</td>\n",
       "      <td>0</td>\n",
       "      <td>1</td>\n",
       "      <td>0</td>\n",
       "    </tr>\n",
       "    <tr>\n",
       "      <th>136</th>\n",
       "      <td>0.3230</td>\n",
       "      <td>0.685</td>\n",
       "      <td>0.610</td>\n",
       "      <td>0.000000</td>\n",
       "      <td>0.1020</td>\n",
       "      <td>0.687692</td>\n",
       "      <td>0.0439</td>\n",
       "      <td>-0.793991</td>\n",
       "      <td>0.3230</td>\n",
       "      <td>R&amp;B</td>\n",
       "      <td>...</td>\n",
       "      <td>0</td>\n",
       "      <td>0</td>\n",
       "      <td>0</td>\n",
       "      <td>0</td>\n",
       "      <td>1</td>\n",
       "      <td>0</td>\n",
       "      <td>0</td>\n",
       "      <td>1</td>\n",
       "      <td>0</td>\n",
       "      <td>0</td>\n",
       "    </tr>\n",
       "    <tr>\n",
       "      <th>137</th>\n",
       "      <td>0.0675</td>\n",
       "      <td>0.762</td>\n",
       "      <td>0.520</td>\n",
       "      <td>0.000004</td>\n",
       "      <td>0.1140</td>\n",
       "      <td>0.684946</td>\n",
       "      <td>0.0959</td>\n",
       "      <td>-1.438634</td>\n",
       "      <td>0.0862</td>\n",
       "      <td>R&amp;B</td>\n",
       "      <td>...</td>\n",
       "      <td>0</td>\n",
       "      <td>0</td>\n",
       "      <td>0</td>\n",
       "      <td>0</td>\n",
       "      <td>1</td>\n",
       "      <td>0</td>\n",
       "      <td>0</td>\n",
       "      <td>0</td>\n",
       "      <td>1</td>\n",
       "      <td>0</td>\n",
       "    </tr>\n",
       "    <tr>\n",
       "      <th>138</th>\n",
       "      <td>0.3600</td>\n",
       "      <td>0.563</td>\n",
       "      <td>0.366</td>\n",
       "      <td>0.002430</td>\n",
       "      <td>0.0955</td>\n",
       "      <td>0.400208</td>\n",
       "      <td>0.1210</td>\n",
       "      <td>-1.095093</td>\n",
       "      <td>0.7680</td>\n",
       "      <td>R&amp;B</td>\n",
       "      <td>...</td>\n",
       "      <td>0</td>\n",
       "      <td>0</td>\n",
       "      <td>0</td>\n",
       "      <td>0</td>\n",
       "      <td>1</td>\n",
       "      <td>0</td>\n",
       "      <td>0</td>\n",
       "      <td>0</td>\n",
       "      <td>1</td>\n",
       "      <td>0</td>\n",
       "    </tr>\n",
       "    <tr>\n",
       "      <th>139</th>\n",
       "      <td>0.5960</td>\n",
       "      <td>0.653</td>\n",
       "      <td>0.621</td>\n",
       "      <td>0.000000</td>\n",
       "      <td>0.0811</td>\n",
       "      <td>0.601876</td>\n",
       "      <td>0.0409</td>\n",
       "      <td>-0.606569</td>\n",
       "      <td>0.4660</td>\n",
       "      <td>R&amp;B</td>\n",
       "      <td>...</td>\n",
       "      <td>0</td>\n",
       "      <td>0</td>\n",
       "      <td>0</td>\n",
       "      <td>0</td>\n",
       "      <td>1</td>\n",
       "      <td>0</td>\n",
       "      <td>0</td>\n",
       "      <td>0</td>\n",
       "      <td>1</td>\n",
       "      <td>0</td>\n",
       "    </tr>\n",
       "  </tbody>\n",
       "</table>\n",
       "<p>5 rows × 29 columns</p>\n",
       "</div>"
      ],
      "text/plain": [
       "     Acousticness  Danceability  Energy  Instrumentalness  Liveness  Loudness  \\\n",
       "135        0.0830         0.724   0.689          0.000000    0.3040  0.567378   \n",
       "136        0.3230         0.685   0.610          0.000000    0.1020  0.687692   \n",
       "137        0.0675         0.762   0.520          0.000004    0.1140  0.684946   \n",
       "138        0.3600         0.563   0.366          0.002430    0.0955  0.400208   \n",
       "139        0.5960         0.653   0.621          0.000000    0.0811  0.601876   \n",
       "\n",
       "     Speechiness     Tempo  Valence Genre  ...  Key_F#  Key_G  Key_G#  \\\n",
       "135       0.1350  0.943281   0.6930   R&B  ...       0      0       0   \n",
       "136       0.0439 -0.793991   0.3230   R&B  ...       0      0       0   \n",
       "137       0.0959 -1.438634   0.0862   R&B  ...       0      0       0   \n",
       "138       0.1210 -1.095093   0.7680   R&B  ...       0      0       0   \n",
       "139       0.0409 -0.606569   0.4660   R&B  ...       0      0       0   \n",
       "\n",
       "     Mode_Major  Mode_Minor  Time Signature_0/4  Time Signature_1/4  \\\n",
       "135           0           1                   0                   0   \n",
       "136           0           1                   0                   0   \n",
       "137           0           1                   0                   0   \n",
       "138           0           1                   0                   0   \n",
       "139           0           1                   0                   0   \n",
       "\n",
       "     Time Signature_3/4  Time Signature_4/4  Time Signature_5/4  \n",
       "135                   0                   1                   0  \n",
       "136                   1                   0                   0  \n",
       "137                   0                   1                   0  \n",
       "138                   0                   1                   0  \n",
       "139                   0                   1                   0  \n",
       "\n",
       "[5 rows x 29 columns]"
      ]
     },
     "execution_count": 8,
     "metadata": {},
     "output_type": "execute_result"
    }
   ],
   "source": [
    "data_framex.head()"
   ]
  },
  {
   "cell_type": "code",
   "execution_count": 9,
   "metadata": {},
   "outputs": [],
   "source": [
    "unique = data_framex['Genre'].unique()"
   ]
  },
  {
   "cell_type": "code",
   "execution_count": 10,
   "metadata": {},
   "outputs": [],
   "source": [
    "from sklearn.preprocessing import LabelEncoder\n",
    "import torch\n",
    "from keras.utils import np_utils\n",
    "torch.autograd.set_detect_anomaly(True)\n",
    "\n",
    "from sklearn.preprocessing import label_binarize\n",
    "from sklearn.preprocessing import LabelEncoder\n",
    "from torch.utils.data import (\n",
    "    Dataset,\n",
    "    DataLoader,\n",
    ")\n",
    "label_encoder = LabelEncoder()\n",
    "\n",
    "\n",
    "class CustomDataset(Dataset):\n",
    "    def __init__ (self, df):\n",
    "        genre = df['Genre']\n",
    "        del df['Genre']\n",
    "        X = df.values\n",
    "        Y = genre\n",
    "\n",
    "        self.data = X.astype(np.float32)\n",
    "        \n",
    "        self.target = label_binarize(Y, classes = unique).astype(np.float32)\n",
    "    \n",
    "    def __len__(self):\n",
    "        return len(self.data)\n",
    "        \n",
    "    def __getitem__(self, index):\n",
    "        return torch.tensor(self.data[index]), torch.tensor(self.target[index])\n",
    "\n",
    "ds = CustomDataset(data_framex)"
   ]
  },
  {
   "cell_type": "code",
   "execution_count": 11,
   "metadata": {},
   "outputs": [],
   "source": [
    "from sklearn import model_selection\n",
    "train_data_set, test_data_set = model_selection.train_test_split(\n",
    "ds,\n",
    "test_size = 1000,\n",
    "shuffle = True\n",
    ")\n",
    "\n",
    "train_data_loader = DataLoader(\n",
    "train_data_set,\n",
    "batch_size = 500,\n",
    "shuffle = True\n",
    ")\n",
    "\n",
    "test_data_loader = DataLoader(\n",
    "test_data_set,\n",
    "batch_size = 500,\n",
    "shuffle = True\n",
    ")"
   ]
  },
  {
   "cell_type": "code",
   "execution_count": 12,
   "metadata": {},
   "outputs": [],
   "source": [
    "train_size = len(train_data_loader.dataset)\n",
    "val_size = len(test_data_loader.dataset)"
   ]
  },
  {
   "cell_type": "code",
   "execution_count": 13,
   "metadata": {},
   "outputs": [],
   "source": [
    "import torch\n",
    "\n",
    "class ClassificationModel(torch.nn.Module):\n",
    "  def __init__(self):\n",
    "    super(ClassificationModel, self).__init__()\n",
    "\n",
    "    self.linear1 = torch.nn.Linear(ds[0][0].shape[0], 512)\n",
    "    self.relu1 = torch.nn.ReLU()\n",
    "    self.linear2 = torch.nn.Linear(512, len(unique))\n",
    "\n",
    "  def forward(self, data):\n",
    "    data = data.float()\n",
    "\n",
    "    data = self.linear1(data)\n",
    "    data = self.relu1(data)\n",
    "    data = self.linear2(data)\n",
    "\n",
    "    return data"
   ]
  },
  {
   "cell_type": "code",
   "execution_count": 14,
   "metadata": {},
   "outputs": [],
   "source": [
    "import torch\n",
    "import numpy as np\n",
    "\n",
    "class EarlyStopping:\n",
    "    def __init__(self, patience=7, verbose=True, delta=0, path='model.pth', trace_func=print):\n",
    "        self.patience = patience\n",
    "        self.verbose = verbose\n",
    "        self.counter = 0\n",
    "        self.best_score = None\n",
    "        self.early_stop = False\n",
    "        self.val_loss_min = np.Inf\n",
    "        self.delta = delta\n",
    "        self.path = path\n",
    "        self.trace_func = trace_func\n",
    "    def __call__(self, val_loss, model):\n",
    "\n",
    "        score = -val_loss\n",
    "\n",
    "        if self.best_score is None:\n",
    "            self.best_score = score\n",
    "            self.save_checkpoint(val_loss, model)\n",
    "        elif score < self.best_score + self.delta:\n",
    "            self.counter += 1\n",
    "            self.trace_func(f'EarlyStopping counter: {self.counter} out of {self.patience}')\n",
    "            if self.counter >= self.patience:\n",
    "                self.early_stop = True\n",
    "        else:\n",
    "            self.best_score = score\n",
    "            self.save_checkpoint(val_loss, model)\n",
    "            self.counter = 0\n",
    "\n",
    "    def save_checkpoint(self, val_loss, model):\n",
    "        if self.verbose:\n",
    "            self.trace_func(f'Validation loss decreased ({self.val_loss_min:.6f} --> {val_loss:.6f}).  Saving model ...')\n",
    "        torch.save(model, 'model.pth')\n",
    "        self.val_loss_min = val_loss"
   ]
  },
  {
   "cell_type": "code",
   "execution_count": 15,
   "metadata": {},
   "outputs": [],
   "source": [
    "import tqdm\n",
    "\n",
    "device = torch.device(\"cuda\" if torch.cuda.is_available() else \"cpu\")\n",
    "\n",
    "model = ClassificationModel()\n",
    "model.to(device)\n",
    "\n",
    "criterion = torch.nn.CrossEntropyLoss()\n",
    "\n",
    "\n",
    "def fit(num_epochs, learning_rate, model, train_loader, val_loader):\n",
    "    optimizer = torch.optim.Adam(model.parameters(), lr=learning_rate)\n",
    "\n",
    "    train_losses = []\n",
    "    valid_losses = []\n",
    "    avg_train_losses = []\n",
    "    avg_valid_losses = [] \n",
    "\n",
    "    early_stopping = EarlyStopping(patience=10, verbose=True)\n",
    "\n",
    "    for epoch in range(num_epochs):\n",
    "        losses = []\n",
    "        correct = 0\n",
    "        \n",
    "        model.train()\n",
    "        for (data, targets) in tqdm.tqdm(train_loader, desc= \"Training\"):\n",
    "            data = data.to(device)\n",
    "            targets = targets.to(device)\n",
    "            \n",
    "            optimizer.zero_grad()\n",
    "            \n",
    "            scores = model(data)\n",
    "            loss = criterion(scores, targets)\n",
    "            losses.append(loss.item())\n",
    "            \n",
    "            loss.backward()\n",
    "\n",
    "            torch.nn.utils.clip_grad_value_(model.parameters(), 0.1)\n",
    "\n",
    "            optimizer.step()\n",
    "\n",
    "            correct += (scores.argmax(dim=1) == targets.argmax(dim=1)).float().sum()\n",
    "            train_losses.append(loss.item())\n",
    "\n",
    "        optimizer.zero_grad()\n",
    "\n",
    "        model.eval()\n",
    "        correct_ = 0\n",
    "        for data, target in tqdm.tqdm(val_loader, desc= \"Evaluation\"):\n",
    "          data = data.to(device)\n",
    "          target = target.to(device)\n",
    "          output = model(data)            \n",
    "          loss = criterion(output, target)\n",
    "          valid_losses.append(loss.item())\n",
    "          correct_ += (output.argmax(dim=1) == target.argmax(dim=1)).float().sum()\n",
    "        \n",
    "        accuracy = 100 * correct / train_size\n",
    "        val_accuracy = 100 * correct_ / val_size\n",
    "\n",
    "        train_loss = np.average(train_losses)\n",
    "        valid_loss = np.average(valid_losses)\n",
    "        avg_train_losses.append(train_loss)\n",
    "        avg_valid_losses.append(valid_loss)\n",
    "        \n",
    "        \n",
    "        print(f\"{epoch+1} || valid_loss: {valid_loss} | train_loss: {train_loss} | accuracy: {accuracy} | val_accuracy: {val_accuracy}\")\n",
    "        \n",
    "        early_stopping(valid_loss, model)\n",
    "        \n",
    "        if early_stopping.early_stop:\n",
    "            print(\"Early stopping\")\n",
    "            break\n",
    "            \n",
    "        # clear lists to track next epoch\n",
    "        train_losses = []\n",
    "        valid_losses = []\n",
    "\n",
    "def check_accuracy(loader, model):\n",
    "    print(\"Checking accuracy on test data\")\n",
    "\n",
    "    num_correct = 0\n",
    "    num_samples = 0\n",
    "    model.eval()\n",
    "\n",
    "    with torch.no_grad():\n",
    "        for x, y in tqdm.tqdm(loader):\n",
    "            x = x.to(device)\n",
    "            y = y.to(device)\n",
    "\n",
    "            scores = model(x)\n",
    "            num_correct += (scores.argmax(dim=1) == y.argmax(dim=1)).sum()\n",
    "            num_samples += 1*x.shape[0]\n",
    "\n",
    "        print(f\"Got {num_correct} / {num_samples} with accuracy {float(num_correct)/float(num_samples)*100:.2f}\")\n",
    "\n",
    "    model.train()"
   ]
  },
  {
   "cell_type": "code",
   "execution_count": 16,
   "metadata": {},
   "outputs": [
    {
     "name": "stderr",
     "output_type": "stream",
     "text": [
      "Training: 100%|██████████| 290/290 [00:03<00:00, 83.10it/s] \n",
      "Evaluation: 100%|██████████| 2/2 [00:00<00:00, 180.60it/s]\n"
     ]
    },
    {
     "name": "stdout",
     "output_type": "stream",
     "text": [
      "1 || valid_loss: 2.085245966911316 | train_loss: 2.2270821760440693 | accuracy: 26.011947631835938 | val_accuracy: 30.700000762939453\n",
      "Validation loss decreased (inf --> 2.085246).  Saving model ...\n"
     ]
    },
    {
     "name": "stderr",
     "output_type": "stream",
     "text": [
      "Training: 100%|██████████| 290/290 [00:02<00:00, 113.10it/s]\n",
      "Evaluation: 100%|██████████| 2/2 [00:00<00:00, 118.81it/s]\n"
     ]
    },
    {
     "name": "stdout",
     "output_type": "stream",
     "text": [
      "2 || valid_loss: 2.0523831844329834 | train_loss: 2.049395271827435 | accuracy: 30.686141967773438 | val_accuracy: 30.700000762939453\n",
      "Validation loss decreased (2.085246 --> 2.052383).  Saving model ...\n"
     ]
    },
    {
     "name": "stderr",
     "output_type": "stream",
     "text": [
      "Training: 100%|██████████| 290/290 [00:02<00:00, 102.78it/s]\n",
      "Evaluation: 100%|██████████| 2/2 [00:00<00:00, 211.46it/s]\n"
     ]
    },
    {
     "name": "stdout",
     "output_type": "stream",
     "text": [
      "3 || valid_loss: 2.033055901527405 | train_loss: 2.0201107312893045 | accuracy: 31.507993698120117 | val_accuracy: 31.299999237060547\n",
      "Validation loss decreased (2.052383 --> 2.033056).  Saving model ...\n"
     ]
    },
    {
     "name": "stderr",
     "output_type": "stream",
     "text": [
      "Training: 100%|██████████| 290/290 [00:02<00:00, 118.67it/s]\n",
      "Evaluation: 100%|██████████| 2/2 [00:00<00:00, 109.74it/s]\n"
     ]
    },
    {
     "name": "stdout",
     "output_type": "stream",
     "text": [
      "4 || valid_loss: 2.0248587131500244 | train_loss: 2.001825445684893 | accuracy: 32.210365295410156 | val_accuracy: 30.399999618530273\n",
      "Validation loss decreased (2.033056 --> 2.024859).  Saving model ...\n"
     ]
    },
    {
     "name": "stderr",
     "output_type": "stream",
     "text": [
      "Training: 100%|██████████| 290/290 [00:02<00:00, 124.65it/s]\n",
      "Evaluation: 100%|██████████| 2/2 [00:00<00:00, 170.01it/s]\n"
     ]
    },
    {
     "name": "stdout",
     "output_type": "stream",
     "text": [
      "5 || valid_loss: 2.0153807401657104 | train_loss: 1.988978373182231 | accuracy: 32.474876403808594 | val_accuracy: 31.799999237060547\n",
      "Validation loss decreased (2.024859 --> 2.015381).  Saving model ...\n"
     ]
    },
    {
     "name": "stderr",
     "output_type": "stream",
     "text": [
      "Training: 100%|██████████| 290/290 [00:02<00:00, 107.48it/s]\n",
      "Evaluation: 100%|██████████| 2/2 [00:00<00:00, 102.05it/s]\n"
     ]
    },
    {
     "name": "stdout",
     "output_type": "stream",
     "text": [
      "6 || valid_loss: 2.013252854347229 | train_loss: 1.9782300994313997 | accuracy: 32.76563262939453 | val_accuracy: 32.70000076293945\n",
      "Validation loss decreased (2.015381 --> 2.013253).  Saving model ...\n"
     ]
    },
    {
     "name": "stderr",
     "output_type": "stream",
     "text": [
      "Training: 100%|██████████| 290/290 [00:02<00:00, 126.95it/s]\n",
      "Evaluation: 100%|██████████| 2/2 [00:00<00:00, 187.77it/s]\n"
     ]
    },
    {
     "name": "stdout",
     "output_type": "stream",
     "text": [
      "7 || valid_loss: 2.005982279777527 | train_loss: 1.9698015299336664 | accuracy: 32.99216079711914 | val_accuracy: 31.5\n",
      "Validation loss decreased (2.013253 --> 2.005982).  Saving model ...\n"
     ]
    },
    {
     "name": "stderr",
     "output_type": "stream",
     "text": [
      "Training: 100%|██████████| 290/290 [00:02<00:00, 123.55it/s]\n",
      "Evaluation: 100%|██████████| 2/2 [00:00<00:00, 153.24it/s]\n"
     ]
    },
    {
     "name": "stdout",
     "output_type": "stream",
     "text": [
      "8 || valid_loss: 2.0034331679344177 | train_loss: 1.961281285614803 | accuracy: 33.3001823425293 | val_accuracy: 31.299999237060547\n",
      "Validation loss decreased (2.005982 --> 2.003433).  Saving model ...\n"
     ]
    },
    {
     "name": "stderr",
     "output_type": "stream",
     "text": [
      "Training: 100%|██████████| 290/290 [00:02<00:00, 125.20it/s]\n",
      "Evaluation: 100%|██████████| 2/2 [00:00<00:00, 152.07it/s]\n"
     ]
    },
    {
     "name": "stdout",
     "output_type": "stream",
     "text": [
      "9 || valid_loss: 1.9941060543060303 | train_loss: 1.9551700649590327 | accuracy: 33.47283935546875 | val_accuracy: 32.400001525878906\n",
      "Validation loss decreased (2.003433 --> 1.994106).  Saving model ...\n"
     ]
    },
    {
     "name": "stderr",
     "output_type": "stream",
     "text": [
      "Training: 100%|██████████| 290/290 [00:02<00:00, 116.19it/s]\n",
      "Evaluation: 100%|██████████| 2/2 [00:00<00:00, 223.18it/s]\n"
     ]
    },
    {
     "name": "stdout",
     "output_type": "stream",
     "text": [
      "10 || valid_loss: 1.9891914129257202 | train_loss: 1.9487310236897961 | accuracy: 33.56331253051758 | val_accuracy: 31.899999618530273\n",
      "Validation loss decreased (1.994106 --> 1.989191).  Saving model ...\n"
     ]
    },
    {
     "name": "stderr",
     "output_type": "stream",
     "text": [
      "Training: 100%|██████████| 290/290 [00:02<00:00, 123.75it/s]\n",
      "Evaluation: 100%|██████████| 2/2 [00:00<00:00, 262.44it/s]\n"
     ]
    },
    {
     "name": "stdout",
     "output_type": "stream",
     "text": [
      "11 || valid_loss: 1.9814780354499817 | train_loss: 1.942776820577424 | accuracy: 33.76566696166992 | val_accuracy: 32.70000076293945\n",
      "Validation loss decreased (1.989191 --> 1.981478).  Saving model ...\n"
     ]
    },
    {
     "name": "stderr",
     "output_type": "stream",
     "text": [
      "Training: 100%|██████████| 290/290 [00:02<00:00, 124.68it/s]\n",
      "Evaluation: 100%|██████████| 2/2 [00:00<00:00, 107.02it/s]\n"
     ]
    },
    {
     "name": "stdout",
     "output_type": "stream",
     "text": [
      "12 || valid_loss: 1.979348361492157 | train_loss: 1.9378538168709853 | accuracy: 33.81608581542969 | val_accuracy: 31.700000762939453\n",
      "Validation loss decreased (1.981478 --> 1.979348).  Saving model ...\n"
     ]
    },
    {
     "name": "stderr",
     "output_type": "stream",
     "text": [
      "Training: 100%|██████████| 290/290 [00:02<00:00, 124.01it/s]\n",
      "Evaluation: 100%|██████████| 2/2 [00:00<00:00, 187.67it/s]\n"
     ]
    },
    {
     "name": "stdout",
     "output_type": "stream",
     "text": [
      "13 || valid_loss: 1.973143994808197 | train_loss: 1.9336380716027886 | accuracy: 33.97976303100586 | val_accuracy: 32.79999923706055\n",
      "Validation loss decreased (1.979348 --> 1.973144).  Saving model ...\n"
     ]
    },
    {
     "name": "stderr",
     "output_type": "stream",
     "text": [
      "Training: 100%|██████████| 290/290 [00:02<00:00, 120.63it/s]\n",
      "Evaluation: 100%|██████████| 2/2 [00:00<00:00, 253.20it/s]\n"
     ]
    },
    {
     "name": "stdout",
     "output_type": "stream",
     "text": [
      "14 || valid_loss: 1.9635077118873596 | train_loss: 1.928923342556789 | accuracy: 34.09993362426758 | val_accuracy: 32.400001525878906\n",
      "Validation loss decreased (1.973144 --> 1.963508).  Saving model ...\n"
     ]
    },
    {
     "name": "stderr",
     "output_type": "stream",
     "text": [
      "Training: 100%|██████████| 290/290 [00:02<00:00, 124.02it/s]\n",
      "Evaluation: 100%|██████████| 2/2 [00:00<00:00, 151.87it/s]\n"
     ]
    },
    {
     "name": "stdout",
     "output_type": "stream",
     "text": [
      "15 || valid_loss: 1.9682357907295227 | train_loss: 1.92471906604438 | accuracy: 34.237369537353516 | val_accuracy: 31.799999237060547\n",
      "EarlyStopping counter: 1 out of 10\n"
     ]
    },
    {
     "name": "stderr",
     "output_type": "stream",
     "text": [
      "Training: 100%|██████████| 290/290 [00:02<00:00, 116.01it/s]\n",
      "Evaluation: 100%|██████████| 2/2 [00:00<00:00, 194.76it/s]\n"
     ]
    },
    {
     "name": "stdout",
     "output_type": "stream",
     "text": [
      "16 || valid_loss: 1.9618117213249207 | train_loss: 1.9214082697342183 | accuracy: 34.39828872680664 | val_accuracy: 33.29999923706055\n",
      "Validation loss decreased (1.963508 --> 1.961812).  Saving model ...\n"
     ]
    },
    {
     "name": "stderr",
     "output_type": "stream",
     "text": [
      "Training: 100%|██████████| 290/290 [00:02<00:00, 125.74it/s]\n",
      "Evaluation: 100%|██████████| 2/2 [00:00<00:00, 192.36it/s]\n"
     ]
    },
    {
     "name": "stdout",
     "output_type": "stream",
     "text": [
      "17 || valid_loss: 1.9539099335670471 | train_loss: 1.9173082688759113 | accuracy: 34.4763298034668 | val_accuracy: 33.099998474121094\n",
      "Validation loss decreased (1.961812 --> 1.953910).  Saving model ...\n"
     ]
    },
    {
     "name": "stderr",
     "output_type": "stream",
     "text": [
      "Training: 100%|██████████| 290/290 [00:02<00:00, 117.30it/s]\n",
      "Evaluation: 100%|██████████| 2/2 [00:00<00:00, 221.67it/s]\n"
     ]
    },
    {
     "name": "stdout",
     "output_type": "stream",
     "text": [
      "18 || valid_loss: 1.9649655222892761 | train_loss: 1.9144817027552374 | accuracy: 34.523983001708984 | val_accuracy: 32.79999923706055\n",
      "EarlyStopping counter: 1 out of 10\n"
     ]
    },
    {
     "name": "stderr",
     "output_type": "stream",
     "text": [
      "Training: 100%|██████████| 290/290 [00:02<00:00, 120.49it/s]\n",
      "Evaluation: 100%|██████████| 2/2 [00:00<00:00, 161.80it/s]\n"
     ]
    },
    {
     "name": "stdout",
     "output_type": "stream",
     "text": [
      "19 || valid_loss: 1.9509314894676208 | train_loss: 1.9111279738360438 | accuracy: 34.59235382080078 | val_accuracy: 32.900001525878906\n",
      "Validation loss decreased (1.953910 --> 1.950931).  Saving model ...\n"
     ]
    },
    {
     "name": "stderr",
     "output_type": "stream",
     "text": [
      "Training: 100%|██████████| 290/290 [00:02<00:00, 122.00it/s]\n",
      "Evaluation: 100%|██████████| 2/2 [00:00<00:00, 154.30it/s]\n"
     ]
    },
    {
     "name": "stdout",
     "output_type": "stream",
     "text": [
      "20 || valid_loss: 1.9481547474861145 | train_loss: 1.908419062762425 | accuracy: 34.698020935058594 | val_accuracy: 32.400001525878906\n",
      "Validation loss decreased (1.950931 --> 1.948155).  Saving model ...\n"
     ]
    },
    {
     "name": "stderr",
     "output_type": "stream",
     "text": [
      "Training: 100%|██████████| 290/290 [00:02<00:00, 124.87it/s]\n",
      "Evaluation: 100%|██████████| 2/2 [00:00<00:00, 218.17it/s]\n"
     ]
    },
    {
     "name": "stdout",
     "output_type": "stream",
     "text": [
      "21 || valid_loss: 1.9426041841506958 | train_loss: 1.9060341296524836 | accuracy: 34.73324203491211 | val_accuracy: 31.5\n",
      "Validation loss decreased (1.948155 --> 1.942604).  Saving model ...\n"
     ]
    },
    {
     "name": "stderr",
     "output_type": "stream",
     "text": [
      "Training: 100%|██████████| 290/290 [00:02<00:00, 126.64it/s]\n",
      "Evaluation: 100%|██████████| 2/2 [00:00<00:00, 172.35it/s]\n"
     ]
    },
    {
     "name": "stdout",
     "output_type": "stream",
     "text": [
      "22 || valid_loss: 1.945378601551056 | train_loss: 1.9031331666584672 | accuracy: 34.86308288574219 | val_accuracy: 31.799999237060547\n",
      "EarlyStopping counter: 1 out of 10\n"
     ]
    },
    {
     "name": "stderr",
     "output_type": "stream",
     "text": [
      "Training: 100%|██████████| 290/290 [00:02<00:00, 117.53it/s]\n",
      "Evaluation: 100%|██████████| 2/2 [00:00<00:00, 179.37it/s]\n"
     ]
    },
    {
     "name": "stdout",
     "output_type": "stream",
     "text": [
      "23 || valid_loss: 1.9453509449958801 | train_loss: 1.9012043184247511 | accuracy: 34.918331146240234 | val_accuracy: 32.099998474121094\n",
      "EarlyStopping counter: 2 out of 10\n"
     ]
    },
    {
     "name": "stderr",
     "output_type": "stream",
     "text": [
      "Training: 100%|██████████| 290/290 [00:02<00:00, 122.08it/s]\n",
      "Evaluation: 100%|██████████| 2/2 [00:00<00:00, 205.80it/s]\n"
     ]
    },
    {
     "name": "stdout",
     "output_type": "stream",
     "text": [
      "24 || valid_loss: 1.9452908635139465 | train_loss: 1.898356487422154 | accuracy: 35.09237289428711 | val_accuracy: 34.0\n",
      "EarlyStopping counter: 3 out of 10\n"
     ]
    },
    {
     "name": "stderr",
     "output_type": "stream",
     "text": [
      "Training: 100%|██████████| 290/290 [00:02<00:00, 125.16it/s]\n",
      "Evaluation: 100%|██████████| 2/2 [00:00<00:00, 181.75it/s]\n"
     ]
    },
    {
     "name": "stdout",
     "output_type": "stream",
     "text": [
      "25 || valid_loss: 1.93809574842453 | train_loss: 1.8974248203737982 | accuracy: 35.030906677246094 | val_accuracy: 34.29999923706055\n",
      "Validation loss decreased (1.942604 --> 1.938096).  Saving model ...\n"
     ]
    },
    {
     "name": "stderr",
     "output_type": "stream",
     "text": [
      "Training: 100%|██████████| 290/290 [00:02<00:00, 118.73it/s]\n",
      "Evaluation: 100%|██████████| 2/2 [00:00<00:00, 180.78it/s]\n"
     ]
    },
    {
     "name": "stdout",
     "output_type": "stream",
     "text": [
      "26 || valid_loss: 1.947585642337799 | train_loss: 1.8947071975675123 | accuracy: 35.08684539794922 | val_accuracy: 32.29999923706055\n",
      "EarlyStopping counter: 1 out of 10\n"
     ]
    },
    {
     "name": "stderr",
     "output_type": "stream",
     "text": [
      "Training: 100%|██████████| 290/290 [00:02<00:00, 115.10it/s]\n",
      "Evaluation: 100%|██████████| 2/2 [00:00<00:00, 117.01it/s]\n"
     ]
    },
    {
     "name": "stdout",
     "output_type": "stream",
     "text": [
      "27 || valid_loss: 1.943257451057434 | train_loss: 1.8926823879110402 | accuracy: 35.16558074951172 | val_accuracy: 32.400001525878906\n",
      "EarlyStopping counter: 2 out of 10\n"
     ]
    },
    {
     "name": "stderr",
     "output_type": "stream",
     "text": [
      "Training: 100%|██████████| 290/290 [00:02<00:00, 129.09it/s]\n",
      "Evaluation: 100%|██████████| 2/2 [00:00<00:00, 104.95it/s]\n"
     ]
    },
    {
     "name": "stdout",
     "output_type": "stream",
     "text": [
      "28 || valid_loss: 1.9337427020072937 | train_loss: 1.8913482349494408 | accuracy: 35.34652328491211 | val_accuracy: 32.900001525878906\n",
      "Validation loss decreased (1.938096 --> 1.933743).  Saving model ...\n"
     ]
    },
    {
     "name": "stderr",
     "output_type": "stream",
     "text": [
      "Training: 100%|██████████| 290/290 [00:02<00:00, 114.47it/s]\n",
      "Evaluation: 100%|██████████| 2/2 [00:00<00:00, 205.34it/s]\n"
     ]
    },
    {
     "name": "stdout",
     "output_type": "stream",
     "text": [
      "29 || valid_loss: 1.9437182545661926 | train_loss: 1.8893852706613212 | accuracy: 35.35205078125 | val_accuracy: 32.29999923706055\n",
      "EarlyStopping counter: 1 out of 10\n"
     ]
    },
    {
     "name": "stderr",
     "output_type": "stream",
     "text": [
      "Training: 100%|██████████| 290/290 [00:02<00:00, 122.97it/s]\n",
      "Evaluation: 100%|██████████| 2/2 [00:00<00:00, 219.90it/s]\n"
     ]
    },
    {
     "name": "stdout",
     "output_type": "stream",
     "text": [
      "30 || valid_loss: 1.9392198324203491 | train_loss: 1.8882352409691645 | accuracy: 35.30646896362305 | val_accuracy: 32.400001525878906\n",
      "EarlyStopping counter: 2 out of 10\n"
     ]
    },
    {
     "name": "stderr",
     "output_type": "stream",
     "text": [
      "Training: 100%|██████████| 290/290 [00:02<00:00, 117.97it/s]\n",
      "Evaluation: 100%|██████████| 2/2 [00:00<00:00, 209.19it/s]\n"
     ]
    },
    {
     "name": "stdout",
     "output_type": "stream",
     "text": [
      "31 || valid_loss: 1.9373101592063904 | train_loss: 1.8859068751335144 | accuracy: 35.37691116333008 | val_accuracy: 32.599998474121094\n",
      "EarlyStopping counter: 3 out of 10\n"
     ]
    },
    {
     "name": "stderr",
     "output_type": "stream",
     "text": [
      "Training: 100%|██████████| 290/290 [00:02<00:00, 123.64it/s]\n",
      "Evaluation: 100%|██████████| 2/2 [00:00<00:00, 190.88it/s]\n"
     ]
    },
    {
     "name": "stdout",
     "output_type": "stream",
     "text": [
      "32 || valid_loss: 1.9345638155937195 | train_loss: 1.88443137037343 | accuracy: 35.370697021484375 | val_accuracy: 34.0\n",
      "EarlyStopping counter: 4 out of 10\n"
     ]
    },
    {
     "name": "stderr",
     "output_type": "stream",
     "text": [
      "Training: 100%|██████████| 290/290 [00:02<00:00, 124.25it/s]\n",
      "Evaluation: 100%|██████████| 2/2 [00:00<00:00, 209.03it/s]\n"
     ]
    },
    {
     "name": "stdout",
     "output_type": "stream",
     "text": [
      "33 || valid_loss: 1.9363818168640137 | train_loss: 1.8827226901876515 | accuracy: 35.52263641357422 | val_accuracy: 32.79999923706055\n",
      "EarlyStopping counter: 5 out of 10\n"
     ]
    },
    {
     "name": "stderr",
     "output_type": "stream",
     "text": [
      "Training: 100%|██████████| 290/290 [00:02<00:00, 120.60it/s]\n",
      "Evaluation: 100%|██████████| 2/2 [00:00<00:00, 196.06it/s]\n"
     ]
    },
    {
     "name": "stdout",
     "output_type": "stream",
     "text": [
      "34 || valid_loss: 1.9264670014381409 | train_loss: 1.88186010615579 | accuracy: 35.50053405761719 | val_accuracy: 33.70000076293945\n",
      "Validation loss decreased (1.933743 --> 1.926467).  Saving model ...\n"
     ]
    },
    {
     "name": "stderr",
     "output_type": "stream",
     "text": [
      "Training: 100%|██████████| 290/290 [00:02<00:00, 115.25it/s]\n",
      "Evaluation: 100%|██████████| 2/2 [00:00<00:00, 83.80it/s]\n"
     ]
    },
    {
     "name": "stdout",
     "output_type": "stream",
     "text": [
      "35 || valid_loss: 1.9377999305725098 | train_loss: 1.8804829630358466 | accuracy: 35.633827209472656 | val_accuracy: 34.70000076293945\n",
      "EarlyStopping counter: 1 out of 10\n"
     ]
    },
    {
     "name": "stderr",
     "output_type": "stream",
     "text": [
      "Training: 100%|██████████| 290/290 [00:02<00:00, 122.01it/s]\n",
      "Evaluation: 100%|██████████| 2/2 [00:00<00:00, 133.93it/s]\n"
     ]
    },
    {
     "name": "stdout",
     "output_type": "stream",
     "text": [
      "36 || valid_loss: 1.9297853708267212 | train_loss: 1.8785094096742827 | accuracy: 35.69322204589844 | val_accuracy: 33.599998474121094\n",
      "EarlyStopping counter: 2 out of 10\n"
     ]
    },
    {
     "name": "stderr",
     "output_type": "stream",
     "text": [
      "Training: 100%|██████████| 290/290 [00:02<00:00, 127.66it/s]\n",
      "Evaluation: 100%|██████████| 2/2 [00:00<00:00, 169.43it/s]\n"
     ]
    },
    {
     "name": "stdout",
     "output_type": "stream",
     "text": [
      "37 || valid_loss: 1.932521402835846 | train_loss: 1.8775896693098133 | accuracy: 35.64902114868164 | val_accuracy: 33.0\n",
      "EarlyStopping counter: 3 out of 10\n"
     ]
    },
    {
     "name": "stderr",
     "output_type": "stream",
     "text": [
      "Training: 100%|██████████| 290/290 [00:02<00:00, 124.81it/s]\n",
      "Evaluation: 100%|██████████| 2/2 [00:00<00:00, 253.96it/s]\n"
     ]
    },
    {
     "name": "stdout",
     "output_type": "stream",
     "text": [
      "38 || valid_loss: 1.9228545427322388 | train_loss: 1.876291977126023 | accuracy: 35.707035064697266 | val_accuracy: 33.400001525878906\n",
      "Validation loss decreased (1.926467 --> 1.922855).  Saving model ...\n"
     ]
    },
    {
     "name": "stderr",
     "output_type": "stream",
     "text": [
      "Training: 100%|██████████| 290/290 [00:02<00:00, 114.33it/s]\n",
      "Evaluation: 100%|██████████| 2/2 [00:00<00:00, 200.54it/s]\n"
     ]
    },
    {
     "name": "stdout",
     "output_type": "stream",
     "text": [
      "39 || valid_loss: 1.9321300983428955 | train_loss: 1.8750030472360808 | accuracy: 35.707725524902344 | val_accuracy: 34.0\n",
      "EarlyStopping counter: 1 out of 10\n"
     ]
    },
    {
     "name": "stderr",
     "output_type": "stream",
     "text": [
      "Training: 100%|██████████| 290/290 [00:02<00:00, 118.23it/s]\n",
      "Evaluation: 100%|██████████| 2/2 [00:00<00:00, 135.45it/s]\n"
     ]
    },
    {
     "name": "stdout",
     "output_type": "stream",
     "text": [
      "40 || valid_loss: 1.925414800643921 | train_loss: 1.874675607270208 | accuracy: 35.633827209472656 | val_accuracy: 32.400001525878906\n",
      "EarlyStopping counter: 2 out of 10\n"
     ]
    },
    {
     "name": "stderr",
     "output_type": "stream",
     "text": [
      "Training: 100%|██████████| 290/290 [00:02<00:00, 121.47it/s]\n",
      "Evaluation: 100%|██████████| 2/2 [00:00<00:00, 222.79it/s]\n"
     ]
    },
    {
     "name": "stdout",
     "output_type": "stream",
     "text": [
      "41 || valid_loss: 1.927610695362091 | train_loss: 1.872858227943552 | accuracy: 35.867950439453125 | val_accuracy: 32.0\n",
      "EarlyStopping counter: 3 out of 10\n"
     ]
    },
    {
     "name": "stderr",
     "output_type": "stream",
     "text": [
      "Training: 100%|██████████| 290/290 [00:02<00:00, 126.37it/s]\n",
      "Evaluation: 100%|██████████| 2/2 [00:00<00:00, 199.06it/s]\n"
     ]
    },
    {
     "name": "stdout",
     "output_type": "stream",
     "text": [
      "42 || valid_loss: 1.9218270778656006 | train_loss: 1.871742857324666 | accuracy: 35.770572662353516 | val_accuracy: 34.099998474121094\n",
      "Validation loss decreased (1.922855 --> 1.921827).  Saving model ...\n"
     ]
    },
    {
     "name": "stderr",
     "output_type": "stream",
     "text": [
      "Training: 100%|██████████| 290/290 [00:02<00:00, 114.95it/s]\n",
      "Evaluation: 100%|██████████| 2/2 [00:00<00:00, 171.03it/s]\n"
     ]
    },
    {
     "name": "stdout",
     "output_type": "stream",
     "text": [
      "43 || valid_loss: 1.935245931148529 | train_loss: 1.870043408048564 | accuracy: 35.931488037109375 | val_accuracy: 33.20000076293945\n",
      "EarlyStopping counter: 1 out of 10\n"
     ]
    },
    {
     "name": "stderr",
     "output_type": "stream",
     "text": [
      "Training: 100%|██████████| 290/290 [00:02<00:00, 101.90it/s]\n",
      "Evaluation: 100%|██████████| 2/2 [00:00<00:00, 150.21it/s]\n"
     ]
    },
    {
     "name": "stdout",
     "output_type": "stream",
     "text": [
      "44 || valid_loss: 1.930358350276947 | train_loss: 1.8706258054437308 | accuracy: 35.93425369262695 | val_accuracy: 33.099998474121094\n",
      "EarlyStopping counter: 2 out of 10\n"
     ]
    },
    {
     "name": "stderr",
     "output_type": "stream",
     "text": [
      "Training: 100%|██████████| 290/290 [00:02<00:00, 126.44it/s]\n",
      "Evaluation: 100%|██████████| 2/2 [00:00<00:00, 158.40it/s]\n"
     ]
    },
    {
     "name": "stdout",
     "output_type": "stream",
     "text": [
      "45 || valid_loss: 1.9294393658638 | train_loss: 1.868451291939308 | accuracy: 35.88798141479492 | val_accuracy: 32.400001525878906\n",
      "EarlyStopping counter: 3 out of 10\n"
     ]
    },
    {
     "name": "stderr",
     "output_type": "stream",
     "text": [
      "Training: 100%|██████████| 290/290 [00:02<00:00, 118.32it/s]\n",
      "Evaluation: 100%|██████████| 2/2 [00:00<00:00, 184.18it/s]\n"
     ]
    },
    {
     "name": "stdout",
     "output_type": "stream",
     "text": [
      "46 || valid_loss: 1.9292539954185486 | train_loss: 1.8674256620735958 | accuracy: 35.93494415283203 | val_accuracy: 33.70000076293945\n",
      "EarlyStopping counter: 4 out of 10\n"
     ]
    },
    {
     "name": "stderr",
     "output_type": "stream",
     "text": [
      "Training: 100%|██████████| 290/290 [00:02<00:00, 111.61it/s]\n",
      "Evaluation: 100%|██████████| 2/2 [00:00<00:00, 172.61it/s]\n"
     ]
    },
    {
     "name": "stdout",
     "output_type": "stream",
     "text": [
      "47 || valid_loss: 1.9218843579292297 | train_loss: 1.8667885311718644 | accuracy: 35.97914123535156 | val_accuracy: 33.29999923706055\n",
      "EarlyStopping counter: 5 out of 10\n"
     ]
    },
    {
     "name": "stderr",
     "output_type": "stream",
     "text": [
      "Training: 100%|██████████| 290/290 [00:02<00:00, 123.08it/s]\n",
      "Evaluation: 100%|██████████| 2/2 [00:00<00:00, 192.48it/s]\n"
     ]
    },
    {
     "name": "stdout",
     "output_type": "stream",
     "text": [
      "48 || valid_loss: 1.921712875366211 | train_loss: 1.866374287934139 | accuracy: 35.970855712890625 | val_accuracy: 33.20000076293945\n",
      "Validation loss decreased (1.921827 --> 1.921713).  Saving model ...\n"
     ]
    },
    {
     "name": "stderr",
     "output_type": "stream",
     "text": [
      "Training: 100%|██████████| 290/290 [00:02<00:00, 126.09it/s]\n",
      "Evaluation: 100%|██████████| 2/2 [00:00<00:00, 91.11it/s]\n"
     ]
    },
    {
     "name": "stdout",
     "output_type": "stream",
     "text": [
      "49 || valid_loss: 1.920607566833496 | train_loss: 1.8643187970950685 | accuracy: 35.990882873535156 | val_accuracy: 32.599998474121094\n",
      "Validation loss decreased (1.921713 --> 1.920608).  Saving model ...\n"
     ]
    },
    {
     "name": "stderr",
     "output_type": "stream",
     "text": [
      "Training: 100%|██████████| 290/290 [00:02<00:00, 120.62it/s]\n",
      "Evaluation: 100%|██████████| 2/2 [00:00<00:00, 152.95it/s]\n"
     ]
    },
    {
     "name": "stdout",
     "output_type": "stream",
     "text": [
      "50 || valid_loss: 1.9291393756866455 | train_loss: 1.8631793281127667 | accuracy: 36.141441345214844 | val_accuracy: 34.0\n",
      "EarlyStopping counter: 1 out of 10\n"
     ]
    },
    {
     "name": "stderr",
     "output_type": "stream",
     "text": [
      "Training: 100%|██████████| 290/290 [00:02<00:00, 119.40it/s]\n",
      "Evaluation: 100%|██████████| 2/2 [00:00<00:00, 153.75it/s]\n"
     ]
    },
    {
     "name": "stdout",
     "output_type": "stream",
     "text": [
      "51 || valid_loss: 1.9206584095954895 | train_loss: 1.863550524464969 | accuracy: 36.04958724975586 | val_accuracy: 33.79999923706055\n",
      "EarlyStopping counter: 2 out of 10\n"
     ]
    },
    {
     "name": "stderr",
     "output_type": "stream",
     "text": [
      "Training: 100%|██████████| 290/290 [00:02<00:00, 125.04it/s]\n",
      "Evaluation: 100%|██████████| 2/2 [00:00<00:00, 202.06it/s]\n"
     ]
    },
    {
     "name": "stdout",
     "output_type": "stream",
     "text": [
      "52 || valid_loss: 1.9270004630088806 | train_loss: 1.8623120036618463 | accuracy: 36.064781188964844 | val_accuracy: 34.0\n",
      "EarlyStopping counter: 3 out of 10\n"
     ]
    },
    {
     "name": "stderr",
     "output_type": "stream",
     "text": [
      "Training: 100%|██████████| 290/290 [00:02<00:00, 122.43it/s]\n",
      "Evaluation: 100%|██████████| 2/2 [00:00<00:00, 90.79it/s]\n"
     ]
    },
    {
     "name": "stdout",
     "output_type": "stream",
     "text": [
      "53 || valid_loss: 1.9279840588569641 | train_loss: 1.8615748717867096 | accuracy: 36.2132682800293 | val_accuracy: 32.599998474121094\n",
      "EarlyStopping counter: 4 out of 10\n"
     ]
    },
    {
     "name": "stderr",
     "output_type": "stream",
     "text": [
      "Training: 100%|██████████| 290/290 [00:02<00:00, 121.45it/s]\n",
      "Evaluation: 100%|██████████| 2/2 [00:00<00:00, 188.29it/s]\n"
     ]
    },
    {
     "name": "stdout",
     "output_type": "stream",
     "text": [
      "54 || valid_loss: 1.9291591048240662 | train_loss: 1.8604535106954903 | accuracy: 36.12279510498047 | val_accuracy: 33.0\n",
      "EarlyStopping counter: 5 out of 10\n"
     ]
    },
    {
     "name": "stderr",
     "output_type": "stream",
     "text": [
      "Training: 100%|██████████| 290/290 [00:02<00:00, 125.37it/s]\n",
      "Evaluation: 100%|██████████| 2/2 [00:00<00:00, 78.91it/s]\n"
     ]
    },
    {
     "name": "stdout",
     "output_type": "stream",
     "text": [
      "55 || valid_loss: 1.927086055278778 | train_loss: 1.8594502892987481 | accuracy: 36.20359802246094 | val_accuracy: 33.599998474121094\n",
      "EarlyStopping counter: 6 out of 10\n"
     ]
    },
    {
     "name": "stderr",
     "output_type": "stream",
     "text": [
      "Training: 100%|██████████| 290/290 [00:02<00:00, 117.61it/s]\n",
      "Evaluation: 100%|██████████| 2/2 [00:00<00:00, 162.56it/s]\n"
     ]
    },
    {
     "name": "stdout",
     "output_type": "stream",
     "text": [
      "56 || valid_loss: 1.9218501448631287 | train_loss: 1.859144274119673 | accuracy: 36.2277717590332 | val_accuracy: 32.099998474121094\n",
      "EarlyStopping counter: 7 out of 10\n"
     ]
    },
    {
     "name": "stderr",
     "output_type": "stream",
     "text": [
      "Training: 100%|██████████| 290/290 [00:02<00:00, 129.17it/s]\n",
      "Evaluation: 100%|██████████| 2/2 [00:00<00:00, 241.75it/s]\n"
     ]
    },
    {
     "name": "stdout",
     "output_type": "stream",
     "text": [
      "57 || valid_loss: 1.917962908744812 | train_loss: 1.8579223990440368 | accuracy: 36.238128662109375 | val_accuracy: 32.900001525878906\n",
      "Validation loss decreased (1.920608 --> 1.917963).  Saving model ...\n"
     ]
    },
    {
     "name": "stderr",
     "output_type": "stream",
     "text": [
      "Training: 100%|██████████| 290/290 [00:02<00:00, 125.65it/s]\n",
      "Evaluation: 100%|██████████| 2/2 [00:00<00:00, 193.68it/s]\n"
     ]
    },
    {
     "name": "stdout",
     "output_type": "stream",
     "text": [
      "58 || valid_loss: 1.9231823682785034 | train_loss: 1.8576825795502498 | accuracy: 36.280948638916016 | val_accuracy: 33.0\n",
      "EarlyStopping counter: 1 out of 10\n"
     ]
    },
    {
     "name": "stderr",
     "output_type": "stream",
     "text": [
      "Training: 100%|██████████| 290/290 [00:02<00:00, 127.37it/s]\n",
      "Evaluation: 100%|██████████| 2/2 [00:00<00:00, 135.13it/s]\n"
     ]
    },
    {
     "name": "stdout",
     "output_type": "stream",
     "text": [
      "59 || valid_loss: 1.9278838634490967 | train_loss: 1.856602716445923 | accuracy: 36.394901275634766 | val_accuracy: 32.5\n",
      "EarlyStopping counter: 2 out of 10\n"
     ]
    },
    {
     "name": "stderr",
     "output_type": "stream",
     "text": [
      "Training: 100%|██████████| 290/290 [00:02<00:00, 120.52it/s]\n",
      "Evaluation: 100%|██████████| 2/2 [00:00<00:00, 234.47it/s]\n"
     ]
    },
    {
     "name": "stdout",
     "output_type": "stream",
     "text": [
      "60 || valid_loss: 1.930724859237671 | train_loss: 1.8563456440794057 | accuracy: 36.183570861816406 | val_accuracy: 32.70000076293945\n",
      "EarlyStopping counter: 3 out of 10\n"
     ]
    },
    {
     "name": "stderr",
     "output_type": "stream",
     "text": [
      "Training: 100%|██████████| 290/290 [00:02<00:00, 123.02it/s]\n",
      "Evaluation: 100%|██████████| 2/2 [00:00<00:00, 96.57it/s]\n"
     ]
    },
    {
     "name": "stdout",
     "output_type": "stream",
     "text": [
      "61 || valid_loss: 1.9215922951698303 | train_loss: 1.8549300839161051 | accuracy: 36.397666931152344 | val_accuracy: 33.599998474121094\n",
      "EarlyStopping counter: 4 out of 10\n"
     ]
    },
    {
     "name": "stderr",
     "output_type": "stream",
     "text": [
      "Training: 100%|██████████| 290/290 [00:02<00:00, 113.55it/s]\n",
      "Evaluation: 100%|██████████| 2/2 [00:00<00:00, 164.84it/s]\n"
     ]
    },
    {
     "name": "stdout",
     "output_type": "stream",
     "text": [
      "62 || valid_loss: 1.9236594438552856 | train_loss: 1.8541069820009428 | accuracy: 36.280948638916016 | val_accuracy: 33.599998474121094\n",
      "EarlyStopping counter: 5 out of 10\n"
     ]
    },
    {
     "name": "stderr",
     "output_type": "stream",
     "text": [
      "Training: 100%|██████████| 290/290 [00:02<00:00, 124.12it/s]\n",
      "Evaluation: 100%|██████████| 2/2 [00:00<00:00, 152.34it/s]\n"
     ]
    },
    {
     "name": "stdout",
     "output_type": "stream",
     "text": [
      "63 || valid_loss: 1.9230015277862549 | train_loss: 1.8531924724578857 | accuracy: 36.30028533935547 | val_accuracy: 31.899999618530273\n",
      "EarlyStopping counter: 6 out of 10\n"
     ]
    },
    {
     "name": "stderr",
     "output_type": "stream",
     "text": [
      "Training: 100%|██████████| 290/290 [00:02<00:00, 121.71it/s]\n",
      "Evaluation: 100%|██████████| 2/2 [00:00<00:00, 168.40it/s]\n"
     ]
    },
    {
     "name": "stdout",
     "output_type": "stream",
     "text": [
      "64 || valid_loss: 1.9195095896720886 | train_loss: 1.852971849359315 | accuracy: 36.301666259765625 | val_accuracy: 33.900001525878906\n",
      "EarlyStopping counter: 7 out of 10\n"
     ]
    },
    {
     "name": "stderr",
     "output_type": "stream",
     "text": [
      "Training: 100%|██████████| 290/290 [00:02<00:00, 124.06it/s]\n",
      "Evaluation: 100%|██████████| 2/2 [00:00<00:00, 195.80it/s]\n"
     ]
    },
    {
     "name": "stdout",
     "output_type": "stream",
     "text": [
      "65 || valid_loss: 1.918606162071228 | train_loss: 1.8524111036596627 | accuracy: 36.31547927856445 | val_accuracy: 34.099998474121094\n",
      "EarlyStopping counter: 8 out of 10\n"
     ]
    },
    {
     "name": "stderr",
     "output_type": "stream",
     "text": [
      "Training: 100%|██████████| 290/290 [00:02<00:00, 124.38it/s]\n",
      "Evaluation: 100%|██████████| 2/2 [00:00<00:00, 124.25it/s]\n"
     ]
    },
    {
     "name": "stdout",
     "output_type": "stream",
     "text": [
      "66 || valid_loss: 1.9210617542266846 | train_loss: 1.8510285155526522 | accuracy: 36.3665885925293 | val_accuracy: 33.79999923706055\n",
      "EarlyStopping counter: 9 out of 10\n"
     ]
    },
    {
     "name": "stderr",
     "output_type": "stream",
     "text": [
      "Training: 100%|██████████| 290/290 [00:02<00:00, 125.94it/s]\n",
      "Evaluation: 100%|██████████| 2/2 [00:00<00:00, 114.26it/s]"
     ]
    },
    {
     "name": "stdout",
     "output_type": "stream",
     "text": [
      "67 || valid_loss: 1.9239519834518433 | train_loss: 1.8513438533092368 | accuracy: 36.341033935546875 | val_accuracy: 33.20000076293945\n",
      "EarlyStopping counter: 10 out of 10\n",
      "Early stopping\n"
     ]
    },
    {
     "name": "stderr",
     "output_type": "stream",
     "text": [
      "\n"
     ]
    }
   ],
   "source": [
    "lr = 0.001\n",
    "epochs = 1000\n",
    "history1 = fit(epochs, lr, model, train_data_loader, test_data_loader)"
   ]
  },
  {
   "cell_type": "code",
   "execution_count": 18,
   "metadata": {},
   "outputs": [
    {
     "name": "stdout",
     "output_type": "stream",
     "text": [
      "Checking accuracy on test data\n"
     ]
    },
    {
     "name": "stderr",
     "output_type": "stream",
     "text": [
      "100%|██████████| 2/2 [00:00<00:00, 44.41it/s]"
     ]
    },
    {
     "name": "stdout",
     "output_type": "stream",
     "text": [
      "Got 329 / 1000 with accuracy 32.90\n"
     ]
    },
    {
     "name": "stderr",
     "output_type": "stream",
     "text": [
      "\n"
     ]
    }
   ],
   "source": [
    "check_accuracy(test_data_loader, torch.load('model.pth'))"
   ]
  },
  {
   "cell_type": "code",
   "execution_count": null,
   "metadata": {},
   "outputs": [],
   "source": []
  }
 ],
 "metadata": {
  "interpreter": {
   "hash": "c6e4e9f98eb68ad3b7c296f83d20e6de614cb42e90992a65aa266555a3137d0d"
  },
  "kernelspec": {
   "display_name": "Python 3.8.12 ('base')",
   "language": "python",
   "name": "python3"
  },
  "language_info": {
   "codemirror_mode": {
    "name": "ipython",
    "version": 3
   },
   "file_extension": ".py",
   "mimetype": "text/x-python",
   "name": "python",
   "nbconvert_exporter": "python",
   "pygments_lexer": "ipython3",
   "version": "3.8.12"
  },
  "orig_nbformat": 4
 },
 "nbformat": 4,
 "nbformat_minor": 2
}
