{
 "cells": [
  {
   "cell_type": "code",
   "execution_count": 1,
   "metadata": {},
   "outputs": [],
   "source": [
    "import pandas as pd\n",
    "import matplotlib.pyplot as plt\n",
    "from matplotlib import pyplot\n",
    "from sklearn.model_selection import train_test_split\n",
    "import numpy as np"
   ]
  },
  {
   "cell_type": "code",
   "execution_count": 2,
   "metadata": {},
   "outputs": [],
   "source": [
    "final_features = ['R&B', 'Alternative', 'Country', 'Dance','Electronic', 'Folk', 'Blues', 'Opera', 'Hip-Hop','Rap', 'Indie','Classical', 'Pop', 'Reggae', 'Jazz', 'Rock']"
   ]
  },
  {
   "cell_type": "code",
   "execution_count": 3,
   "metadata": {},
   "outputs": [],
   "source": [
    "df_2000 = pd.read_csv(\"Spotify-2000.csv\")\n",
    "df_top10s = pd.read_csv(\"top10s.csv\", engine='python', encoding='latin-1')\n",
    "spotify_features = pd.read_csv(\"SpotifyFeatures.csv\")\n",
    "\n",
    "spotify_features = spotify_features[spotify_features['genre'].isin(final_features)]\n",
    "spotify_features['genre'] = spotify_features.genre.map(lambda x: x.strip().lower())"
   ]
  },
  {
   "cell_type": "code",
   "execution_count": 4,
   "metadata": {},
   "outputs": [
    {
     "data": {
      "text/html": [
       "<div>\n",
       "<style scoped>\n",
       "    .dataframe tbody tr th:only-of-type {\n",
       "        vertical-align: middle;\n",
       "    }\n",
       "\n",
       "    .dataframe tbody tr th {\n",
       "        vertical-align: top;\n",
       "    }\n",
       "\n",
       "    .dataframe thead th {\n",
       "        text-align: right;\n",
       "    }\n",
       "</style>\n",
       "<table border=\"1\" class=\"dataframe\">\n",
       "  <thead>\n",
       "    <tr style=\"text-align: right;\">\n",
       "      <th></th>\n",
       "      <th>genre</th>\n",
       "      <th>artist_name</th>\n",
       "      <th>track_name</th>\n",
       "      <th>track_id</th>\n",
       "      <th>popularity</th>\n",
       "      <th>acousticness</th>\n",
       "      <th>danceability</th>\n",
       "      <th>duration_ms</th>\n",
       "      <th>energy</th>\n",
       "      <th>instrumentalness</th>\n",
       "      <th>key</th>\n",
       "      <th>liveness</th>\n",
       "      <th>loudness</th>\n",
       "      <th>mode</th>\n",
       "      <th>speechiness</th>\n",
       "      <th>tempo</th>\n",
       "      <th>time_signature</th>\n",
       "      <th>valence</th>\n",
       "    </tr>\n",
       "  </thead>\n",
       "  <tbody>\n",
       "    <tr>\n",
       "      <th>135</th>\n",
       "      <td>r&amp;b</td>\n",
       "      <td>Mary J. Blige</td>\n",
       "      <td>Be Without You - Kendu Mix</td>\n",
       "      <td>2YegxR5As7BeQuVp2U6pek</td>\n",
       "      <td>65</td>\n",
       "      <td>0.0830</td>\n",
       "      <td>0.724</td>\n",
       "      <td>246333</td>\n",
       "      <td>0.689</td>\n",
       "      <td>0.000000</td>\n",
       "      <td>D</td>\n",
       "      <td>0.3040</td>\n",
       "      <td>-5.922</td>\n",
       "      <td>Minor</td>\n",
       "      <td>0.1350</td>\n",
       "      <td>146.496</td>\n",
       "      <td>4/4</td>\n",
       "      <td>0.6930</td>\n",
       "    </tr>\n",
       "    <tr>\n",
       "      <th>136</th>\n",
       "      <td>r&amp;b</td>\n",
       "      <td>Rihanna</td>\n",
       "      <td>Desperado</td>\n",
       "      <td>6KFaHC9G178beAp7P0Vi5S</td>\n",
       "      <td>63</td>\n",
       "      <td>0.3230</td>\n",
       "      <td>0.685</td>\n",
       "      <td>186467</td>\n",
       "      <td>0.610</td>\n",
       "      <td>0.000000</td>\n",
       "      <td>C</td>\n",
       "      <td>0.1020</td>\n",
       "      <td>-5.221</td>\n",
       "      <td>Minor</td>\n",
       "      <td>0.0439</td>\n",
       "      <td>94.384</td>\n",
       "      <td>3/4</td>\n",
       "      <td>0.3230</td>\n",
       "    </tr>\n",
       "    <tr>\n",
       "      <th>137</th>\n",
       "      <td>r&amp;b</td>\n",
       "      <td>Yung Bleu</td>\n",
       "      <td>Ice On My Baby (feat. Kevin Gates) - Remix</td>\n",
       "      <td>6muW8cSjJ3rusKJ0vH5olw</td>\n",
       "      <td>62</td>\n",
       "      <td>0.0675</td>\n",
       "      <td>0.762</td>\n",
       "      <td>199520</td>\n",
       "      <td>0.520</td>\n",
       "      <td>0.000004</td>\n",
       "      <td>F</td>\n",
       "      <td>0.1140</td>\n",
       "      <td>-5.237</td>\n",
       "      <td>Minor</td>\n",
       "      <td>0.0959</td>\n",
       "      <td>75.047</td>\n",
       "      <td>4/4</td>\n",
       "      <td>0.0862</td>\n",
       "    </tr>\n",
       "    <tr>\n",
       "      <th>138</th>\n",
       "      <td>r&amp;b</td>\n",
       "      <td>Surfaces</td>\n",
       "      <td>Heaven Falls / Fall on Me</td>\n",
       "      <td>7yHqOZfsXYlicyoMt62yC6</td>\n",
       "      <td>61</td>\n",
       "      <td>0.3600</td>\n",
       "      <td>0.563</td>\n",
       "      <td>240597</td>\n",
       "      <td>0.366</td>\n",
       "      <td>0.002430</td>\n",
       "      <td>B</td>\n",
       "      <td>0.0955</td>\n",
       "      <td>-6.896</td>\n",
       "      <td>Minor</td>\n",
       "      <td>0.1210</td>\n",
       "      <td>85.352</td>\n",
       "      <td>4/4</td>\n",
       "      <td>0.7680</td>\n",
       "    </tr>\n",
       "    <tr>\n",
       "      <th>139</th>\n",
       "      <td>r&amp;b</td>\n",
       "      <td>Olivia O'Brien</td>\n",
       "      <td>Love Myself</td>\n",
       "      <td>4XzgjxGKqULifVf7mnDIQK</td>\n",
       "      <td>68</td>\n",
       "      <td>0.5960</td>\n",
       "      <td>0.653</td>\n",
       "      <td>213947</td>\n",
       "      <td>0.621</td>\n",
       "      <td>0.000000</td>\n",
       "      <td>B</td>\n",
       "      <td>0.0811</td>\n",
       "      <td>-5.721</td>\n",
       "      <td>Minor</td>\n",
       "      <td>0.0409</td>\n",
       "      <td>100.006</td>\n",
       "      <td>4/4</td>\n",
       "      <td>0.4660</td>\n",
       "    </tr>\n",
       "  </tbody>\n",
       "</table>\n",
       "</div>"
      ],
      "text/plain": [
       "    genre     artist_name                                  track_name  \\\n",
       "135   r&b   Mary J. Blige                  Be Without You - Kendu Mix   \n",
       "136   r&b         Rihanna                                   Desperado   \n",
       "137   r&b       Yung Bleu  Ice On My Baby (feat. Kevin Gates) - Remix   \n",
       "138   r&b        Surfaces                   Heaven Falls / Fall on Me   \n",
       "139   r&b  Olivia O'Brien                                 Love Myself   \n",
       "\n",
       "                   track_id  popularity  acousticness  danceability  \\\n",
       "135  2YegxR5As7BeQuVp2U6pek          65        0.0830         0.724   \n",
       "136  6KFaHC9G178beAp7P0Vi5S          63        0.3230         0.685   \n",
       "137  6muW8cSjJ3rusKJ0vH5olw          62        0.0675         0.762   \n",
       "138  7yHqOZfsXYlicyoMt62yC6          61        0.3600         0.563   \n",
       "139  4XzgjxGKqULifVf7mnDIQK          68        0.5960         0.653   \n",
       "\n",
       "     duration_ms  energy  instrumentalness key  liveness  loudness   mode  \\\n",
       "135       246333   0.689          0.000000   D    0.3040    -5.922  Minor   \n",
       "136       186467   0.610          0.000000   C    0.1020    -5.221  Minor   \n",
       "137       199520   0.520          0.000004   F    0.1140    -5.237  Minor   \n",
       "138       240597   0.366          0.002430   B    0.0955    -6.896  Minor   \n",
       "139       213947   0.621          0.000000   B    0.0811    -5.721  Minor   \n",
       "\n",
       "     speechiness    tempo time_signature  valence  \n",
       "135       0.1350  146.496            4/4   0.6930  \n",
       "136       0.0439   94.384            3/4   0.3230  \n",
       "137       0.0959   75.047            4/4   0.0862  \n",
       "138       0.1210   85.352            4/4   0.7680  \n",
       "139       0.0409  100.006            4/4   0.4660  "
      ]
     },
     "execution_count": 4,
     "metadata": {},
     "output_type": "execute_result"
    }
   ],
   "source": [
    "spotify_features.head()"
   ]
  },
  {
   "cell_type": "code",
   "execution_count": 5,
   "metadata": {},
   "outputs": [
    {
     "data": {
      "text/html": [
       "<div>\n",
       "<style scoped>\n",
       "    .dataframe tbody tr th:only-of-type {\n",
       "        vertical-align: middle;\n",
       "    }\n",
       "\n",
       "    .dataframe tbody tr th {\n",
       "        vertical-align: top;\n",
       "    }\n",
       "\n",
       "    .dataframe thead th {\n",
       "        text-align: right;\n",
       "    }\n",
       "</style>\n",
       "<table border=\"1\" class=\"dataframe\">\n",
       "  <thead>\n",
       "    <tr style=\"text-align: right;\">\n",
       "      <th></th>\n",
       "      <th>Unnamed: 0</th>\n",
       "      <th>title</th>\n",
       "      <th>artist</th>\n",
       "      <th>top genre</th>\n",
       "      <th>year</th>\n",
       "      <th>bpm</th>\n",
       "      <th>nrgy</th>\n",
       "      <th>dnce</th>\n",
       "      <th>dB</th>\n",
       "      <th>live</th>\n",
       "      <th>val</th>\n",
       "      <th>dur</th>\n",
       "      <th>acous</th>\n",
       "      <th>spch</th>\n",
       "      <th>pop</th>\n",
       "    </tr>\n",
       "  </thead>\n",
       "  <tbody>\n",
       "    <tr>\n",
       "      <th>0</th>\n",
       "      <td>1</td>\n",
       "      <td>Hey, Soul Sister</td>\n",
       "      <td>Train</td>\n",
       "      <td>neo mellow</td>\n",
       "      <td>2010</td>\n",
       "      <td>97</td>\n",
       "      <td>89</td>\n",
       "      <td>67</td>\n",
       "      <td>-4</td>\n",
       "      <td>8</td>\n",
       "      <td>80</td>\n",
       "      <td>217</td>\n",
       "      <td>19</td>\n",
       "      <td>4</td>\n",
       "      <td>83</td>\n",
       "    </tr>\n",
       "    <tr>\n",
       "      <th>1</th>\n",
       "      <td>2</td>\n",
       "      <td>Love The Way You Lie</td>\n",
       "      <td>Eminem</td>\n",
       "      <td>detroit hip hop</td>\n",
       "      <td>2010</td>\n",
       "      <td>87</td>\n",
       "      <td>93</td>\n",
       "      <td>75</td>\n",
       "      <td>-5</td>\n",
       "      <td>52</td>\n",
       "      <td>64</td>\n",
       "      <td>263</td>\n",
       "      <td>24</td>\n",
       "      <td>23</td>\n",
       "      <td>82</td>\n",
       "    </tr>\n",
       "    <tr>\n",
       "      <th>2</th>\n",
       "      <td>3</td>\n",
       "      <td>TiK ToK</td>\n",
       "      <td>Kesha</td>\n",
       "      <td>dance pop</td>\n",
       "      <td>2010</td>\n",
       "      <td>120</td>\n",
       "      <td>84</td>\n",
       "      <td>76</td>\n",
       "      <td>-3</td>\n",
       "      <td>29</td>\n",
       "      <td>71</td>\n",
       "      <td>200</td>\n",
       "      <td>10</td>\n",
       "      <td>14</td>\n",
       "      <td>80</td>\n",
       "    </tr>\n",
       "    <tr>\n",
       "      <th>3</th>\n",
       "      <td>4</td>\n",
       "      <td>Bad Romance</td>\n",
       "      <td>Lady Gaga</td>\n",
       "      <td>dance pop</td>\n",
       "      <td>2010</td>\n",
       "      <td>119</td>\n",
       "      <td>92</td>\n",
       "      <td>70</td>\n",
       "      <td>-4</td>\n",
       "      <td>8</td>\n",
       "      <td>71</td>\n",
       "      <td>295</td>\n",
       "      <td>0</td>\n",
       "      <td>4</td>\n",
       "      <td>79</td>\n",
       "    </tr>\n",
       "    <tr>\n",
       "      <th>4</th>\n",
       "      <td>5</td>\n",
       "      <td>Just the Way You Are</td>\n",
       "      <td>Bruno Mars</td>\n",
       "      <td>pop</td>\n",
       "      <td>2010</td>\n",
       "      <td>109</td>\n",
       "      <td>84</td>\n",
       "      <td>64</td>\n",
       "      <td>-5</td>\n",
       "      <td>9</td>\n",
       "      <td>43</td>\n",
       "      <td>221</td>\n",
       "      <td>2</td>\n",
       "      <td>4</td>\n",
       "      <td>78</td>\n",
       "    </tr>\n",
       "  </tbody>\n",
       "</table>\n",
       "</div>"
      ],
      "text/plain": [
       "   Unnamed: 0                 title      artist        top genre  year  bpm  \\\n",
       "0           1      Hey, Soul Sister       Train       neo mellow  2010   97   \n",
       "1           2  Love The Way You Lie      Eminem  detroit hip hop  2010   87   \n",
       "2           3               TiK ToK       Kesha        dance pop  2010  120   \n",
       "3           4           Bad Romance   Lady Gaga        dance pop  2010  119   \n",
       "4           5  Just the Way You Are  Bruno Mars              pop  2010  109   \n",
       "\n",
       "   nrgy  dnce  dB  live  val  dur  acous  spch  pop  \n",
       "0    89    67  -4     8   80  217     19     4   83  \n",
       "1    93    75  -5    52   64  263     24    23   82  \n",
       "2    84    76  -3    29   71  200     10    14   80  \n",
       "3    92    70  -4     8   71  295      0     4   79  \n",
       "4    84    64  -5     9   43  221      2     4   78  "
      ]
     },
     "execution_count": 5,
     "metadata": {},
     "output_type": "execute_result"
    }
   ],
   "source": [
    "df_top10s.head()"
   ]
  },
  {
   "cell_type": "code",
   "execution_count": 6,
   "metadata": {},
   "outputs": [
    {
     "data": {
      "text/html": [
       "<div>\n",
       "<style scoped>\n",
       "    .dataframe tbody tr th:only-of-type {\n",
       "        vertical-align: middle;\n",
       "    }\n",
       "\n",
       "    .dataframe tbody tr th {\n",
       "        vertical-align: top;\n",
       "    }\n",
       "\n",
       "    .dataframe thead th {\n",
       "        text-align: right;\n",
       "    }\n",
       "</style>\n",
       "<table border=\"1\" class=\"dataframe\">\n",
       "  <thead>\n",
       "    <tr style=\"text-align: right;\">\n",
       "      <th></th>\n",
       "      <th>Index</th>\n",
       "      <th>Title</th>\n",
       "      <th>Artist</th>\n",
       "      <th>Top Genre</th>\n",
       "      <th>Year</th>\n",
       "      <th>Beats Per Minute (BPM)</th>\n",
       "      <th>Energy</th>\n",
       "      <th>Danceability</th>\n",
       "      <th>Loudness (dB)</th>\n",
       "      <th>Liveness</th>\n",
       "      <th>Valence</th>\n",
       "      <th>Length (Duration)</th>\n",
       "      <th>Acousticness</th>\n",
       "      <th>Speechiness</th>\n",
       "      <th>Popularity</th>\n",
       "    </tr>\n",
       "  </thead>\n",
       "  <tbody>\n",
       "    <tr>\n",
       "      <th>0</th>\n",
       "      <td>1</td>\n",
       "      <td>Sunrise</td>\n",
       "      <td>Norah Jones</td>\n",
       "      <td>adult standards</td>\n",
       "      <td>2004</td>\n",
       "      <td>157</td>\n",
       "      <td>30</td>\n",
       "      <td>53</td>\n",
       "      <td>-14</td>\n",
       "      <td>11</td>\n",
       "      <td>68</td>\n",
       "      <td>201</td>\n",
       "      <td>94</td>\n",
       "      <td>3</td>\n",
       "      <td>71</td>\n",
       "    </tr>\n",
       "    <tr>\n",
       "      <th>1</th>\n",
       "      <td>2</td>\n",
       "      <td>Black Night</td>\n",
       "      <td>Deep Purple</td>\n",
       "      <td>album rock</td>\n",
       "      <td>2000</td>\n",
       "      <td>135</td>\n",
       "      <td>79</td>\n",
       "      <td>50</td>\n",
       "      <td>-11</td>\n",
       "      <td>17</td>\n",
       "      <td>81</td>\n",
       "      <td>207</td>\n",
       "      <td>17</td>\n",
       "      <td>7</td>\n",
       "      <td>39</td>\n",
       "    </tr>\n",
       "    <tr>\n",
       "      <th>2</th>\n",
       "      <td>3</td>\n",
       "      <td>Clint Eastwood</td>\n",
       "      <td>Gorillaz</td>\n",
       "      <td>alternative hip hop</td>\n",
       "      <td>2001</td>\n",
       "      <td>168</td>\n",
       "      <td>69</td>\n",
       "      <td>66</td>\n",
       "      <td>-9</td>\n",
       "      <td>7</td>\n",
       "      <td>52</td>\n",
       "      <td>341</td>\n",
       "      <td>2</td>\n",
       "      <td>17</td>\n",
       "      <td>69</td>\n",
       "    </tr>\n",
       "    <tr>\n",
       "      <th>3</th>\n",
       "      <td>4</td>\n",
       "      <td>The Pretender</td>\n",
       "      <td>Foo Fighters</td>\n",
       "      <td>alternative metal</td>\n",
       "      <td>2007</td>\n",
       "      <td>173</td>\n",
       "      <td>96</td>\n",
       "      <td>43</td>\n",
       "      <td>-4</td>\n",
       "      <td>3</td>\n",
       "      <td>37</td>\n",
       "      <td>269</td>\n",
       "      <td>0</td>\n",
       "      <td>4</td>\n",
       "      <td>76</td>\n",
       "    </tr>\n",
       "    <tr>\n",
       "      <th>4</th>\n",
       "      <td>5</td>\n",
       "      <td>Waitin' On A Sunny Day</td>\n",
       "      <td>Bruce Springsteen</td>\n",
       "      <td>classic rock</td>\n",
       "      <td>2002</td>\n",
       "      <td>106</td>\n",
       "      <td>82</td>\n",
       "      <td>58</td>\n",
       "      <td>-5</td>\n",
       "      <td>10</td>\n",
       "      <td>87</td>\n",
       "      <td>256</td>\n",
       "      <td>1</td>\n",
       "      <td>3</td>\n",
       "      <td>59</td>\n",
       "    </tr>\n",
       "  </tbody>\n",
       "</table>\n",
       "</div>"
      ],
      "text/plain": [
       "   Index                   Title             Artist            Top Genre  \\\n",
       "0      1                 Sunrise        Norah Jones      adult standards   \n",
       "1      2             Black Night        Deep Purple           album rock   \n",
       "2      3          Clint Eastwood           Gorillaz  alternative hip hop   \n",
       "3      4           The Pretender       Foo Fighters    alternative metal   \n",
       "4      5  Waitin' On A Sunny Day  Bruce Springsteen         classic rock   \n",
       "\n",
       "   Year  Beats Per Minute (BPM)  Energy  Danceability  Loudness (dB)  \\\n",
       "0  2004                     157      30            53            -14   \n",
       "1  2000                     135      79            50            -11   \n",
       "2  2001                     168      69            66             -9   \n",
       "3  2007                     173      96            43             -4   \n",
       "4  2002                     106      82            58             -5   \n",
       "\n",
       "   Liveness  Valence Length (Duration)  Acousticness  Speechiness  Popularity  \n",
       "0        11       68               201            94            3          71  \n",
       "1        17       81               207            17            7          39  \n",
       "2         7       52               341             2           17          69  \n",
       "3         3       37               269             0            4          76  \n",
       "4        10       87               256             1            3          59  "
      ]
     },
     "execution_count": 6,
     "metadata": {},
     "output_type": "execute_result"
    }
   ],
   "source": [
    "df_2000.head()"
   ]
  },
  {
   "cell_type": "markdown",
   "metadata": {},
   "source": [
    "## Data Preparation"
   ]
  },
  {
   "cell_type": "code",
   "execution_count": 7,
   "metadata": {},
   "outputs": [],
   "source": [
    "df_2000.drop(columns = ['Index', 'Title', 'Artist', 'Year'], inplace = True)\n",
    "df_top10s.drop(columns = ['Unnamed: 0', 'title', 'artist', 'year'], inplace = True)"
   ]
  },
  {
   "cell_type": "code",
   "execution_count": 8,
   "metadata": {},
   "outputs": [
    {
     "name": "stderr",
     "output_type": "stream",
     "text": [
      "/var/folders/qp/y_44jp1x5_j1g0jw85c5w07w0000gn/T/ipykernel_62928/2451429672.py:2: FutureWarning: The frame.append method is deprecated and will be removed from pandas in a future version. Use pandas.concat instead.\n",
      "  df = df_2000.append(df_top10s, ignore_index = True)\n"
     ]
    }
   ],
   "source": [
    "df_top10s.columns = df_2000.columns # setting column names as each other\n",
    "df = df_2000.append(df_top10s, ignore_index = True)"
   ]
  },
  {
   "cell_type": "code",
   "execution_count": 9,
   "metadata": {},
   "outputs": [
    {
     "name": "stderr",
     "output_type": "stream",
     "text": [
      "/var/folders/qp/y_44jp1x5_j1g0jw85c5w07w0000gn/T/ipykernel_62928/3937406935.py:6: SettingWithCopyWarning: \n",
      "A value is trying to be set on a copy of a slice from a DataFrame\n",
      "\n",
      "See the caveats in the documentation: https://pandas.pydata.org/pandas-docs/stable/user_guide/indexing.html#returning-a-view-versus-a-copy\n",
      "  df[attribute][instance] = float(temp[instance].replace(',',''))\n"
     ]
    }
   ],
   "source": [
    "attributes = df.columns[1:]\n",
    "for attribute in attributes:\n",
    "    temp = df[attribute]\n",
    "    for instance in range(len(temp)):\n",
    "        if(type(temp[instance]) == str):\n",
    "            df[attribute][instance] = float(temp[instance].replace(',',''))"
   ]
  },
  {
   "cell_type": "code",
   "execution_count": 10,
   "metadata": {},
   "outputs": [
    {
     "data": {
      "text/html": [
       "<div>\n",
       "<style scoped>\n",
       "    .dataframe tbody tr th:only-of-type {\n",
       "        vertical-align: middle;\n",
       "    }\n",
       "\n",
       "    .dataframe tbody tr th {\n",
       "        vertical-align: top;\n",
       "    }\n",
       "\n",
       "    .dataframe thead th {\n",
       "        text-align: right;\n",
       "    }\n",
       "</style>\n",
       "<table border=\"1\" class=\"dataframe\">\n",
       "  <thead>\n",
       "    <tr style=\"text-align: right;\">\n",
       "      <th></th>\n",
       "      <th>Top Genre</th>\n",
       "      <th>Beats Per Minute (BPM)</th>\n",
       "      <th>Energy</th>\n",
       "      <th>Danceability</th>\n",
       "      <th>Loudness (dB)</th>\n",
       "      <th>Liveness</th>\n",
       "      <th>Valence</th>\n",
       "      <th>Length (Duration)</th>\n",
       "      <th>Acousticness</th>\n",
       "      <th>Speechiness</th>\n",
       "      <th>Popularity</th>\n",
       "    </tr>\n",
       "  </thead>\n",
       "  <tbody>\n",
       "    <tr>\n",
       "      <th>0</th>\n",
       "      <td>adult standards</td>\n",
       "      <td>157</td>\n",
       "      <td>30</td>\n",
       "      <td>53</td>\n",
       "      <td>-14</td>\n",
       "      <td>11</td>\n",
       "      <td>68</td>\n",
       "      <td>201.0</td>\n",
       "      <td>94</td>\n",
       "      <td>3</td>\n",
       "      <td>71</td>\n",
       "    </tr>\n",
       "    <tr>\n",
       "      <th>1</th>\n",
       "      <td>album rock</td>\n",
       "      <td>135</td>\n",
       "      <td>79</td>\n",
       "      <td>50</td>\n",
       "      <td>-11</td>\n",
       "      <td>17</td>\n",
       "      <td>81</td>\n",
       "      <td>207.0</td>\n",
       "      <td>17</td>\n",
       "      <td>7</td>\n",
       "      <td>39</td>\n",
       "    </tr>\n",
       "    <tr>\n",
       "      <th>2</th>\n",
       "      <td>alternative hip hop</td>\n",
       "      <td>168</td>\n",
       "      <td>69</td>\n",
       "      <td>66</td>\n",
       "      <td>-9</td>\n",
       "      <td>7</td>\n",
       "      <td>52</td>\n",
       "      <td>341.0</td>\n",
       "      <td>2</td>\n",
       "      <td>17</td>\n",
       "      <td>69</td>\n",
       "    </tr>\n",
       "    <tr>\n",
       "      <th>3</th>\n",
       "      <td>alternative metal</td>\n",
       "      <td>173</td>\n",
       "      <td>96</td>\n",
       "      <td>43</td>\n",
       "      <td>-4</td>\n",
       "      <td>3</td>\n",
       "      <td>37</td>\n",
       "      <td>269.0</td>\n",
       "      <td>0</td>\n",
       "      <td>4</td>\n",
       "      <td>76</td>\n",
       "    </tr>\n",
       "    <tr>\n",
       "      <th>4</th>\n",
       "      <td>classic rock</td>\n",
       "      <td>106</td>\n",
       "      <td>82</td>\n",
       "      <td>58</td>\n",
       "      <td>-5</td>\n",
       "      <td>10</td>\n",
       "      <td>87</td>\n",
       "      <td>256.0</td>\n",
       "      <td>1</td>\n",
       "      <td>3</td>\n",
       "      <td>59</td>\n",
       "    </tr>\n",
       "  </tbody>\n",
       "</table>\n",
       "</div>"
      ],
      "text/plain": [
       "             Top Genre  Beats Per Minute (BPM)  Energy  Danceability  \\\n",
       "0      adult standards                     157      30            53   \n",
       "1           album rock                     135      79            50   \n",
       "2  alternative hip hop                     168      69            66   \n",
       "3    alternative metal                     173      96            43   \n",
       "4         classic rock                     106      82            58   \n",
       "\n",
       "   Loudness (dB)  Liveness  Valence Length (Duration)  Acousticness  \\\n",
       "0            -14        11       68             201.0            94   \n",
       "1            -11        17       81             207.0            17   \n",
       "2             -9         7       52             341.0             2   \n",
       "3             -4         3       37             269.0             0   \n",
       "4             -5        10       87             256.0             1   \n",
       "\n",
       "   Speechiness  Popularity  \n",
       "0            3          71  \n",
       "1            7          39  \n",
       "2           17          69  \n",
       "3            4          76  \n",
       "4            3          59  "
      ]
     },
     "execution_count": 10,
     "metadata": {},
     "output_type": "execute_result"
    }
   ],
   "source": [
    "df.head()"
   ]
  },
  {
   "cell_type": "code",
   "execution_count": 11,
   "metadata": {},
   "outputs": [],
   "source": [
    "df[\"Top Genre\"] = (df[\"Top Genre\"].str.strip()).str.lower()"
   ]
  },
  {
   "cell_type": "code",
   "execution_count": 12,
   "metadata": {},
   "outputs": [
    {
     "data": {
      "text/html": [
       "<div>\n",
       "<style scoped>\n",
       "    .dataframe tbody tr th:only-of-type {\n",
       "        vertical-align: middle;\n",
       "    }\n",
       "\n",
       "    .dataframe tbody tr th {\n",
       "        vertical-align: top;\n",
       "    }\n",
       "\n",
       "    .dataframe thead th {\n",
       "        text-align: right;\n",
       "    }\n",
       "</style>\n",
       "<table border=\"1\" class=\"dataframe\">\n",
       "  <thead>\n",
       "    <tr style=\"text-align: right;\">\n",
       "      <th></th>\n",
       "      <th>Top Genre</th>\n",
       "      <th>Beats Per Minute (BPM)</th>\n",
       "      <th>Energy</th>\n",
       "      <th>Danceability</th>\n",
       "      <th>Loudness (dB)</th>\n",
       "      <th>Liveness</th>\n",
       "      <th>Valence</th>\n",
       "      <th>Length (Duration)</th>\n",
       "      <th>Acousticness</th>\n",
       "      <th>Speechiness</th>\n",
       "      <th>Popularity</th>\n",
       "    </tr>\n",
       "  </thead>\n",
       "  <tbody>\n",
       "    <tr>\n",
       "      <th>6</th>\n",
       "      <td>pop</td>\n",
       "      <td>102</td>\n",
       "      <td>71</td>\n",
       "      <td>71</td>\n",
       "      <td>-6</td>\n",
       "      <td>13</td>\n",
       "      <td>54</td>\n",
       "      <td>257.0</td>\n",
       "      <td>6</td>\n",
       "      <td>3</td>\n",
       "      <td>74</td>\n",
       "    </tr>\n",
       "    <tr>\n",
       "      <th>75</th>\n",
       "      <td>pop</td>\n",
       "      <td>131</td>\n",
       "      <td>80</td>\n",
       "      <td>75</td>\n",
       "      <td>-5</td>\n",
       "      <td>42</td>\n",
       "      <td>37</td>\n",
       "      <td>281.0</td>\n",
       "      <td>24</td>\n",
       "      <td>5</td>\n",
       "      <td>55</td>\n",
       "    </tr>\n",
       "    <tr>\n",
       "      <th>235</th>\n",
       "      <td>pop</td>\n",
       "      <td>180</td>\n",
       "      <td>66</td>\n",
       "      <td>51</td>\n",
       "      <td>-7</td>\n",
       "      <td>12</td>\n",
       "      <td>46</td>\n",
       "      <td>228.0</td>\n",
       "      <td>3</td>\n",
       "      <td>4</td>\n",
       "      <td>79</td>\n",
       "    </tr>\n",
       "    <tr>\n",
       "      <th>246</th>\n",
       "      <td>pop</td>\n",
       "      <td>83</td>\n",
       "      <td>63</td>\n",
       "      <td>41</td>\n",
       "      <td>-7</td>\n",
       "      <td>8</td>\n",
       "      <td>44</td>\n",
       "      <td>220.0</td>\n",
       "      <td>51</td>\n",
       "      <td>7</td>\n",
       "      <td>53</td>\n",
       "    </tr>\n",
       "    <tr>\n",
       "      <th>289</th>\n",
       "      <td>pop</td>\n",
       "      <td>115</td>\n",
       "      <td>89</td>\n",
       "      <td>74</td>\n",
       "      <td>-4</td>\n",
       "      <td>9</td>\n",
       "      <td>96</td>\n",
       "      <td>203.0</td>\n",
       "      <td>8</td>\n",
       "      <td>5</td>\n",
       "      <td>64</td>\n",
       "    </tr>\n",
       "  </tbody>\n",
       "</table>\n",
       "</div>"
      ],
      "text/plain": [
       "    Top Genre  Beats Per Minute (BPM)  Energy  Danceability  Loudness (dB)  \\\n",
       "6         pop                     102      71            71             -6   \n",
       "75        pop                     131      80            75             -5   \n",
       "235       pop                     180      66            51             -7   \n",
       "246       pop                      83      63            41             -7   \n",
       "289       pop                     115      89            74             -4   \n",
       "\n",
       "     Liveness  Valence Length (Duration)  Acousticness  Speechiness  \\\n",
       "6          13       54             257.0             6            3   \n",
       "75         42       37             281.0            24            5   \n",
       "235        12       46             228.0             3            4   \n",
       "246         8       44             220.0            51            7   \n",
       "289         9       96             203.0             8            5   \n",
       "\n",
       "     Popularity  \n",
       "6            74  \n",
       "75           55  \n",
       "235          79  \n",
       "246          53  \n",
       "289          64  "
      ]
     },
     "execution_count": 12,
     "metadata": {},
     "output_type": "execute_result"
    }
   ],
   "source": [
    "df = df[ df['Top Genre'].isin( [x.lower() for x in final_features] )]\n",
    "df.head()"
   ]
  },
  {
   "cell_type": "code",
   "execution_count": 13,
   "metadata": {},
   "outputs": [
    {
     "name": "stderr",
     "output_type": "stream",
     "text": [
      "/var/folders/qp/y_44jp1x5_j1g0jw85c5w07w0000gn/T/ipykernel_62928/3754139115.py:1: SettingWithCopyWarning: \n",
      "A value is trying to be set on a copy of a slice from a DataFrame\n",
      "\n",
      "See the caveats in the documentation: https://pandas.pydata.org/pandas-docs/stable/user_guide/indexing.html#returning-a-view-versus-a-copy\n",
      "  df.drop(columns = ['Popularity','Length (Duration)'], inplace = True)\n"
     ]
    },
    {
     "data": {
      "text/html": [
       "<div>\n",
       "<style scoped>\n",
       "    .dataframe tbody tr th:only-of-type {\n",
       "        vertical-align: middle;\n",
       "    }\n",
       "\n",
       "    .dataframe tbody tr th {\n",
       "        vertical-align: top;\n",
       "    }\n",
       "\n",
       "    .dataframe thead th {\n",
       "        text-align: right;\n",
       "    }\n",
       "</style>\n",
       "<table border=\"1\" class=\"dataframe\">\n",
       "  <thead>\n",
       "    <tr style=\"text-align: right;\">\n",
       "      <th></th>\n",
       "      <th>Top Genre</th>\n",
       "      <th>Beats Per Minute (BPM)</th>\n",
       "      <th>Energy</th>\n",
       "      <th>Danceability</th>\n",
       "      <th>Loudness (dB)</th>\n",
       "      <th>Liveness</th>\n",
       "      <th>Valence</th>\n",
       "      <th>Acousticness</th>\n",
       "      <th>Speechiness</th>\n",
       "    </tr>\n",
       "  </thead>\n",
       "  <tbody>\n",
       "    <tr>\n",
       "      <th>6</th>\n",
       "      <td>pop</td>\n",
       "      <td>102</td>\n",
       "      <td>71</td>\n",
       "      <td>71</td>\n",
       "      <td>-6</td>\n",
       "      <td>13</td>\n",
       "      <td>54</td>\n",
       "      <td>6</td>\n",
       "      <td>3</td>\n",
       "    </tr>\n",
       "    <tr>\n",
       "      <th>75</th>\n",
       "      <td>pop</td>\n",
       "      <td>131</td>\n",
       "      <td>80</td>\n",
       "      <td>75</td>\n",
       "      <td>-5</td>\n",
       "      <td>42</td>\n",
       "      <td>37</td>\n",
       "      <td>24</td>\n",
       "      <td>5</td>\n",
       "    </tr>\n",
       "    <tr>\n",
       "      <th>235</th>\n",
       "      <td>pop</td>\n",
       "      <td>180</td>\n",
       "      <td>66</td>\n",
       "      <td>51</td>\n",
       "      <td>-7</td>\n",
       "      <td>12</td>\n",
       "      <td>46</td>\n",
       "      <td>3</td>\n",
       "      <td>4</td>\n",
       "    </tr>\n",
       "    <tr>\n",
       "      <th>246</th>\n",
       "      <td>pop</td>\n",
       "      <td>83</td>\n",
       "      <td>63</td>\n",
       "      <td>41</td>\n",
       "      <td>-7</td>\n",
       "      <td>8</td>\n",
       "      <td>44</td>\n",
       "      <td>51</td>\n",
       "      <td>7</td>\n",
       "    </tr>\n",
       "    <tr>\n",
       "      <th>289</th>\n",
       "      <td>pop</td>\n",
       "      <td>115</td>\n",
       "      <td>89</td>\n",
       "      <td>74</td>\n",
       "      <td>-4</td>\n",
       "      <td>9</td>\n",
       "      <td>96</td>\n",
       "      <td>8</td>\n",
       "      <td>5</td>\n",
       "    </tr>\n",
       "  </tbody>\n",
       "</table>\n",
       "</div>"
      ],
      "text/plain": [
       "    Top Genre  Beats Per Minute (BPM)  Energy  Danceability  Loudness (dB)  \\\n",
       "6         pop                     102      71            71             -6   \n",
       "75        pop                     131      80            75             -5   \n",
       "235       pop                     180      66            51             -7   \n",
       "246       pop                      83      63            41             -7   \n",
       "289       pop                     115      89            74             -4   \n",
       "\n",
       "     Liveness  Valence  Acousticness  Speechiness  \n",
       "6          13       54             6            3  \n",
       "75         42       37            24            5  \n",
       "235        12       46             3            4  \n",
       "246         8       44            51            7  \n",
       "289         9       96             8            5  "
      ]
     },
     "execution_count": 13,
     "metadata": {},
     "output_type": "execute_result"
    }
   ],
   "source": [
    "df.drop(columns = ['Popularity','Length (Duration)'], inplace = True)\n",
    "df.head()"
   ]
  },
  {
   "cell_type": "code",
   "execution_count": 14,
   "metadata": {},
   "outputs": [
    {
     "name": "stderr",
     "output_type": "stream",
     "text": [
      "/var/folders/qp/y_44jp1x5_j1g0jw85c5w07w0000gn/T/ipykernel_62928/2192155640.py:2: SettingWithCopyWarning: \n",
      "A value is trying to be set on a copy of a slice from a DataFrame.\n",
      "Try using .loc[row_indexer,col_indexer] = value instead\n",
      "\n",
      "See the caveats in the documentation: https://pandas.pydata.org/pandas-docs/stable/user_guide/indexing.html#returning-a-view-versus-a-copy\n",
      "  df[columns] = df[columns]/100\n"
     ]
    },
    {
     "data": {
      "text/html": [
       "<div>\n",
       "<style scoped>\n",
       "    .dataframe tbody tr th:only-of-type {\n",
       "        vertical-align: middle;\n",
       "    }\n",
       "\n",
       "    .dataframe tbody tr th {\n",
       "        vertical-align: top;\n",
       "    }\n",
       "\n",
       "    .dataframe thead th {\n",
       "        text-align: right;\n",
       "    }\n",
       "</style>\n",
       "<table border=\"1\" class=\"dataframe\">\n",
       "  <thead>\n",
       "    <tr style=\"text-align: right;\">\n",
       "      <th></th>\n",
       "      <th>Top Genre</th>\n",
       "      <th>Beats Per Minute (BPM)</th>\n",
       "      <th>Energy</th>\n",
       "      <th>Danceability</th>\n",
       "      <th>Loudness (dB)</th>\n",
       "      <th>Liveness</th>\n",
       "      <th>Valence</th>\n",
       "      <th>Acousticness</th>\n",
       "      <th>Speechiness</th>\n",
       "    </tr>\n",
       "  </thead>\n",
       "  <tbody>\n",
       "    <tr>\n",
       "      <th>6</th>\n",
       "      <td>pop</td>\n",
       "      <td>102</td>\n",
       "      <td>0.71</td>\n",
       "      <td>0.71</td>\n",
       "      <td>-6</td>\n",
       "      <td>0.13</td>\n",
       "      <td>0.54</td>\n",
       "      <td>0.06</td>\n",
       "      <td>0.03</td>\n",
       "    </tr>\n",
       "    <tr>\n",
       "      <th>75</th>\n",
       "      <td>pop</td>\n",
       "      <td>131</td>\n",
       "      <td>0.80</td>\n",
       "      <td>0.75</td>\n",
       "      <td>-5</td>\n",
       "      <td>0.42</td>\n",
       "      <td>0.37</td>\n",
       "      <td>0.24</td>\n",
       "      <td>0.05</td>\n",
       "    </tr>\n",
       "    <tr>\n",
       "      <th>235</th>\n",
       "      <td>pop</td>\n",
       "      <td>180</td>\n",
       "      <td>0.66</td>\n",
       "      <td>0.51</td>\n",
       "      <td>-7</td>\n",
       "      <td>0.12</td>\n",
       "      <td>0.46</td>\n",
       "      <td>0.03</td>\n",
       "      <td>0.04</td>\n",
       "    </tr>\n",
       "    <tr>\n",
       "      <th>246</th>\n",
       "      <td>pop</td>\n",
       "      <td>83</td>\n",
       "      <td>0.63</td>\n",
       "      <td>0.41</td>\n",
       "      <td>-7</td>\n",
       "      <td>0.08</td>\n",
       "      <td>0.44</td>\n",
       "      <td>0.51</td>\n",
       "      <td>0.07</td>\n",
       "    </tr>\n",
       "    <tr>\n",
       "      <th>289</th>\n",
       "      <td>pop</td>\n",
       "      <td>115</td>\n",
       "      <td>0.89</td>\n",
       "      <td>0.74</td>\n",
       "      <td>-4</td>\n",
       "      <td>0.09</td>\n",
       "      <td>0.96</td>\n",
       "      <td>0.08</td>\n",
       "      <td>0.05</td>\n",
       "    </tr>\n",
       "  </tbody>\n",
       "</table>\n",
       "</div>"
      ],
      "text/plain": [
       "    Top Genre  Beats Per Minute (BPM)  Energy  Danceability  Loudness (dB)  \\\n",
       "6         pop                     102    0.71          0.71             -6   \n",
       "75        pop                     131    0.80          0.75             -5   \n",
       "235       pop                     180    0.66          0.51             -7   \n",
       "246       pop                      83    0.63          0.41             -7   \n",
       "289       pop                     115    0.89          0.74             -4   \n",
       "\n",
       "     Liveness  Valence  Acousticness  Speechiness  \n",
       "6        0.13     0.54          0.06         0.03  \n",
       "75       0.42     0.37          0.24         0.05  \n",
       "235      0.12     0.46          0.03         0.04  \n",
       "246      0.08     0.44          0.51         0.07  \n",
       "289      0.09     0.96          0.08         0.05  "
      ]
     },
     "execution_count": 14,
     "metadata": {},
     "output_type": "execute_result"
    }
   ],
   "source": [
    "for columns in ['Energy', 'Danceability', 'Liveness', 'Valence', 'Acousticness', 'Speechiness']:\n",
    "    df[columns] = df[columns]/100\n",
    "\n",
    "df.head()"
   ]
  },
  {
   "cell_type": "code",
   "execution_count": 15,
   "metadata": {},
   "outputs": [
    {
     "data": {
      "text/html": [
       "<div>\n",
       "<style scoped>\n",
       "    .dataframe tbody tr th:only-of-type {\n",
       "        vertical-align: middle;\n",
       "    }\n",
       "\n",
       "    .dataframe tbody tr th {\n",
       "        vertical-align: top;\n",
       "    }\n",
       "\n",
       "    .dataframe thead th {\n",
       "        text-align: right;\n",
       "    }\n",
       "</style>\n",
       "<table border=\"1\" class=\"dataframe\">\n",
       "  <thead>\n",
       "    <tr style=\"text-align: right;\">\n",
       "      <th></th>\n",
       "      <th>genre</th>\n",
       "      <th>acousticness</th>\n",
       "      <th>danceability</th>\n",
       "      <th>energy</th>\n",
       "      <th>liveness</th>\n",
       "      <th>loudness</th>\n",
       "      <th>speechiness</th>\n",
       "      <th>tempo</th>\n",
       "      <th>valence</th>\n",
       "    </tr>\n",
       "  </thead>\n",
       "  <tbody>\n",
       "    <tr>\n",
       "      <th>135</th>\n",
       "      <td>r&amp;b</td>\n",
       "      <td>0.0830</td>\n",
       "      <td>0.724</td>\n",
       "      <td>0.689</td>\n",
       "      <td>0.3040</td>\n",
       "      <td>-5.922</td>\n",
       "      <td>0.1350</td>\n",
       "      <td>146.496</td>\n",
       "      <td>0.6930</td>\n",
       "    </tr>\n",
       "    <tr>\n",
       "      <th>136</th>\n",
       "      <td>r&amp;b</td>\n",
       "      <td>0.3230</td>\n",
       "      <td>0.685</td>\n",
       "      <td>0.610</td>\n",
       "      <td>0.1020</td>\n",
       "      <td>-5.221</td>\n",
       "      <td>0.0439</td>\n",
       "      <td>94.384</td>\n",
       "      <td>0.3230</td>\n",
       "    </tr>\n",
       "    <tr>\n",
       "      <th>137</th>\n",
       "      <td>r&amp;b</td>\n",
       "      <td>0.0675</td>\n",
       "      <td>0.762</td>\n",
       "      <td>0.520</td>\n",
       "      <td>0.1140</td>\n",
       "      <td>-5.237</td>\n",
       "      <td>0.0959</td>\n",
       "      <td>75.047</td>\n",
       "      <td>0.0862</td>\n",
       "    </tr>\n",
       "    <tr>\n",
       "      <th>138</th>\n",
       "      <td>r&amp;b</td>\n",
       "      <td>0.3600</td>\n",
       "      <td>0.563</td>\n",
       "      <td>0.366</td>\n",
       "      <td>0.0955</td>\n",
       "      <td>-6.896</td>\n",
       "      <td>0.1210</td>\n",
       "      <td>85.352</td>\n",
       "      <td>0.7680</td>\n",
       "    </tr>\n",
       "    <tr>\n",
       "      <th>139</th>\n",
       "      <td>r&amp;b</td>\n",
       "      <td>0.5960</td>\n",
       "      <td>0.653</td>\n",
       "      <td>0.621</td>\n",
       "      <td>0.0811</td>\n",
       "      <td>-5.721</td>\n",
       "      <td>0.0409</td>\n",
       "      <td>100.006</td>\n",
       "      <td>0.4660</td>\n",
       "    </tr>\n",
       "  </tbody>\n",
       "</table>\n",
       "</div>"
      ],
      "text/plain": [
       "    genre  acousticness  danceability  energy  liveness  loudness  \\\n",
       "135   r&b        0.0830         0.724   0.689    0.3040    -5.922   \n",
       "136   r&b        0.3230         0.685   0.610    0.1020    -5.221   \n",
       "137   r&b        0.0675         0.762   0.520    0.1140    -5.237   \n",
       "138   r&b        0.3600         0.563   0.366    0.0955    -6.896   \n",
       "139   r&b        0.5960         0.653   0.621    0.0811    -5.721   \n",
       "\n",
       "     speechiness    tempo  valence  \n",
       "135       0.1350  146.496   0.6930  \n",
       "136       0.0439   94.384   0.3230  \n",
       "137       0.0959   75.047   0.0862  \n",
       "138       0.1210   85.352   0.7680  \n",
       "139       0.0409  100.006   0.4660  "
      ]
     },
     "execution_count": 15,
     "metadata": {},
     "output_type": "execute_result"
    }
   ],
   "source": [
    "spotify_features.drop(columns = ['track_id','track_name','artist_name','popularity','duration_ms','key', 'mode', 'time_signature', 'instrumentalness'], inplace = True)\n",
    "spotify_features.head()"
   ]
  },
  {
   "cell_type": "code",
   "execution_count": 16,
   "metadata": {},
   "outputs": [
    {
     "data": {
      "text/html": [
       "<div>\n",
       "<style scoped>\n",
       "    .dataframe tbody tr th:only-of-type {\n",
       "        vertical-align: middle;\n",
       "    }\n",
       "\n",
       "    .dataframe tbody tr th {\n",
       "        vertical-align: top;\n",
       "    }\n",
       "\n",
       "    .dataframe thead th {\n",
       "        text-align: right;\n",
       "    }\n",
       "</style>\n",
       "<table border=\"1\" class=\"dataframe\">\n",
       "  <thead>\n",
       "    <tr style=\"text-align: right;\">\n",
       "      <th></th>\n",
       "      <th>Top Genre</th>\n",
       "      <th>Acousticness</th>\n",
       "      <th>Danceability</th>\n",
       "      <th>Energy</th>\n",
       "      <th>Liveness</th>\n",
       "      <th>Loudness (dB)</th>\n",
       "      <th>Speechiness</th>\n",
       "      <th>Beats Per Minute (BPM)</th>\n",
       "      <th>Valence</th>\n",
       "    </tr>\n",
       "  </thead>\n",
       "  <tbody>\n",
       "    <tr>\n",
       "      <th>135</th>\n",
       "      <td>r&amp;b</td>\n",
       "      <td>0.0830</td>\n",
       "      <td>0.724</td>\n",
       "      <td>0.689</td>\n",
       "      <td>0.3040</td>\n",
       "      <td>-5.922</td>\n",
       "      <td>0.1350</td>\n",
       "      <td>146.496</td>\n",
       "      <td>0.6930</td>\n",
       "    </tr>\n",
       "    <tr>\n",
       "      <th>136</th>\n",
       "      <td>r&amp;b</td>\n",
       "      <td>0.3230</td>\n",
       "      <td>0.685</td>\n",
       "      <td>0.610</td>\n",
       "      <td>0.1020</td>\n",
       "      <td>-5.221</td>\n",
       "      <td>0.0439</td>\n",
       "      <td>94.384</td>\n",
       "      <td>0.3230</td>\n",
       "    </tr>\n",
       "    <tr>\n",
       "      <th>137</th>\n",
       "      <td>r&amp;b</td>\n",
       "      <td>0.0675</td>\n",
       "      <td>0.762</td>\n",
       "      <td>0.520</td>\n",
       "      <td>0.1140</td>\n",
       "      <td>-5.237</td>\n",
       "      <td>0.0959</td>\n",
       "      <td>75.047</td>\n",
       "      <td>0.0862</td>\n",
       "    </tr>\n",
       "    <tr>\n",
       "      <th>138</th>\n",
       "      <td>r&amp;b</td>\n",
       "      <td>0.3600</td>\n",
       "      <td>0.563</td>\n",
       "      <td>0.366</td>\n",
       "      <td>0.0955</td>\n",
       "      <td>-6.896</td>\n",
       "      <td>0.1210</td>\n",
       "      <td>85.352</td>\n",
       "      <td>0.7680</td>\n",
       "    </tr>\n",
       "    <tr>\n",
       "      <th>139</th>\n",
       "      <td>r&amp;b</td>\n",
       "      <td>0.5960</td>\n",
       "      <td>0.653</td>\n",
       "      <td>0.621</td>\n",
       "      <td>0.0811</td>\n",
       "      <td>-5.721</td>\n",
       "      <td>0.0409</td>\n",
       "      <td>100.006</td>\n",
       "      <td>0.4660</td>\n",
       "    </tr>\n",
       "  </tbody>\n",
       "</table>\n",
       "</div>"
      ],
      "text/plain": [
       "    Top Genre  Acousticness  Danceability  Energy  Liveness  Loudness (dB)  \\\n",
       "135       r&b        0.0830         0.724   0.689    0.3040         -5.922   \n",
       "136       r&b        0.3230         0.685   0.610    0.1020         -5.221   \n",
       "137       r&b        0.0675         0.762   0.520    0.1140         -5.237   \n",
       "138       r&b        0.3600         0.563   0.366    0.0955         -6.896   \n",
       "139       r&b        0.5960         0.653   0.621    0.0811         -5.721   \n",
       "\n",
       "     Speechiness  Beats Per Minute (BPM)  Valence  \n",
       "135       0.1350                 146.496   0.6930  \n",
       "136       0.0439                  94.384   0.3230  \n",
       "137       0.0959                  75.047   0.0862  \n",
       "138       0.1210                  85.352   0.7680  \n",
       "139       0.0409                 100.006   0.4660  "
      ]
     },
     "execution_count": 16,
     "metadata": {},
     "output_type": "execute_result"
    }
   ],
   "source": [
    "spotify_features.columns = ['Top Genre', 'Acousticness', 'Danceability', 'Energy', 'Liveness', 'Loudness (dB)', 'Speechiness', 'Beats Per Minute (BPM)', 'Valence']\n",
    "spotify_features.head()"
   ]
  },
  {
   "cell_type": "code",
   "execution_count": 17,
   "metadata": {},
   "outputs": [
    {
     "name": "stdout",
     "output_type": "stream",
     "text": [
      "145926\n"
     ]
    },
    {
     "name": "stderr",
     "output_type": "stream",
     "text": [
      "/var/folders/qp/y_44jp1x5_j1g0jw85c5w07w0000gn/T/ipykernel_62928/2846363645.py:2: SettingWithCopyWarning: \n",
      "A value is trying to be set on a copy of a slice from a DataFrame.\n",
      "Try using .loc[row_indexer,col_indexer] = value instead\n",
      "\n",
      "See the caveats in the documentation: https://pandas.pydata.org/pandas-docs/stable/user_guide/indexing.html#returning-a-view-versus-a-copy\n",
      "  df[col] = df[col].astype(float)\n"
     ]
    },
    {
     "data": {
      "text/html": [
       "<div>\n",
       "<style scoped>\n",
       "    .dataframe tbody tr th:only-of-type {\n",
       "        vertical-align: middle;\n",
       "    }\n",
       "\n",
       "    .dataframe tbody tr th {\n",
       "        vertical-align: top;\n",
       "    }\n",
       "\n",
       "    .dataframe thead th {\n",
       "        text-align: right;\n",
       "    }\n",
       "</style>\n",
       "<table border=\"1\" class=\"dataframe\">\n",
       "  <thead>\n",
       "    <tr style=\"text-align: right;\">\n",
       "      <th></th>\n",
       "      <th>Top Genre</th>\n",
       "      <th>Beats Per Minute (BPM)</th>\n",
       "      <th>Energy</th>\n",
       "      <th>Danceability</th>\n",
       "      <th>Loudness (dB)</th>\n",
       "      <th>Liveness</th>\n",
       "      <th>Valence</th>\n",
       "      <th>Acousticness</th>\n",
       "      <th>Speechiness</th>\n",
       "    </tr>\n",
       "  </thead>\n",
       "  <tbody>\n",
       "    <tr>\n",
       "      <th>6</th>\n",
       "      <td>pop</td>\n",
       "      <td>102.0</td>\n",
       "      <td>0.71</td>\n",
       "      <td>0.71</td>\n",
       "      <td>-6.0</td>\n",
       "      <td>0.13</td>\n",
       "      <td>0.54</td>\n",
       "      <td>0.06</td>\n",
       "      <td>0.03</td>\n",
       "    </tr>\n",
       "    <tr>\n",
       "      <th>75</th>\n",
       "      <td>pop</td>\n",
       "      <td>131.0</td>\n",
       "      <td>0.80</td>\n",
       "      <td>0.75</td>\n",
       "      <td>-5.0</td>\n",
       "      <td>0.42</td>\n",
       "      <td>0.37</td>\n",
       "      <td>0.24</td>\n",
       "      <td>0.05</td>\n",
       "    </tr>\n",
       "    <tr>\n",
       "      <th>235</th>\n",
       "      <td>pop</td>\n",
       "      <td>180.0</td>\n",
       "      <td>0.66</td>\n",
       "      <td>0.51</td>\n",
       "      <td>-7.0</td>\n",
       "      <td>0.12</td>\n",
       "      <td>0.46</td>\n",
       "      <td>0.03</td>\n",
       "      <td>0.04</td>\n",
       "    </tr>\n",
       "    <tr>\n",
       "      <th>246</th>\n",
       "      <td>pop</td>\n",
       "      <td>83.0</td>\n",
       "      <td>0.63</td>\n",
       "      <td>0.41</td>\n",
       "      <td>-7.0</td>\n",
       "      <td>0.08</td>\n",
       "      <td>0.44</td>\n",
       "      <td>0.51</td>\n",
       "      <td>0.07</td>\n",
       "    </tr>\n",
       "    <tr>\n",
       "      <th>289</th>\n",
       "      <td>pop</td>\n",
       "      <td>115.0</td>\n",
       "      <td>0.89</td>\n",
       "      <td>0.74</td>\n",
       "      <td>-4.0</td>\n",
       "      <td>0.09</td>\n",
       "      <td>0.96</td>\n",
       "      <td>0.08</td>\n",
       "      <td>0.05</td>\n",
       "    </tr>\n",
       "  </tbody>\n",
       "</table>\n",
       "</div>"
      ],
      "text/plain": [
       "    Top Genre  Beats Per Minute (BPM)  Energy  Danceability  Loudness (dB)  \\\n",
       "6         pop                   102.0    0.71          0.71           -6.0   \n",
       "75        pop                   131.0    0.80          0.75           -5.0   \n",
       "235       pop                   180.0    0.66          0.51           -7.0   \n",
       "246       pop                    83.0    0.63          0.41           -7.0   \n",
       "289       pop                   115.0    0.89          0.74           -4.0   \n",
       "\n",
       "     Liveness  Valence  Acousticness  Speechiness  \n",
       "6        0.13     0.54          0.06         0.03  \n",
       "75       0.42     0.37          0.24         0.05  \n",
       "235      0.12     0.46          0.03         0.04  \n",
       "246      0.08     0.44          0.51         0.07  \n",
       "289      0.09     0.96          0.08         0.05  "
      ]
     },
     "execution_count": 17,
     "metadata": {},
     "output_type": "execute_result"
    }
   ],
   "source": [
    "for col in df.columns[1:]:\n",
    "    df[col] = df[col].astype(float)\n",
    "\n",
    "# concat dataframes\n",
    "df = pd.concat([df, spotify_features], axis=0)\n",
    "print(len(df))\n",
    "df.head()"
   ]
  },
  {
   "cell_type": "code",
   "execution_count": 18,
   "metadata": {},
   "outputs": [
    {
     "data": {
      "text/plain": [
       "indie          9543\n",
       "pop            9493\n",
       "jazz           9441\n",
       "electronic     9377\n",
       "folk           9307\n",
       "hip-hop        9295\n",
       "rock           9272\n",
       "alternative    9263\n",
       "classical      9256\n",
       "rap            9232\n",
       "blues          9031\n",
       "r&b            8992\n",
       "reggae         8779\n",
       "dance          8701\n",
       "country        8664\n",
       "opera          8280\n",
       "Name: Top Genre, dtype: int64"
      ]
     },
     "execution_count": 18,
     "metadata": {},
     "output_type": "execute_result"
    }
   ],
   "source": [
    "df['Top Genre'].value_counts().head(60)"
   ]
  },
  {
   "cell_type": "code",
   "execution_count": 19,
   "metadata": {},
   "outputs": [],
   "source": [
    "unique = df['Top Genre'].unique()"
   ]
  },
  {
   "cell_type": "markdown",
   "metadata": {},
   "source": [
    "## Model Creation"
   ]
  },
  {
   "cell_type": "code",
   "execution_count": 74,
   "metadata": {},
   "outputs": [],
   "source": [
    "from sklearn.preprocessing import LabelEncoder\n",
    "import torch\n",
    "from keras.utils import np_utils\n",
    "torch.autograd.set_detect_anomaly(True)\n",
    "\n",
    "from sklearn.preprocessing import label_binarize\n",
    "from sklearn.preprocessing import LabelEncoder\n",
    "from torch.utils.data import (\n",
    "    Dataset,\n",
    "    DataLoader,\n",
    ")\n",
    "from sklearn.preprocessing import StandardScaler, MinMaxScaler\n",
    "label_encoder = LabelEncoder()\n",
    "\n",
    "\n",
    "class CustomDataset(Dataset):\n",
    "    def __init__ (self, df):\n",
    "\n",
    "        X = df.values[:,1:]\n",
    "        Y = df.values[:,0]\n",
    "\n",
    "        # standard_scaler = StandardScaler().fit(X)\n",
    "        standard_scaler = MinMaxScaler().fit(X)\n",
    "        self.data = standard_scaler.transform(X).astype(np.float32)\n",
    "        \n",
    "        self.target = label_binarize(Y, classes = unique).astype(np.float32)\n",
    "    \n",
    "    def __len__(self):\n",
    "        return len(self.data)\n",
    "        \n",
    "    def __getitem__(self, index):\n",
    "        return torch.tensor(self.data[index]), torch.tensor(self.target[index])\n",
    "\n",
    "ds = CustomDataset(df)"
   ]
  },
  {
   "cell_type": "code",
   "execution_count": null,
   "metadata": {},
   "outputs": [],
   "source": [
    "config = {\n",
    "    \"batch_size\": 64,\n",
    "    \"learning_rate\": 0.001,\n",
    "    \"l1\": 120,\n",
    "    \"l2\": 84,\n",
    "}"
   ]
  },
  {
   "cell_type": "code",
   "execution_count": 75,
   "metadata": {},
   "outputs": [
    {
     "name": "stdout",
     "output_type": "stream",
     "text": [
      "The total number of rows in the dataframe is: 145926\n",
      "['Beats Per Minute (BPM)', 'Energy', 'Danceability', 'Loudness (dB)', 'Liveness', 'Valence', 'Acousticness', 'Speechiness']\n"
     ]
    }
   ],
   "source": [
    "import pandas as pd\n",
    "import numpy as np\n",
    "from torch.utils.data import DataLoader, random_split\n",
    "\n",
    "\n",
    "num_rows = len(df.index)\n",
    "print('The total number of rows in the dataframe is:',num_rows)\n",
    "input_cols = list(df.iloc[:,1:].columns)\n",
    "print(input_cols)\n",
    "\n",
    "val_percent = 0.2\n",
    "val_size = int(num_rows * val_percent)\n",
    "train_size = num_rows - val_size\n",
    "\n",
    "train_ds, val_ds = random_split(ds, [train_size, val_size])\n",
    "\n",
    "batch_size = 64\n",
    "\n",
    "train_loader = DataLoader(train_ds, batch_size=batch_size, shuffle = True)\n",
    "val_loader = DataLoader(val_ds, batch_size=batch_size//4, shuffle = True)"
   ]
  },
  {
   "cell_type": "code",
   "execution_count": 76,
   "metadata": {},
   "outputs": [
    {
     "name": "stdout",
     "output_type": "stream",
     "text": [
      "The total number of genre in the dataframe is: 16\n"
     ]
    }
   ],
   "source": [
    "total_genres = unique.__len__()\n",
    "print('The total number of genre in the dataframe is:',total_genres)"
   ]
  },
  {
   "cell_type": "code",
   "execution_count": 78,
   "metadata": {},
   "outputs": [],
   "source": [
    "import torch\n",
    "import numpy as np\n",
    "\n",
    "class EarlyStopping:\n",
    "    def __init__(self, patience=7, verbose=True, delta=0, path='model.pth', trace_func=print):\n",
    "        self.patience = patience\n",
    "        self.verbose = verbose\n",
    "        self.counter = 0\n",
    "        self.best_score = None\n",
    "        self.early_stop = False\n",
    "        self.val_loss_min = np.Inf\n",
    "        self.delta = delta\n",
    "        self.path = path\n",
    "        self.trace_func = trace_func\n",
    "    def __call__(self, val_loss, model):\n",
    "\n",
    "        score = -val_loss\n",
    "\n",
    "        if self.best_score is None:\n",
    "            self.best_score = score\n",
    "            self.save_checkpoint(val_loss, model)\n",
    "        elif score < self.best_score + self.delta:\n",
    "            self.counter += 1\n",
    "            self.trace_func(f'EarlyStopping counter: {self.counter} out of {self.patience}')\n",
    "            if self.counter >= self.patience:\n",
    "                self.early_stop = True\n",
    "        else:\n",
    "            self.best_score = score\n",
    "            self.save_checkpoint(val_loss, model)\n",
    "            self.counter = 0\n",
    "\n",
    "    def save_checkpoint(self, val_loss, model):\n",
    "        if self.verbose:\n",
    "            self.trace_func(f'Validation loss decreased ({self.val_loss_min:.6f} --> {val_loss:.6f}).  Saving model ...')\n",
    "        torch.save(model, 'model.pth')\n",
    "        self.val_loss_min = val_loss"
   ]
  },
  {
   "cell_type": "code",
   "execution_count": 82,
   "metadata": {},
   "outputs": [],
   "source": [
    "import torch.nn as nn\n",
    "import torch.nn.functional as F\n",
    "\n",
    "input_size = len(input_cols)\n",
    "output_size = total_genres\n",
    "\n",
    "class GenreClassification(nn.Module):\n",
    "    def __init__(self,l1=128, l2=64):\n",
    "        super().__init__()\n",
    "        \n",
    "        # self.fc1 = nn.Linear(input_size, 128)\n",
    "        # self.fc2 = nn.Linear(128, output_size)\n",
    "\n",
    "        self.dropout = nn.Dropout(0.2)\n",
    "        self.fc1 = nn.Linear(input_size, l1)\n",
    "        self.fc2 = nn.Linear(l1, l2)\n",
    "        self.fc3 = nn.Linear(l2, output_size)\n",
    "\n",
    "        # self.classifier = nn.Sequential(\n",
    "        #     nn.Linear(input_size, 128),\n",
    "        #     nn.LeakyReLU(),\n",
    "        #     nn.Dropout(0.5),\n",
    "        #     nn.Linear(128, 128),\n",
    "        #     nn.LeakyReLU(),\n",
    "        #     nn.Linear(128, output_size)\n",
    "        # )\n",
    "\n",
    "    def forward(self, x):\n",
    "        \n",
    "        # x = self.fc1(x)\n",
    "        # x = F.relu(x)\n",
    "        # out = self.fc2(x)\n",
    "        # return out\n",
    "\n",
    "        x = F.relu(self.fc1(x))\n",
    "        x = self.dropout(x)\n",
    "        x = F.relu(self.fc2(x))\n",
    "        x = self.dropout(x)\n",
    "        x = self.fc3(x)\n",
    "        return x\n",
    "\n",
    "        # x = self.classifier(x)\n",
    "        # return x"
   ]
  },
  {
   "cell_type": "code",
   "execution_count": 83,
   "metadata": {},
   "outputs": [],
   "source": [
    "import tqdm\n",
    "\n",
    "device = torch.device(\"cuda\" if torch.cuda.is_available() else \"cpu\")\n",
    "\n",
    "model = GenreClassification()\n",
    "model.to(device)\n",
    "\n",
    "criterion = nn.CrossEntropyLoss(label_smoothing=0.2)\n",
    "\n",
    "\n",
    "def fit(num_epochs, learning_rate, model, train_loader, val_loader):\n",
    "    optimizer = torch.optim.Adam(model.parameters(), lr=learning_rate, weight_decay=1e-4)\n",
    "    # scheduler = torch.optim.lr_scheduler.ReduceLROnPlateau(optimizer, factor=0.1, patience=5, verbose=True)\n",
    "    # scheduler = torch.optim.lr_scheduler.OneCycleLR(optimizer, max_lr=learning_rate, steps_per_epoch=len(train_loader), epochs=num_epochs)\n",
    "    train_losses = []\n",
    "    valid_losses = []\n",
    "    avg_train_losses = []\n",
    "    avg_valid_losses = [] \n",
    "\n",
    "    early_stopping = EarlyStopping(patience=7, verbose=True)\n",
    "\n",
    "    for epoch in range(num_epochs):\n",
    "        losses = []\n",
    "        correct = 0\n",
    "        model.train()\n",
    "        for (data, targets) in tqdm.tqdm(train_loader, desc= \"Training\"):\n",
    "            data = data.to(device)\n",
    "            targets = targets.to(device)\n",
    "            \n",
    "            optimizer.zero_grad()\n",
    "            \n",
    "            scores = model(data)\n",
    "            loss = criterion(scores, targets)\n",
    "            losses.append(loss.item())\n",
    "            \n",
    "            loss.backward()\n",
    "\n",
    "            nn.utils.clip_grad_value_(model.parameters(), 0.1)\n",
    "\n",
    "            optimizer.step()\n",
    "            # scheduler.step()\n",
    "\n",
    "            correct += (scores.argmax(dim=1) == targets.argmax(dim=1)).float().sum()\n",
    "            train_losses.append(loss.item())\n",
    "            \n",
    "            \n",
    "\n",
    "        accuracy = 100 * correct / train_size\n",
    "\n",
    "        model.eval()\n",
    "        correct_ = 0\n",
    "        for data, target in tqdm.tqdm(val_loader, desc= \"Evaluation\"):\n",
    "          data = data.to(device)\n",
    "          target = target.to(device)\n",
    "          output = model(data)            \n",
    "          loss = criterion(output, target)\n",
    "          valid_losses.append(loss.item())\n",
    "          correct_ += (output.argmax(dim=1) == target.argmax(dim=1)).float().sum()\n",
    "\n",
    "        train_loss = np.average(train_losses)\n",
    "        valid_loss = np.average(valid_losses)\n",
    "        avg_train_losses.append(train_loss)\n",
    "        avg_valid_losses.append(valid_loss)\n",
    "\n",
    "        val_accuracy = 100 * correct_ / val_size\n",
    "        \n",
    "        \n",
    "        print(f\"{epoch+1} || valid_loss: {valid_loss} | train_loss: {train_loss} | accuracy: {accuracy} | val_accuracy: {val_accuracy}\")\n",
    "\n",
    "        # clear lists to track next epoch\n",
    "        train_losses = []\n",
    "        valid_losses = []\n",
    "        \n",
    "        early_stopping(valid_loss, model)\n",
    "        \n",
    "        if early_stopping.early_stop:\n",
    "            print(\"Early stopping\")\n",
    "            break\n",
    "\n",
    "def check_accuracy(loader, model):\n",
    "    print(\"Checking accuracy on test data\")\n",
    "\n",
    "    num_correct = 0\n",
    "    num_samples = 0\n",
    "    model.eval()\n",
    "\n",
    "    with torch.no_grad():\n",
    "        for x, y in tqdm.tqdm(loader):\n",
    "            x = x.to(device)\n",
    "            y = y.to(device)\n",
    "\n",
    "            scores = model(x)\n",
    "            \n",
    "            num_correct += (scores.argmax(dim=1) == y.argmax(dim=1)).sum()\n",
    "            num_samples += 1*x.shape[0]\n",
    "\n",
    "        print(f\"Got {num_correct} / {num_samples} with accuracy {float(num_correct)/float(num_samples)*100:.2f}\")\n",
    "    \n",
    "    model.train()"
   ]
  },
  {
   "cell_type": "code",
   "execution_count": 84,
   "metadata": {},
   "outputs": [
    {
     "name": "stderr",
     "output_type": "stream",
     "text": [
      "Training: 100%|██████████| 1825/1825 [00:03<00:00, 506.06it/s]\n",
      "Evaluation: 100%|██████████| 1825/1825 [00:02<00:00, 666.32it/s]\n"
     ]
    },
    {
     "name": "stdout",
     "output_type": "stream",
     "text": [
      "1 || valid_loss: 2.4142445040402345 | train_loss: 2.4655226292022285 | accuracy: 23.335416793823242 | val_accuracy: 25.31094741821289\n",
      "Validation loss decreased (inf --> 2.414245).  Saving model ...\n"
     ]
    },
    {
     "name": "stderr",
     "output_type": "stream",
     "text": [
      "Training: 100%|██████████| 1825/1825 [00:03<00:00, 508.04it/s]\n",
      "Evaluation: 100%|██████████| 1825/1825 [00:02<00:00, 652.82it/s]\n"
     ]
    },
    {
     "name": "stdout",
     "output_type": "stream",
     "text": [
      "2 || valid_loss: 2.389992459244924 | train_loss: 2.3994448273802456 | accuracy: 26.308666229248047 | val_accuracy: 26.462223052978516\n",
      "Validation loss decreased (2.414245 --> 2.389992).  Saving model ...\n"
     ]
    },
    {
     "name": "stderr",
     "output_type": "stream",
     "text": [
      "Training: 100%|██████████| 1825/1825 [00:03<00:00, 508.79it/s]\n",
      "Evaluation: 100%|██████████| 1825/1825 [00:02<00:00, 663.42it/s]\n"
     ]
    },
    {
     "name": "stdout",
     "output_type": "stream",
     "text": [
      "3 || valid_loss: 2.3795903791140205 | train_loss: 2.382940155055425 | accuracy: 27.255205154418945 | val_accuracy: 27.380504608154297\n",
      "Validation loss decreased (2.389992 --> 2.379590).  Saving model ...\n"
     ]
    },
    {
     "name": "stderr",
     "output_type": "stream",
     "text": [
      "Training: 100%|██████████| 1825/1825 [00:03<00:00, 506.94it/s]\n",
      "Evaluation: 100%|██████████| 1825/1825 [00:02<00:00, 666.89it/s]\n"
     ]
    },
    {
     "name": "stdout",
     "output_type": "stream",
     "text": [
      "4 || valid_loss: 2.3719732262990245 | train_loss: 2.37259560180037 | accuracy: 27.773447036743164 | val_accuracy: 27.712865829467773\n",
      "Validation loss decreased (2.379590 --> 2.371973).  Saving model ...\n"
     ]
    },
    {
     "name": "stderr",
     "output_type": "stream",
     "text": [
      "Training: 100%|██████████| 1825/1825 [00:03<00:00, 508.54it/s]\n",
      "Evaluation: 100%|██████████| 1825/1825 [00:02<00:00, 662.79it/s]\n"
     ]
    },
    {
     "name": "stdout",
     "output_type": "stream",
     "text": [
      "5 || valid_loss: 2.364028477995363 | train_loss: 2.3650844958057142 | accuracy: 28.162342071533203 | val_accuracy: 28.120609283447266\n",
      "Validation loss decreased (2.371973 --> 2.364028).  Saving model ...\n"
     ]
    },
    {
     "name": "stderr",
     "output_type": "stream",
     "text": [
      "Training: 100%|██████████| 1825/1825 [00:03<00:00, 509.30it/s]\n",
      "Evaluation: 100%|██████████| 1825/1825 [00:02<00:00, 662.85it/s]\n"
     ]
    },
    {
     "name": "stdout",
     "output_type": "stream",
     "text": [
      "6 || valid_loss: 2.3596379708590574 | train_loss: 2.3597063776564924 | accuracy: 28.54181480407715 | val_accuracy: 28.452972412109375\n",
      "Validation loss decreased (2.364028 --> 2.359638).  Saving model ...\n"
     ]
    },
    {
     "name": "stderr",
     "output_type": "stream",
     "text": [
      "Training: 100%|██████████| 1825/1825 [00:03<00:00, 508.05it/s]\n",
      "Evaluation: 100%|██████████| 1825/1825 [00:02<00:00, 661.82it/s]\n"
     ]
    },
    {
     "name": "stdout",
     "output_type": "stream",
     "text": [
      "7 || valid_loss: 2.3559585843674125 | train_loss: 2.355622442977069 | accuracy: 28.714847564697266 | val_accuracy: 28.27822494506836\n",
      "Validation loss decreased (2.359638 --> 2.355959).  Saving model ...\n"
     ]
    },
    {
     "name": "stderr",
     "output_type": "stream",
     "text": [
      "Training: 100%|██████████| 1825/1825 [00:03<00:00, 508.72it/s]\n",
      "Evaluation: 100%|██████████| 1825/1825 [00:02<00:00, 658.88it/s]\n"
     ]
    },
    {
     "name": "stdout",
     "output_type": "stream",
     "text": [
      "8 || valid_loss: 2.3551638618234088 | train_loss: 2.352339932298007 | accuracy: 28.87074851989746 | val_accuracy: 28.4632511138916\n",
      "Validation loss decreased (2.355959 --> 2.355164).  Saving model ...\n"
     ]
    },
    {
     "name": "stderr",
     "output_type": "stream",
     "text": [
      "Training: 100%|██████████| 1825/1825 [00:03<00:00, 467.41it/s]\n",
      "Evaluation: 100%|██████████| 1825/1825 [00:02<00:00, 628.72it/s]\n"
     ]
    },
    {
     "name": "stdout",
     "output_type": "stream",
     "text": [
      "9 || valid_loss: 2.3519287674394374 | train_loss: 2.3500423607760914 | accuracy: 28.991527557373047 | val_accuracy: 28.720233917236328\n",
      "Validation loss decreased (2.355164 --> 2.351929).  Saving model ...\n"
     ]
    },
    {
     "name": "stderr",
     "output_type": "stream",
     "text": [
      "Training: 100%|██████████| 1825/1825 [00:03<00:00, 499.54it/s]\n",
      "Evaluation: 100%|██████████| 1825/1825 [00:02<00:00, 655.51it/s]\n"
     ]
    },
    {
     "name": "stdout",
     "output_type": "stream",
     "text": [
      "10 || valid_loss: 2.3504505553310864 | train_loss: 2.347789901184709 | accuracy: 29.074617385864258 | val_accuracy: 28.87784767150879\n",
      "Validation loss decreased (2.351929 --> 2.350451).  Saving model ...\n"
     ]
    },
    {
     "name": "stderr",
     "output_type": "stream",
     "text": [
      "Training: 100%|██████████| 1825/1825 [00:03<00:00, 503.21it/s]\n",
      "Evaluation: 100%|██████████| 1825/1825 [00:02<00:00, 654.35it/s]\n"
     ]
    },
    {
     "name": "stdout",
     "output_type": "stream",
     "text": [
      "11 || valid_loss: 2.353751916493455 | train_loss: 2.3457761554195455 | accuracy: 29.133724212646484 | val_accuracy: 28.466678619384766\n",
      "EarlyStopping counter: 1 out of 7\n"
     ]
    },
    {
     "name": "stderr",
     "output_type": "stream",
     "text": [
      "Training: 100%|██████████| 1825/1825 [00:03<00:00, 501.98it/s]\n",
      "Evaluation: 100%|██████████| 1825/1825 [00:02<00:00, 656.72it/s]\n"
     ]
    },
    {
     "name": "stdout",
     "output_type": "stream",
     "text": [
      "12 || valid_loss: 2.3468823877752643 | train_loss: 2.344050241888386 | accuracy: 29.190258026123047 | val_accuracy: 29.107418060302734\n",
      "Validation loss decreased (2.350451 --> 2.346882).  Saving model ...\n"
     ]
    },
    {
     "name": "stderr",
     "output_type": "stream",
     "text": [
      "Training: 100%|██████████| 1825/1825 [00:03<00:00, 501.46it/s]\n",
      "Evaluation: 100%|██████████| 1825/1825 [00:02<00:00, 643.04it/s]\n"
     ]
    },
    {
     "name": "stdout",
     "output_type": "stream",
     "text": [
      "13 || valid_loss: 2.3471944530696085 | train_loss: 2.3425871868656105 | accuracy: 29.26306915283203 | val_accuracy: 28.9600830078125\n",
      "EarlyStopping counter: 1 out of 7\n"
     ]
    },
    {
     "name": "stderr",
     "output_type": "stream",
     "text": [
      "Training: 100%|██████████| 1825/1825 [00:03<00:00, 498.45it/s]\n",
      "Evaluation: 100%|██████████| 1825/1825 [00:02<00:00, 653.92it/s]\n"
     ]
    },
    {
     "name": "stdout",
     "output_type": "stream",
     "text": [
      "14 || valid_loss: 2.3432826655531582 | train_loss: 2.341343610058092 | accuracy: 29.372713088989258 | val_accuracy: 29.121124267578125\n",
      "Validation loss decreased (2.346882 --> 2.343283).  Saving model ...\n"
     ]
    },
    {
     "name": "stderr",
     "output_type": "stream",
     "text": [
      "Training: 100%|██████████| 1825/1825 [00:03<00:00, 502.33it/s]\n",
      "Evaluation: 100%|██████████| 1825/1825 [00:02<00:00, 657.98it/s]\n"
     ]
    },
    {
     "name": "stdout",
     "output_type": "stream",
     "text": [
      "15 || valid_loss: 2.3457400276236338 | train_loss: 2.3402981901822026 | accuracy: 29.447237014770508 | val_accuracy: 29.038888931274414\n",
      "EarlyStopping counter: 1 out of 7\n"
     ]
    },
    {
     "name": "stderr",
     "output_type": "stream",
     "text": [
      "Training: 100%|██████████| 1825/1825 [00:03<00:00, 501.95it/s]\n",
      "Evaluation: 100%|██████████| 1825/1825 [00:02<00:00, 655.29it/s]\n"
     ]
    },
    {
     "name": "stdout",
     "output_type": "stream",
     "text": [
      "16 || valid_loss: 2.34083692472275 | train_loss: 2.3388369838505576 | accuracy: 29.52775764465332 | val_accuracy: 29.313003540039062\n",
      "Validation loss decreased (2.343283 --> 2.340837).  Saving model ...\n"
     ]
    },
    {
     "name": "stderr",
     "output_type": "stream",
     "text": [
      "Training: 100%|██████████| 1825/1825 [00:03<00:00, 501.94it/s]\n",
      "Evaluation: 100%|██████████| 1825/1825 [00:02<00:00, 645.52it/s]\n"
     ]
    },
    {
     "name": "stdout",
     "output_type": "stream",
     "text": [
      "17 || valid_loss: 2.340353252593785 | train_loss: 2.337724435623378 | accuracy: 29.5551700592041 | val_accuracy: 29.326709747314453\n",
      "Validation loss decreased (2.340837 --> 2.340353).  Saving model ...\n"
     ]
    },
    {
     "name": "stderr",
     "output_type": "stream",
     "text": [
      "Training: 100%|██████████| 1825/1825 [00:03<00:00, 499.83it/s]\n",
      "Evaluation: 100%|██████████| 1825/1825 [00:02<00:00, 651.58it/s]\n"
     ]
    },
    {
     "name": "stdout",
     "output_type": "stream",
     "text": [
      "18 || valid_loss: 2.340685422126561 | train_loss: 2.3364700244224235 | accuracy: 29.645111083984375 | val_accuracy: 29.429500579833984\n",
      "EarlyStopping counter: 1 out of 7\n"
     ]
    },
    {
     "name": "stderr",
     "output_type": "stream",
     "text": [
      "Training: 100%|██████████| 1825/1825 [00:03<00:00, 501.98it/s]\n",
      "Evaluation: 100%|██████████| 1825/1825 [00:02<00:00, 647.08it/s]\n"
     ]
    },
    {
     "name": "stdout",
     "output_type": "stream",
     "text": [
      "19 || valid_loss: 2.3406187101259626 | train_loss: 2.3353694105801517 | accuracy: 29.612560272216797 | val_accuracy: 29.217063903808594\n",
      "EarlyStopping counter: 2 out of 7\n"
     ]
    },
    {
     "name": "stderr",
     "output_type": "stream",
     "text": [
      "Training: 100%|██████████| 1825/1825 [00:03<00:00, 495.37it/s]\n",
      "Evaluation: 100%|██████████| 1825/1825 [00:02<00:00, 647.98it/s]\n"
     ]
    },
    {
     "name": "stdout",
     "output_type": "stream",
     "text": [
      "20 || valid_loss: 2.341007415301179 | train_loss: 2.334620570091352 | accuracy: 29.758182525634766 | val_accuracy: 29.165666580200195\n",
      "EarlyStopping counter: 3 out of 7\n"
     ]
    },
    {
     "name": "stderr",
     "output_type": "stream",
     "text": [
      "Training: 100%|██████████| 1825/1825 [00:03<00:00, 496.20it/s]\n",
      "Evaluation: 100%|██████████| 1825/1825 [00:02<00:00, 651.24it/s]\n"
     ]
    },
    {
     "name": "stdout",
     "output_type": "stream",
     "text": [
      "21 || valid_loss: 2.3382947104597744 | train_loss: 2.3336045531050797 | accuracy: 29.82242774963379 | val_accuracy: 29.29587173461914\n",
      "Validation loss decreased (2.340353 --> 2.338295).  Saving model ...\n"
     ]
    },
    {
     "name": "stderr",
     "output_type": "stream",
     "text": [
      "Training: 100%|██████████| 1825/1825 [00:03<00:00, 497.38it/s]\n",
      "Evaluation: 100%|██████████| 1825/1825 [00:02<00:00, 653.23it/s]\n"
     ]
    },
    {
     "name": "stdout",
     "output_type": "stream",
     "text": [
      "22 || valid_loss: 2.3406523962543435 | train_loss: 2.3330164277063656 | accuracy: 29.854122161865234 | val_accuracy: 29.326709747314453\n",
      "EarlyStopping counter: 1 out of 7\n"
     ]
    },
    {
     "name": "stderr",
     "output_type": "stream",
     "text": [
      "Training: 100%|██████████| 1825/1825 [00:03<00:00, 498.99it/s]\n",
      "Evaluation: 100%|██████████| 1825/1825 [00:02<00:00, 651.12it/s]\n"
     ]
    },
    {
     "name": "stdout",
     "output_type": "stream",
     "text": [
      "23 || valid_loss: 2.3382576744523766 | train_loss: 2.3327398800523316 | accuracy: 30.019445419311523 | val_accuracy: 29.103992462158203\n",
      "Validation loss decreased (2.338295 --> 2.338258).  Saving model ...\n"
     ]
    },
    {
     "name": "stderr",
     "output_type": "stream",
     "text": [
      "Training: 100%|██████████| 1825/1825 [00:03<00:00, 486.67it/s]\n",
      "Evaluation: 100%|██████████| 1825/1825 [00:02<00:00, 653.17it/s]\n"
     ]
    },
    {
     "name": "stdout",
     "output_type": "stream",
     "text": [
      "24 || valid_loss: 2.3367046245156904 | train_loss: 2.3319272652717484 | accuracy: 29.902090072631836 | val_accuracy: 29.494604110717773\n",
      "Validation loss decreased (2.338258 --> 2.336705).  Saving model ...\n"
     ]
    },
    {
     "name": "stderr",
     "output_type": "stream",
     "text": [
      "Training: 100%|██████████| 1825/1825 [00:03<00:00, 497.01it/s]\n",
      "Evaluation: 100%|██████████| 1825/1825 [00:02<00:00, 629.32it/s]\n"
     ]
    },
    {
     "name": "stdout",
     "output_type": "stream",
     "text": [
      "25 || valid_loss: 2.338153368022344 | train_loss: 2.331296208525357 | accuracy: 29.968048095703125 | val_accuracy: 29.316429138183594\n",
      "EarlyStopping counter: 1 out of 7\n"
     ]
    },
    {
     "name": "stderr",
     "output_type": "stream",
     "text": [
      "Training: 100%|██████████| 1825/1825 [00:03<00:00, 504.86it/s]\n",
      "Evaluation: 100%|██████████| 1825/1825 [00:02<00:00, 657.23it/s]\n"
     ]
    },
    {
     "name": "stdout",
     "output_type": "stream",
     "text": [
      "26 || valid_loss: 2.3375301668741932 | train_loss: 2.3309798488878224 | accuracy: 29.956912994384766 | val_accuracy: 29.32328224182129\n",
      "EarlyStopping counter: 2 out of 7\n"
     ]
    },
    {
     "name": "stderr",
     "output_type": "stream",
     "text": [
      "Training: 100%|██████████| 1825/1825 [00:03<00:00, 505.95it/s]\n",
      "Evaluation: 100%|██████████| 1825/1825 [00:02<00:00, 659.21it/s]\n"
     ]
    },
    {
     "name": "stdout",
     "output_type": "stream",
     "text": [
      "27 || valid_loss: 2.3336829060071134 | train_loss: 2.33095666467327 | accuracy: 29.994604110717773 | val_accuracy: 29.439781188964844\n",
      "Validation loss decreased (2.336705 --> 2.333683).  Saving model ...\n"
     ]
    },
    {
     "name": "stderr",
     "output_type": "stream",
     "text": [
      "Training: 100%|██████████| 1825/1825 [00:03<00:00, 505.40it/s]\n",
      "Evaluation: 100%|██████████| 1825/1825 [00:02<00:00, 659.88it/s]\n"
     ]
    },
    {
     "name": "stdout",
     "output_type": "stream",
     "text": [
      "28 || valid_loss: 2.336227457947927 | train_loss: 2.329724971170295 | accuracy: 29.93292808532715 | val_accuracy: 29.3095760345459\n",
      "EarlyStopping counter: 1 out of 7\n"
     ]
    },
    {
     "name": "stderr",
     "output_type": "stream",
     "text": [
      "Training: 100%|██████████| 1825/1825 [00:03<00:00, 503.96it/s]\n",
      "Evaluation: 100%|██████████| 1825/1825 [00:02<00:00, 644.06it/s]\n"
     ]
    },
    {
     "name": "stdout",
     "output_type": "stream",
     "text": [
      "29 || valid_loss: 2.3360488312211753 | train_loss: 2.3297188693529938 | accuracy: 30.012592315673828 | val_accuracy: 29.68648338317871\n",
      "EarlyStopping counter: 2 out of 7\n"
     ]
    },
    {
     "name": "stderr",
     "output_type": "stream",
     "text": [
      "Training: 100%|██████████| 1825/1825 [00:03<00:00, 493.62it/s]\n",
      "Evaluation: 100%|██████████| 1825/1825 [00:02<00:00, 637.07it/s]\n"
     ]
    },
    {
     "name": "stdout",
     "output_type": "stream",
     "text": [
      "30 || valid_loss: 2.3356205117865785 | train_loss: 2.3292546894125743 | accuracy: 30.051137924194336 | val_accuracy: 29.484323501586914\n",
      "EarlyStopping counter: 3 out of 7\n"
     ]
    },
    {
     "name": "stderr",
     "output_type": "stream",
     "text": [
      "Training: 100%|██████████| 1825/1825 [00:03<00:00, 480.08it/s]\n",
      "Evaluation: 100%|██████████| 1825/1825 [00:02<00:00, 658.68it/s]\n"
     ]
    },
    {
     "name": "stdout",
     "output_type": "stream",
     "text": [
      "31 || valid_loss: 2.3325208628014344 | train_loss: 2.328587433540658 | accuracy: 30.195903778076172 | val_accuracy: 29.44663429260254\n",
      "Validation loss decreased (2.333683 --> 2.332521).  Saving model ...\n"
     ]
    },
    {
     "name": "stderr",
     "output_type": "stream",
     "text": [
      "Training: 100%|██████████| 1825/1825 [00:03<00:00, 506.69it/s]\n",
      "Evaluation: 100%|██████████| 1825/1825 [00:02<00:00, 649.76it/s]\n"
     ]
    },
    {
     "name": "stdout",
     "output_type": "stream",
     "text": [
      "32 || valid_loss: 2.3319010778975815 | train_loss: 2.328356636256388 | accuracy: 30.031436920166016 | val_accuracy: 29.621381759643555\n",
      "Validation loss decreased (2.332521 --> 2.331901).  Saving model ...\n"
     ]
    },
    {
     "name": "stderr",
     "output_type": "stream",
     "text": [
      "Training: 100%|██████████| 1825/1825 [00:03<00:00, 508.06it/s]\n",
      "Evaluation: 100%|██████████| 1825/1825 [00:02<00:00, 644.62it/s]\n"
     ]
    },
    {
     "name": "stdout",
     "output_type": "stream",
     "text": [
      "33 || valid_loss: 2.333212892584605 | train_loss: 2.3285618130148276 | accuracy: 30.12652015686035 | val_accuracy: 29.429500579833984\n",
      "EarlyStopping counter: 1 out of 7\n"
     ]
    },
    {
     "name": "stderr",
     "output_type": "stream",
     "text": [
      "Training: 100%|██████████| 1825/1825 [00:03<00:00, 488.98it/s]\n",
      "Evaluation: 100%|██████████| 1825/1825 [00:02<00:00, 659.86it/s]\n"
     ]
    },
    {
     "name": "stdout",
     "output_type": "stream",
     "text": [
      "34 || valid_loss: 2.3337352509041356 | train_loss: 2.327908402142459 | accuracy: 30.1513614654541 | val_accuracy: 29.21363639831543\n",
      "EarlyStopping counter: 2 out of 7\n"
     ]
    },
    {
     "name": "stderr",
     "output_type": "stream",
     "text": [
      "Training: 100%|██████████| 1825/1825 [00:03<00:00, 505.72it/s]\n",
      "Evaluation: 100%|██████████| 1825/1825 [00:02<00:00, 660.52it/s]\n"
     ]
    },
    {
     "name": "stdout",
     "output_type": "stream",
     "text": [
      "35 || valid_loss: 2.3313503698453513 | train_loss: 2.3274178933444087 | accuracy: 30.20018768310547 | val_accuracy: 29.648792266845703\n",
      "Validation loss decreased (2.331901 --> 2.331350).  Saving model ...\n"
     ]
    },
    {
     "name": "stderr",
     "output_type": "stream",
     "text": [
      "Training: 100%|██████████| 1825/1825 [00:03<00:00, 506.51it/s]\n",
      "Evaluation: 100%|██████████| 1825/1825 [00:02<00:00, 660.66it/s]\n"
     ]
    },
    {
     "name": "stdout",
     "output_type": "stream",
     "text": [
      "36 || valid_loss: 2.333791705876181 | train_loss: 2.3275744203018816 | accuracy: 30.077693939208984 | val_accuracy: 29.53229331970215\n",
      "EarlyStopping counter: 1 out of 7\n"
     ]
    },
    {
     "name": "stderr",
     "output_type": "stream",
     "text": [
      "Training: 100%|██████████| 1825/1825 [00:03<00:00, 505.80it/s]\n",
      "Evaluation: 100%|██████████| 1825/1825 [00:02<00:00, 660.77it/s]\n"
     ]
    },
    {
     "name": "stdout",
     "output_type": "stream",
     "text": [
      "37 || valid_loss: 2.333135616289426 | train_loss: 2.327056890252518 | accuracy: 30.108530044555664 | val_accuracy: 29.761863708496094\n",
      "EarlyStopping counter: 2 out of 7\n"
     ]
    },
    {
     "name": "stderr",
     "output_type": "stream",
     "text": [
      "Training: 100%|██████████| 1825/1825 [00:03<00:00, 506.93it/s]\n",
      "Evaluation: 100%|██████████| 1825/1825 [00:02<00:00, 661.31it/s]\n"
     ]
    },
    {
     "name": "stdout",
     "output_type": "stream",
     "text": [
      "38 || valid_loss: 2.3316863971866972 | train_loss: 2.3266897588886626 | accuracy: 30.193334579467773 | val_accuracy: 29.580263137817383\n",
      "EarlyStopping counter: 3 out of 7\n"
     ]
    },
    {
     "name": "stderr",
     "output_type": "stream",
     "text": [
      "Training: 100%|██████████| 1825/1825 [00:03<00:00, 500.56it/s]\n",
      "Evaluation: 100%|██████████| 1825/1825 [00:02<00:00, 658.98it/s]\n"
     ]
    },
    {
     "name": "stdout",
     "output_type": "stream",
     "text": [
      "39 || valid_loss: 2.3299808692278927 | train_loss: 2.326451287857474 | accuracy: 30.26957130432129 | val_accuracy: 29.89549446105957\n",
      "Validation loss decreased (2.331350 --> 2.329981).  Saving model ...\n"
     ]
    },
    {
     "name": "stderr",
     "output_type": "stream",
     "text": [
      "Training: 100%|██████████| 1825/1825 [00:03<00:00, 506.85it/s]\n",
      "Evaluation: 100%|██████████| 1825/1825 [00:02<00:00, 660.94it/s]\n"
     ]
    },
    {
     "name": "stdout",
     "output_type": "stream",
     "text": [
      "40 || valid_loss: 2.332642972175389 | train_loss: 2.32589332005749 | accuracy: 30.28327751159668 | val_accuracy: 29.090286254882812\n",
      "EarlyStopping counter: 1 out of 7\n"
     ]
    },
    {
     "name": "stderr",
     "output_type": "stream",
     "text": [
      "Training: 100%|██████████| 1825/1825 [00:03<00:00, 508.36it/s]\n",
      "Evaluation: 100%|██████████| 1825/1825 [00:02<00:00, 660.86it/s]\n"
     ]
    },
    {
     "name": "stdout",
     "output_type": "stream",
     "text": [
      "41 || valid_loss: 2.3296281653887605 | train_loss: 2.3263503560627976 | accuracy: 30.210466384887695 | val_accuracy: 29.621381759643555\n",
      "Validation loss decreased (2.329981 --> 2.329628).  Saving model ...\n"
     ]
    },
    {
     "name": "stderr",
     "output_type": "stream",
     "text": [
      "Training: 100%|██████████| 1825/1825 [00:03<00:00, 507.81it/s]\n",
      "Evaluation: 100%|██████████| 1825/1825 [00:02<00:00, 662.05it/s]\n"
     ]
    },
    {
     "name": "stdout",
     "output_type": "stream",
     "text": [
      "42 || valid_loss: 2.330276918607215 | train_loss: 2.3260517649454613 | accuracy: 30.227598190307617 | val_accuracy: 29.761863708496094\n",
      "EarlyStopping counter: 1 out of 7\n"
     ]
    },
    {
     "name": "stderr",
     "output_type": "stream",
     "text": [
      "Training: 100%|██████████| 1825/1825 [00:03<00:00, 507.39it/s]\n",
      "Evaluation: 100%|██████████| 1825/1825 [00:02<00:00, 662.45it/s]\n"
     ]
    },
    {
     "name": "stdout",
     "output_type": "stream",
     "text": [
      "43 || valid_loss: 2.3294118472321395 | train_loss: 2.3258008106440715 | accuracy: 30.18733787536621 | val_accuracy: 29.66935157775879\n",
      "Validation loss decreased (2.329628 --> 2.329412).  Saving model ...\n"
     ]
    },
    {
     "name": "stderr",
     "output_type": "stream",
     "text": [
      "Training: 100%|██████████| 1825/1825 [00:03<00:00, 506.72it/s]\n",
      "Evaluation: 100%|██████████| 1825/1825 [00:02<00:00, 658.18it/s]\n"
     ]
    },
    {
     "name": "stdout",
     "output_type": "stream",
     "text": [
      "44 || valid_loss: 2.3320196912713245 | train_loss: 2.3254460632637755 | accuracy: 30.218175888061523 | val_accuracy: 29.648792266845703\n",
      "EarlyStopping counter: 1 out of 7\n"
     ]
    },
    {
     "name": "stderr",
     "output_type": "stream",
     "text": [
      "Training: 100%|██████████| 1825/1825 [00:03<00:00, 506.68it/s]\n",
      "Evaluation: 100%|██████████| 1825/1825 [00:02<00:00, 660.89it/s]\n"
     ]
    },
    {
     "name": "stdout",
     "output_type": "stream",
     "text": [
      "45 || valid_loss: 2.3293863529701757 | train_loss: 2.325388464731713 | accuracy: 30.12908935546875 | val_accuracy: 29.902347564697266\n",
      "Validation loss decreased (2.329412 --> 2.329386).  Saving model ...\n"
     ]
    },
    {
     "name": "stderr",
     "output_type": "stream",
     "text": [
      "Training: 100%|██████████| 1825/1825 [00:03<00:00, 494.24it/s]\n",
      "Evaluation: 100%|██████████| 1825/1825 [00:02<00:00, 636.72it/s]\n"
     ]
    },
    {
     "name": "stdout",
     "output_type": "stream",
     "text": [
      "46 || valid_loss: 2.3313587208969953 | train_loss: 2.325095234962359 | accuracy: 30.243873596191406 | val_accuracy: 29.662498474121094\n",
      "EarlyStopping counter: 1 out of 7\n"
     ]
    },
    {
     "name": "stderr",
     "output_type": "stream",
     "text": [
      "Training: 100%|██████████| 1825/1825 [00:03<00:00, 484.29it/s]\n",
      "Evaluation: 100%|██████████| 1825/1825 [00:02<00:00, 655.56it/s]\n"
     ]
    },
    {
     "name": "stdout",
     "output_type": "stream",
     "text": [
      "47 || valid_loss: 2.3287078276072464 | train_loss: 2.325065650809301 | accuracy: 30.38863754272461 | val_accuracy: 29.820112228393555\n",
      "Validation loss decreased (2.329386 --> 2.328708).  Saving model ...\n"
     ]
    },
    {
     "name": "stderr",
     "output_type": "stream",
     "text": [
      "Training: 100%|██████████| 1825/1825 [00:03<00:00, 497.08it/s]\n",
      "Evaluation: 100%|██████████| 1825/1825 [00:02<00:00, 657.63it/s]\n"
     ]
    },
    {
     "name": "stdout",
     "output_type": "stream",
     "text": [
      "48 || valid_loss: 2.3285110837466094 | train_loss: 2.3251773447533175 | accuracy: 30.293556213378906 | val_accuracy: 29.6556453704834\n",
      "Validation loss decreased (2.328708 --> 2.328511).  Saving model ...\n"
     ]
    },
    {
     "name": "stderr",
     "output_type": "stream",
     "text": [
      "Training: 100%|██████████| 1825/1825 [00:03<00:00, 504.21it/s]\n",
      "Evaluation: 100%|██████████| 1825/1825 [00:02<00:00, 658.48it/s]\n"
     ]
    },
    {
     "name": "stdout",
     "output_type": "stream",
     "text": [
      "49 || valid_loss: 2.3301933410069715 | train_loss: 2.3247602230228788 | accuracy: 30.36122703552246 | val_accuracy: 29.74130630493164\n",
      "EarlyStopping counter: 1 out of 7\n"
     ]
    },
    {
     "name": "stderr",
     "output_type": "stream",
     "text": [
      "Training: 100%|██████████| 1825/1825 [00:03<00:00, 505.61it/s]\n",
      "Evaluation: 100%|██████████| 1825/1825 [00:02<00:00, 659.06it/s]\n"
     ]
    },
    {
     "name": "stdout",
     "output_type": "stream",
     "text": [
      "50 || valid_loss: 2.3300634487361123 | train_loss: 2.324810180794703 | accuracy: 30.213035583496094 | val_accuracy: 29.54942512512207\n",
      "EarlyStopping counter: 2 out of 7\n"
     ]
    },
    {
     "name": "stderr",
     "output_type": "stream",
     "text": [
      "Training: 100%|██████████| 1825/1825 [00:03<00:00, 505.36it/s]\n",
      "Evaluation: 100%|██████████| 1825/1825 [00:02<00:00, 659.53it/s]\n"
     ]
    },
    {
     "name": "stdout",
     "output_type": "stream",
     "text": [
      "51 || valid_loss: 2.3303317331941162 | train_loss: 2.324292093433746 | accuracy: 30.276424407958984 | val_accuracy: 29.88178825378418\n",
      "EarlyStopping counter: 3 out of 7\n"
     ]
    },
    {
     "name": "stderr",
     "output_type": "stream",
     "text": [
      "Training: 100%|██████████| 1825/1825 [00:03<00:00, 501.28it/s]\n",
      "Evaluation: 100%|██████████| 1825/1825 [00:02<00:00, 642.36it/s]\n"
     ]
    },
    {
     "name": "stdout",
     "output_type": "stream",
     "text": [
      "52 || valid_loss: 2.3304943483822966 | train_loss: 2.3245872123927285 | accuracy: 30.3004093170166 | val_accuracy: 29.50830841064453\n",
      "EarlyStopping counter: 4 out of 7\n"
     ]
    },
    {
     "name": "stderr",
     "output_type": "stream",
     "text": [
      "Training: 100%|██████████| 1825/1825 [00:03<00:00, 503.81it/s]\n",
      "Evaluation: 100%|██████████| 1825/1825 [00:02<00:00, 657.26it/s]\n"
     ]
    },
    {
     "name": "stdout",
     "output_type": "stream",
     "text": [
      "53 || valid_loss: 2.3320460595823316 | train_loss: 2.3241938786963896 | accuracy: 30.229310989379883 | val_accuracy: 29.405515670776367\n",
      "EarlyStopping counter: 5 out of 7\n"
     ]
    },
    {
     "name": "stderr",
     "output_type": "stream",
     "text": [
      "Training: 100%|██████████| 1825/1825 [00:03<00:00, 504.13it/s]\n",
      "Evaluation: 100%|██████████| 1825/1825 [00:02<00:00, 658.81it/s]\n"
     ]
    },
    {
     "name": "stdout",
     "output_type": "stream",
     "text": [
      "54 || valid_loss: 2.3280981208853526 | train_loss: 2.323961946931604 | accuracy: 30.235307693481445 | val_accuracy: 29.696762084960938\n",
      "Validation loss decreased (2.328511 --> 2.328098).  Saving model ...\n"
     ]
    },
    {
     "name": "stderr",
     "output_type": "stream",
     "text": [
      "Training: 100%|██████████| 1825/1825 [00:03<00:00, 498.00it/s]\n",
      "Evaluation: 100%|██████████| 1825/1825 [00:02<00:00, 657.51it/s]\n"
     ]
    },
    {
     "name": "stdout",
     "output_type": "stream",
     "text": [
      "55 || valid_loss: 2.3284830708699684 | train_loss: 2.3236816491166206 | accuracy: 30.41090965270996 | val_accuracy: 29.74130630493164\n",
      "EarlyStopping counter: 1 out of 7\n"
     ]
    },
    {
     "name": "stderr",
     "output_type": "stream",
     "text": [
      "Training: 100%|██████████| 1825/1825 [00:03<00:00, 504.30it/s]\n",
      "Evaluation: 100%|██████████| 1825/1825 [00:02<00:00, 658.78it/s]\n"
     ]
    },
    {
     "name": "stdout",
     "output_type": "stream",
     "text": [
      "56 || valid_loss: 2.3283040383743914 | train_loss: 2.323590267521061 | accuracy: 30.358657836914062 | val_accuracy: 29.85437774658203\n",
      "EarlyStopping counter: 2 out of 7\n"
     ]
    },
    {
     "name": "stderr",
     "output_type": "stream",
     "text": [
      "Training: 100%|██████████| 1825/1825 [00:03<00:00, 497.63it/s]\n",
      "Evaluation: 100%|██████████| 1825/1825 [00:02<00:00, 643.89it/s]\n"
     ]
    },
    {
     "name": "stdout",
     "output_type": "stream",
     "text": [
      "57 || valid_loss: 2.3274854081297573 | train_loss: 2.3233657622663944 | accuracy: 30.373218536376953 | val_accuracy: 29.885215759277344\n",
      "Validation loss decreased (2.328098 --> 2.327485).  Saving model ...\n"
     ]
    },
    {
     "name": "stderr",
     "output_type": "stream",
     "text": [
      "Training: 100%|██████████| 1825/1825 [00:03<00:00, 495.48it/s]\n",
      "Evaluation: 100%|██████████| 1825/1825 [00:02<00:00, 656.46it/s]\n"
     ]
    },
    {
     "name": "stdout",
     "output_type": "stream",
     "text": [
      "58 || valid_loss: 2.327029489556404 | train_loss: 2.3233347794780994 | accuracy: 30.31925392150879 | val_accuracy: 29.78242301940918\n",
      "Validation loss decreased (2.327485 --> 2.327029).  Saving model ...\n"
     ]
    },
    {
     "name": "stderr",
     "output_type": "stream",
     "text": [
      "Training: 100%|██████████| 1825/1825 [00:03<00:00, 505.34it/s]\n",
      "Evaluation: 100%|██████████| 1825/1825 [00:02<00:00, 658.68it/s]\n"
     ]
    },
    {
     "name": "stdout",
     "output_type": "stream",
     "text": [
      "59 || valid_loss: 2.333523923860837 | train_loss: 2.3230777109485783 | accuracy: 30.358657836914062 | val_accuracy: 29.569984436035156\n",
      "EarlyStopping counter: 1 out of 7\n"
     ]
    },
    {
     "name": "stderr",
     "output_type": "stream",
     "text": [
      "Training: 100%|██████████| 1825/1825 [00:03<00:00, 503.47it/s]\n",
      "Evaluation: 100%|██████████| 1825/1825 [00:02<00:00, 658.72it/s]\n"
     ]
    },
    {
     "name": "stdout",
     "output_type": "stream",
     "text": [
      "60 || valid_loss: 2.326939029824244 | train_loss: 2.3231090408481965 | accuracy: 30.401487350463867 | val_accuracy: 29.87836265563965\n",
      "Validation loss decreased (2.327029 --> 2.326939).  Saving model ...\n"
     ]
    },
    {
     "name": "stderr",
     "output_type": "stream",
     "text": [
      "Training: 100%|██████████| 1825/1825 [00:03<00:00, 505.13it/s]\n",
      "Evaluation: 100%|██████████| 1825/1825 [00:02<00:00, 655.94it/s]\n"
     ]
    },
    {
     "name": "stdout",
     "output_type": "stream",
     "text": [
      "61 || valid_loss: 2.3284805151534407 | train_loss: 2.322759987818052 | accuracy: 30.42375946044922 | val_accuracy: 29.850950241088867\n",
      "EarlyStopping counter: 1 out of 7\n"
     ]
    },
    {
     "name": "stderr",
     "output_type": "stream",
     "text": [
      "Training: 100%|██████████| 1825/1825 [00:03<00:00, 505.69it/s]\n",
      "Evaluation: 100%|██████████| 1825/1825 [00:02<00:00, 659.39it/s]\n"
     ]
    },
    {
     "name": "stdout",
     "output_type": "stream",
     "text": [
      "62 || valid_loss: 2.331332476302369 | train_loss: 2.322883102730529 | accuracy: 30.389493942260742 | val_accuracy: 29.34041404724121\n",
      "EarlyStopping counter: 2 out of 7\n"
     ]
    },
    {
     "name": "stderr",
     "output_type": "stream",
     "text": [
      "Training: 100%|██████████| 1825/1825 [00:03<00:00, 501.53it/s]\n",
      "Evaluation: 100%|██████████| 1825/1825 [00:02<00:00, 633.24it/s]\n"
     ]
    },
    {
     "name": "stdout",
     "output_type": "stream",
     "text": [
      "63 || valid_loss: 2.329661003988083 | train_loss: 2.322640649194587 | accuracy: 30.334672927856445 | val_accuracy: 29.484323501586914\n",
      "EarlyStopping counter: 3 out of 7\n"
     ]
    },
    {
     "name": "stderr",
     "output_type": "stream",
     "text": [
      "Training: 100%|██████████| 1825/1825 [00:03<00:00, 504.52it/s]\n",
      "Evaluation: 100%|██████████| 1825/1825 [00:02<00:00, 658.56it/s]\n"
     ]
    },
    {
     "name": "stdout",
     "output_type": "stream",
     "text": [
      "64 || valid_loss: 2.3303748006036837 | train_loss: 2.322606075953131 | accuracy: 30.38092803955078 | val_accuracy: 29.319856643676758\n",
      "EarlyStopping counter: 4 out of 7\n"
     ]
    },
    {
     "name": "stderr",
     "output_type": "stream",
     "text": [
      "Training: 100%|██████████| 1825/1825 [00:03<00:00, 503.23it/s]\n",
      "Evaluation: 100%|██████████| 1825/1825 [00:02<00:00, 658.02it/s]\n"
     ]
    },
    {
     "name": "stdout",
     "output_type": "stream",
     "text": [
      "65 || valid_loss: 2.3293823087378724 | train_loss: 2.3226763581576413 | accuracy: 30.303834915161133 | val_accuracy: 29.652217864990234\n",
      "EarlyStopping counter: 5 out of 7\n"
     ]
    },
    {
     "name": "stderr",
     "output_type": "stream",
     "text": [
      "Training: 100%|██████████| 1825/1825 [00:03<00:00, 504.92it/s]\n",
      "Evaluation: 100%|██████████| 1825/1825 [00:02<00:00, 657.46it/s]\n"
     ]
    },
    {
     "name": "stdout",
     "output_type": "stream",
     "text": [
      "66 || valid_loss: 2.327460452628462 | train_loss: 2.32237548841189 | accuracy: 30.3997745513916 | val_accuracy: 29.809833526611328\n",
      "EarlyStopping counter: 6 out of 7\n"
     ]
    },
    {
     "name": "stderr",
     "output_type": "stream",
     "text": [
      "Training: 100%|██████████| 1825/1825 [00:03<00:00, 505.56it/s]\n",
      "Evaluation: 100%|██████████| 1825/1825 [00:02<00:00, 659.21it/s]"
     ]
    },
    {
     "name": "stdout",
     "output_type": "stream",
     "text": [
      "67 || valid_loss: 2.330369586617979 | train_loss: 2.3223543667466675 | accuracy: 30.41347885131836 | val_accuracy: 29.689908981323242\n",
      "EarlyStopping counter: 7 out of 7\n",
      "Early stopping\n"
     ]
    },
    {
     "name": "stderr",
     "output_type": "stream",
     "text": [
      "\n"
     ]
    }
   ],
   "source": [
    "lr = 1e-3\n",
    "epochs = 1024\n",
    "history1 = fit(epochs, lr, model, train_loader, val_loader)"
   ]
  },
  {
   "cell_type": "code",
   "execution_count": 85,
   "metadata": {},
   "outputs": [
    {
     "name": "stdout",
     "output_type": "stream",
     "text": [
      "Checking accuracy on test data\n"
     ]
    },
    {
     "name": "stderr",
     "output_type": "stream",
     "text": [
      "100%|██████████| 1825/1825 [00:00<00:00, 7659.95it/s]"
     ]
    },
    {
     "name": "stdout",
     "output_type": "stream",
     "text": [
      "Got 8665 / 29185 with accuracy 29.69\n"
     ]
    },
    {
     "name": "stderr",
     "output_type": "stream",
     "text": [
      "\n"
     ]
    }
   ],
   "source": [
    "check_accuracy(val_loader, model)"
   ]
  },
  {
   "cell_type": "markdown",
   "metadata": {},
   "source": [
    "<hr><hr><hr>"
   ]
  },
  {
   "cell_type": "markdown",
   "metadata": {},
   "source": [
    "## Tensorflow Implementation"
   ]
  },
  {
   "cell_type": "code",
   "execution_count": null,
   "metadata": {},
   "outputs": [],
   "source": [
    "train_set, test_set = train_test_split(df, test_size = 0.2, random_state = 42)\n",
    "# training set\n",
    "X_train = train_set.values[:,1:]\n",
    "y_train = train_set.values[:,0]\n",
    "\n",
    "# test set\n",
    "X_test = test_set.values[:,1:]\n",
    "y_test = test_set.values[:,0]"
   ]
  },
  {
   "cell_type": "code",
   "execution_count": null,
   "metadata": {},
   "outputs": [],
   "source": [
    "from sklearn.preprocessing import StandardScaler\n",
    "\n",
    "standard_scaler = StandardScaler().fit(X_train)\n",
    "\n",
    "# Standard Scaler\n",
    "X_train_ST = standard_scaler.transform(X_train)\n",
    "X_test_ST = standard_scaler.transform(X_test)"
   ]
  },
  {
   "cell_type": "markdown",
   "metadata": {},
   "source": [
    "The labels need to be converted into a form that can be understood by the models, One hot encoding will be used here"
   ]
  },
  {
   "cell_type": "code",
   "execution_count": null,
   "metadata": {},
   "outputs": [],
   "source": [
    "# obtaining all unique classes\n",
    "unique = np.unique(y_train)"
   ]
  },
  {
   "cell_type": "code",
   "execution_count": null,
   "metadata": {},
   "outputs": [],
   "source": [
    "from sklearn.preprocessing import label_binarize\n",
    "from sklearn.preprocessing import LabelEncoder\n",
    "# 1 hot encoding\n",
    "y_test_1hot = label_binarize(y_test, classes = unique)\n",
    "y_train_1hot = label_binarize(y_train, classes = unique)\n",
    "\n",
    "# labelling\n",
    "y_test_label = LabelEncoder()"
   ]
  },
  {
   "cell_type": "code",
   "execution_count": null,
   "metadata": {},
   "outputs": [],
   "source": [
    "from keras.models import Sequential\n",
    "from keras.layers import Dense, Dropout\n",
    "from sklearn.preprocessing import LabelEncoder\n",
    "from keras.callbacks import EarlyStopping\n",
    "\n",
    "def baseline_model():\n",
    "\tmodel = Sequential()\n",
    "\tmodel.add(Dense(32, input_dim=len(X_train_ST[0]), activation='relu'))\n",
    "\tmodel.add(Dropout(0.5))\n",
    "\tmodel.add(Dense(len(y_train_1hot[0]), activation='softmax'))\n",
    "\tmodel.compile(loss='categorical_crossentropy', optimizer='adam', metrics=['accuracy'])\n",
    "\treturn model\n",
    "\n",
    "callback = EarlyStopping(monitor='val_loss', patience=20)\n",
    "\n",
    "model = baseline_model()\n",
    "history = model.fit(X_train_ST, y_train_1hot, validation_split=0.10, epochs=512, verbose=1, callbacks=[callback])"
   ]
  }
 ],
 "metadata": {
  "kernelspec": {
   "display_name": "Python 3",
   "language": "python",
   "name": "python3"
  },
  "language_info": {
   "codemirror_mode": {
    "name": "ipython",
    "version": 3
   },
   "file_extension": ".py",
   "mimetype": "text/x-python",
   "name": "python",
   "nbconvert_exporter": "python",
   "pygments_lexer": "ipython3",
   "version": "3.8.12"
  }
 },
 "nbformat": 4,
 "nbformat_minor": 4
}
